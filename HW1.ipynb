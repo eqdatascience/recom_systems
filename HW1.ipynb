{
  "nbformat": 4,
  "nbformat_minor": 0,
  "metadata": {
    "colab": {
      "name": "HW1.ipynb",
      "provenance": [],
      "collapsed_sections": []
    },
    "kernelspec": {
      "name": "python3",
      "display_name": "Python 3"
    },
    "language_info": {
      "name": "python"
    }
  },
  "cells": [
    {
      "cell_type": "code",
      "metadata": {
        "id": "jBlM3j_VT75u"
      },
      "source": [
        "import pandas as pd\n",
        "import numpy as np"
      ],
      "execution_count": 2,
      "outputs": []
    },
    {
      "cell_type": "code",
      "metadata": {
        "id": "h6bTkzQJT777"
      },
      "source": [
        "recommended_list = [143, 156, 1134, 991, 27, 1543, 3345, 533, 11, 43] #id товаров\n",
        "bought_list = [521, 32, 143, 991]\n",
        "prices_recommended = [400, 60, 40, 40 , 90, 70, 55, 100,30,20]\n",
        "prices_bought = [150,30,400,40]"
      ],
      "execution_count": 36,
      "outputs": []
    },
    {
      "cell_type": "markdown",
      "metadata": {
        "id": "dZOA-k5iUo0D"
      },
      "source": [
        "**1 hit rate at *k***"
      ]
    },
    {
      "cell_type": "code",
      "metadata": {
        "id": "d8QjFH_2T7_g"
      },
      "source": [
        "def hit_rate(recommended_list, bought_list):\n",
        "    \n",
        "    bought_list = np.array(bought_list)\n",
        "    recommended_list = np.array(recommended_list)\n",
        "    \n",
        "    flags = np.isin(bought_list, recommended_list)\n",
        "    \n",
        "    hit_rate = (flags.sum() > 0) * 1\n",
        "    \n",
        "    return hit_rate\n",
        "\n",
        "\n",
        "def hit_rate_at_k(recommended_list, bought_list, k=5):\n",
        "    \n",
        "    bought_list = np.array(bought_list)\n",
        "    recommended_list = np.array(recommended_list[:k])\n",
        "    \n",
        "    flags = np.isin(bought_list, recommended_list)\n",
        "    \n",
        "    hit_rate = (flags.sum() > 0) * 1    \n",
        "    return hit_rate"
      ],
      "execution_count": 1,
      "outputs": []
    },
    {
      "cell_type": "code",
      "metadata": {
        "colab": {
          "base_uri": "https://localhost:8080/"
        },
        "id": "-ltXIYszUBbr",
        "outputId": "e5fd744d-a975-4abb-e785-e19747642267"
      },
      "source": [
        "hit_rate(recommended_list, bought_list)"
      ],
      "execution_count": 5,
      "outputs": [
        {
          "output_type": "execute_result",
          "data": {
            "text/plain": [
              "1"
            ]
          },
          "metadata": {},
          "execution_count": 5
        }
      ]
    },
    {
      "cell_type": "code",
      "metadata": {
        "colab": {
          "base_uri": "https://localhost:8080/"
        },
        "id": "W0_9T3jqUM85",
        "outputId": "3ec5cc6b-faa8-4a41-de08-ceb6a1de6ed7"
      },
      "source": [
        "hit_rate_at_k(recommended_list, bought_list)"
      ],
      "execution_count": 6,
      "outputs": [
        {
          "output_type": "execute_result",
          "data": {
            "text/plain": [
              "1"
            ]
          },
          "metadata": {},
          "execution_count": 6
        }
      ]
    },
    {
      "cell_type": "markdown",
      "metadata": {
        "id": "vnSpMxQsVA90"
      },
      "source": [
        "**2 money_precision_at_k**"
      ]
    },
    {
      "cell_type": "code",
      "metadata": {
        "id": "NbMrxwOIUTig"
      },
      "source": [
        "def precision(recommended_list, bought_list):\n",
        "    \n",
        "    bought_list = np.array(bought_list)\n",
        "    recommended_list = np.array(recommended_list)\n",
        "    \n",
        "    flags = np.isin(bought_list, recommended_list)\n",
        "    \n",
        "    precision = flags.sum() / len(recommended_list)\n",
        "    \n",
        "    return precision\n",
        "\n",
        "\n",
        "def precision_at_k(recommended_list, bought_list, k=5):\n",
        "    \n",
        "    bought_list = np.array(bought_list)\n",
        "    recommended_list = np.array(recommended_list)\n",
        "    \n",
        "    bought_list = bought_list  # Тут нет [:k] !!\n",
        "    recommended_list = recommended_list[:k]\n",
        "    \n",
        "    flags = np.isin(bought_list, recommended_list)\n",
        "    \n",
        "    precision = flags.sum() / len(recommended_list)\n",
        "    \n",
        "    \n",
        "    return precision\n",
        "\n",
        "\n",
        "def money_precision_at_k(recommended_list, bought_list, prices_recommended, k=5):\n",
        "        \n",
        "    # your_code\n",
        "    bought_list = np.array(bought_list)\n",
        "    recommended_list = np.array(recommended_list)\n",
        "    prices_recommended = np.array(prices_recommended[:k])\n",
        "    \n",
        "    bought_list = bought_list  # Тут нет [:k] !!\n",
        "    recommended_list = recommended_list[:k]\n",
        "    \n",
        "    flags = np.isin(recommended_list,bought_list)\n",
        "\n",
        "    precision = (flags*prices_recommended).sum()/prices_recommended.sum()\n",
        "    #precision = flags.sum() / len(recommended_list)\n",
        "    \n",
        "    return precision"
      ],
      "execution_count": 26,
      "outputs": []
    },
    {
      "cell_type": "code",
      "metadata": {
        "colab": {
          "base_uri": "https://localhost:8080/"
        },
        "id": "80Dg4vqaXJJy",
        "outputId": "df7fec6a-3a6d-418f-be01-086c83acdebe"
      },
      "source": [
        "precision(recommended_list, bought_list)"
      ],
      "execution_count": 8,
      "outputs": [
        {
          "output_type": "execute_result",
          "data": {
            "text/plain": [
              "0.2"
            ]
          },
          "metadata": {},
          "execution_count": 8
        }
      ]
    },
    {
      "cell_type": "code",
      "metadata": {
        "colab": {
          "base_uri": "https://localhost:8080/"
        },
        "id": "ut8RZmhZXMzu",
        "outputId": "c3de7b06-f7b7-438e-9dd9-c908b5c0dbd6"
      },
      "source": [
        "precision_at_k(recommended_list, bought_list, k=5)"
      ],
      "execution_count": 9,
      "outputs": [
        {
          "output_type": "execute_result",
          "data": {
            "text/plain": [
              "0.4"
            ]
          },
          "metadata": {},
          "execution_count": 9
        }
      ]
    },
    {
      "cell_type": "code",
      "metadata": {
        "colab": {
          "base_uri": "https://localhost:8080/"
        },
        "id": "95wAPKg6XQQz",
        "outputId": "df48d302-3711-45cb-92b3-3791eb2fcb9e"
      },
      "source": [
        "precision_at_k(recommended_list, bought_list, k=3)"
      ],
      "execution_count": 10,
      "outputs": [
        {
          "output_type": "execute_result",
          "data": {
            "text/plain": [
              "0.3333333333333333"
            ]
          },
          "metadata": {},
          "execution_count": 10
        }
      ]
    },
    {
      "cell_type": "code",
      "metadata": {
        "colab": {
          "base_uri": "https://localhost:8080/"
        },
        "id": "vZBIU-NIXSzf",
        "outputId": "88e672fd-5ff0-46e8-8da9-1937d46db7a6"
      },
      "source": [
        "money_precision_at_k(recommended_list, bought_list, prices_recommended, k=5)"
      ],
      "execution_count": 30,
      "outputs": [
        {
          "output_type": "execute_result",
          "data": {
            "text/plain": [
              "0.6984126984126984"
            ]
          },
          "metadata": {},
          "execution_count": 30
        }
      ]
    },
    {
      "cell_type": "markdown",
      "metadata": {
        "id": "hRhCWBEEawSl"
      },
      "source": [
        "**3,4 recall_at_k, money_recall_at_k**"
      ]
    },
    {
      "cell_type": "code",
      "metadata": {
        "id": "Lr0HupK-a-rn"
      },
      "source": [
        "def recall(recommended_list, bought_list):\n",
        "    \n",
        "    bought_list = np.array(bought_list)\n",
        "    recommended_list = np.array(recommended_list)\n",
        "    \n",
        "    flags = np.isin(bought_list, recommended_list)\n",
        "    \n",
        "    recall = flags.sum() / len(bought_list)\n",
        "    \n",
        "    return recall\n",
        "\n",
        "\n",
        "def recall_at_k(recommended_list, bought_list, k=5):\n",
        "    \n",
        "    bought_list = np.array(bought_list)\n",
        "    recommended_list = np.array(recommended_list[:5])\n",
        "    \n",
        "    flags = np.isin(bought_list, recommended_list)\n",
        "    \n",
        "    recall = flags.sum() / len(bought_list)\n",
        "    \n",
        "    return recall\n",
        "\n",
        "\n",
        "def money_recall_at_k(recommended_list, bought_list, prices_recommended, prices_bought, k=5):\n",
        "    \n",
        "    bought_list = np.array(bought_list)\n",
        "    recommended_list = np.array(recommended_list[:5])\n",
        "    prices_bought = np.array(prices_bought)\n",
        "    \n",
        "    flags = np.isin(bought_list, recommended_list)\n",
        "    \n",
        "    recall = (flags*prices_bought).sum() / prices_bought.sum()\n",
        "    \n",
        "    return recall"
      ],
      "execution_count": 39,
      "outputs": []
    },
    {
      "cell_type": "code",
      "metadata": {
        "colab": {
          "base_uri": "https://localhost:8080/"
        },
        "id": "1XbgXRnNceZw",
        "outputId": "4f3ee543-f3a8-4b11-8d85-24269435a08c"
      },
      "source": [
        "recall(recommended_list, bought_list)"
      ],
      "execution_count": 33,
      "outputs": [
        {
          "output_type": "execute_result",
          "data": {
            "text/plain": [
              "0.5"
            ]
          },
          "metadata": {},
          "execution_count": 33
        }
      ]
    },
    {
      "cell_type": "code",
      "metadata": {
        "colab": {
          "base_uri": "https://localhost:8080/"
        },
        "id": "J9W6I44oce0i",
        "outputId": "ad7c26fd-5d6e-4480-8640-f0e9499949e9"
      },
      "source": [
        "recall_at_k(recommended_list, bought_list, k=5)"
      ],
      "execution_count": 35,
      "outputs": [
        {
          "output_type": "execute_result",
          "data": {
            "text/plain": [
              "0.5"
            ]
          },
          "metadata": {},
          "execution_count": 35
        }
      ]
    },
    {
      "cell_type": "code",
      "metadata": {
        "colab": {
          "base_uri": "https://localhost:8080/"
        },
        "id": "OUfbSMdTcfFw",
        "outputId": "e655d023-1437-4562-cd01-a63ec90f89af"
      },
      "source": [
        "money_recall_at_k(recommended_list, bought_list, prices_recommended, prices_bought, k=5)"
      ],
      "execution_count": 40,
      "outputs": [
        {
          "output_type": "execute_result",
          "data": {
            "text/plain": [
              "0.7096774193548387"
            ]
          },
          "metadata": {},
          "execution_count": 40
        }
      ]
    },
    {
      "cell_type": "markdown",
      "metadata": {
        "id": "M8tHj09Ha3ID"
      },
      "source": [
        "**5 map@k**"
      ]
    },
    {
      "cell_type": "code",
      "metadata": {
        "id": "lpFtqfAkie6I"
      },
      "source": [
        "_bought_list = [[521, 32, 143, 991], [27, 158, 11, 310],[]] # вложенный массив покупок юзеров\n",
        "# 3 юзера для примера"
      ],
      "execution_count": 57,
      "outputs": []
    },
    {
      "cell_type": "code",
      "metadata": {
        "id": "LT0b7hdqY30S"
      },
      "source": [
        "def ap_k(recommended_list, bought_list, k=5):\n",
        "    \n",
        "    bought_list = np.array(bought_list)\n",
        "    recommended_list = np.array(recommended_list)\n",
        "    \n",
        "    flags = np.isin(recommended_list, bought_list)\n",
        "    \n",
        "    if sum(flags) == 0:\n",
        "        return 0\n",
        "    \n",
        "    sum_ = 0\n",
        "    for i in range(0, k-1):\n",
        "        if flags[i] == True:\n",
        "            p_k = precision_at_k(recommended_list, bought_list, k=i+1)\n",
        "            sum_ += p_k\n",
        "            \n",
        "    result = sum_ / sum(flags)\n",
        "    \n",
        "    return result"
      ],
      "execution_count": 41,
      "outputs": []
    },
    {
      "cell_type": "code",
      "metadata": {
        "colab": {
          "base_uri": "https://localhost:8080/"
        },
        "id": "Yunmpv-0gVPG",
        "outputId": "900a2937-1e98-402c-bfda-29186a81a437"
      },
      "source": [
        "ap_k(recommended_list, bought_list, k=5)"
      ],
      "execution_count": 42,
      "outputs": [
        {
          "output_type": "execute_result",
          "data": {
            "text/plain": [
              "0.75"
            ]
          },
          "metadata": {},
          "execution_count": 42
        }
      ]
    },
    {
      "cell_type": "markdown",
      "metadata": {
        "id": "5XAbsvpVjY8Y"
      },
      "source": [
        "Предполагаем что всем юзерам отправили одинаковые рекоменлации"
      ]
    },
    {
      "cell_type": "code",
      "metadata": {
        "id": "i06v0Qa8gXjN"
      },
      "source": [
        "def map_k(recommended_list, bought_list, k=5):\n",
        "    \n",
        "    sum_ = 0\n",
        "    for user_list in bought_list:\n",
        "        sum_ += ap_k(recommended_list, user_list, k=k)\n",
        "    result = sum_/len(bought_list)\n",
        "    return result"
      ],
      "execution_count": 53,
      "outputs": []
    },
    {
      "cell_type": "code",
      "metadata": {
        "colab": {
          "base_uri": "https://localhost:8080/"
        },
        "id": "6Z8p4vePm0vE",
        "outputId": "3e2944c5-b2df-4e1a-feff-78ee3e3aec72"
      },
      "source": [
        "map_k(recommended_list, _bought_list, k=5)"
      ],
      "execution_count": 58,
      "outputs": [
        {
          "output_type": "execute_result",
          "data": {
            "text/plain": [
              "0.25"
            ]
          },
          "metadata": {},
          "execution_count": 58
        }
      ]
    },
    {
      "cell_type": "markdown",
      "metadata": {
        "id": "9SSF9BK1pJoY"
      },
      "source": [
        "**7 Mean Reciprocal Rank**"
      ]
    },
    {
      "cell_type": "code",
      "metadata": {
        "id": "fEYn2rLvnGCi"
      },
      "source": [
        "def reciprocal_rank(recommended_list, bought_list,k=5):\n",
        "    bought_list = np.array(bought_list)\n",
        "    recommended_list = np.array(recommended_list[:k])\n",
        "    sum_=0\n",
        "    for item in recommended_list:\n",
        "        flags = np.isin(bought_list,item)\n",
        "        if flags.sum()>0:\n",
        "            sum_ += 1/ (flags.argmax()+1)\n",
        "    result = sum_/len(recommended_list)\n",
        "    return result"
      ],
      "execution_count": 91,
      "outputs": []
    },
    {
      "cell_type": "code",
      "metadata": {
        "colab": {
          "base_uri": "https://localhost:8080/"
        },
        "id": "aEHLlajZqd51",
        "outputId": "dba02c80-237a-4e81-88a7-f04ae0bdcb67"
      },
      "source": [
        "reciprocal_rank(recommended_list, bought_list)"
      ],
      "execution_count": 92,
      "outputs": [
        {
          "output_type": "execute_result",
          "data": {
            "text/plain": [
              "0.11666666666666665"
            ]
          },
          "metadata": {},
          "execution_count": 92
        }
      ]
    },
    {
      "cell_type": "code",
      "metadata": {
        "id": "2wD7Bz-uqhHN"
      },
      "source": [
        ""
      ],
      "execution_count": null,
      "outputs": []
    }
  ]
}