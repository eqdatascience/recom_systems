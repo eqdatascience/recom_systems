{
 "cells": [
  {
   "cell_type": "markdown",
   "metadata": {
    "id": "Sb0oxqyN9Stm"
   },
   "source": [
    "# Курсовой проект. Двухуровневая рекомендательная система по данным соревнования Retail Hero\n"
   ]
  },
  {
   "cell_type": "markdown",
   "metadata": {
    "id": "tWKTLoPa9Stv"
   },
   "source": [
    "### Основное\n",
    "\n",
    "Дедлайн - 29 декабря 23:59\n",
    "Целевая метрика precision@5\n",
    "Бейзлайн решения - MainRecommender\n",
    "Сдаем ссылку на github с решением. На github должен быть файл recommendations.csv (user_id | [rec_1, rec_2, ...] с рекомендациями. rec_i - реальные id item-ов (из retail_train.csv)\n",
    "Hints:\n",
    "\n",
    "Сначала просто попробуйте разные параметры MainRecommender:\n",
    "\n",
    "N в топ-N товарах при формировании user-item матирцы (сейчас топ-5000)\n",
    "Различные веса в user-item матрице (0/1, кол-во покупок, log(кол-во покупок + 1), сумма покупки, ...)\n",
    "Разные взвешивания матрицы (TF-IDF, BM25 - у него есть параметры)\n",
    "Разные смешивания рекомендаций (обратите внимание на бейзлайн - прошлые покупки юзера)\n",
    "Сделайте MVP - минимально рабочий продукт - (пусть даже top-popular), а потом его улучшайте"
   ]
  },
  {
   "cell_type": "markdown",
   "metadata": {
    "id": "OKXy9Hx-9St1"
   },
   "source": [
    "---"
   ]
  },
  {
   "cell_type": "markdown",
   "metadata": {
    "id": "qXqJnvs19St4"
   },
   "source": [
    "### Применение в бизнесе\n",
    "\n",
    "- 2-ух уровневая система применяется во многих компаниях\n",
    "- Зачастую уровней > 2\n",
    "- Идем от более простых эвристик/моделей к более сложным\n",
    "- Фичи из моделей первого уровня (embeddings, biases из ALS) можно использовать в последующих моделях\n",
    "\n",
    "Также решения на основе 2-ух уровневых рекомендаций заняли все топ-10 мест в соревновании X5 Retail hero. "
   ]
  },
  {
   "cell_type": "markdown",
   "metadata": {
    "id": "P5d0iTYT9St7"
   },
   "source": [
    "### Как отбирать кандидатов?\n",
    "\n",
    "Вариантов множество. Тут нам поможет *MainRecommender*. Пока в нем реализованы далеко не все возможные способы генерации кандидатов\n",
    "\n",
    "- Генерируем топ-k кандидатов\n",
    "- Качество кандидатов измеряем через **recall@k**\n",
    "- recall@k показывает какую долю из купленных товаров мы смогли выявить (рекомендовать) нашей моделью"
   ]
  },
  {
   "cell_type": "markdown",
   "metadata": {
    "id": "GJHo23EB9St9"
   },
   "source": [
    "----"
   ]
  },
  {
   "cell_type": "markdown",
   "metadata": {
    "id": "JZ0HiaDNIQTD"
   },
   "source": [
    "Pipline:\n",
    "1. Рекомендуем 50 кандидатов среди товаров классическими методами\n",
    "2. Оцениваем recall@k нашу кандидатную выдачу (выдача моделями 1-го уровня)\n",
    "3. Получаем user-item датасет по кандидатным рекомендациям\n",
    "4. Для такого датасета проставляем target купил/не купил товар по истории взаимодействий\n",
    "5. На этом датасете строим lightGBM, предсказывающий купит или не купит пользователь данный товар\n",
    "6. Рекомендовано ознакомиться и попробовать Light AutoML"
   ]
  },
  {
   "cell_type": "markdown",
   "metadata": {
    "id": "baU6tBlh9St_"
   },
   "source": [
    "# Практическая часть\n",
    "\n",
    "Код для src, utils кастомизировал, recommender2 содержит метод, возвращающий user&item embeddings. Они пригодятся для модели второго уровня."
   ]
  },
  {
   "cell_type": "code",
   "execution_count": null,
   "metadata": {
    "colab": {
     "base_uri": "https://localhost:8080/"
    },
    "id": "rpvbguvO9cSq",
    "outputId": "c6b1dd59-1b7e-4b6c-b669-ca8df6d9e34b"
   },
   "outputs": [],
   "source": [
    "#!pip install implicit"
   ]
  },
  {
   "cell_type": "code",
   "execution_count": null,
   "metadata": {
    "colab": {
     "base_uri": "https://localhost:8080/"
    },
    "id": "40HWsKPl_zKR",
    "outputId": "7fcf9bf9-7389-40f4-8469-562044c1967c"
   },
   "outputs": [],
   "source": [
    "#Только для Colab\n",
    "from google.colab import drive\n",
    "drive.mount('/content/drive')\n",
    "root = root = '/content/drive/My Drive/Colab Notebooks/rec_sys/data/'"
   ]
  },
  {
   "cell_type": "code",
   "execution_count": 1,
   "metadata": {
    "id": "EonV0hfp9SuB"
   },
   "outputs": [],
   "source": [
    "import pandas as pd\n",
    "import numpy as np\n",
    "import matplotlib.pyplot as plt\n",
    "%matplotlib inline\n",
    "\n",
    "# Для работы с матрицами\n",
    "from scipy.sparse import csr_matrix\n",
    "\n",
    "# Матричная факторизация\n",
    "from implicit import als\n",
    "from implicit.nearest_neighbours import bm25_weight, tfidf_weight\n",
    "\n",
    "\n",
    "# Модель второго уровня\n",
    "from lightgbm import LGBMClassifier\n",
    "\n",
    "import pickle"
   ]
  },
  {
   "cell_type": "code",
   "execution_count": 2,
   "metadata": {
    "colab": {
     "base_uri": "https://localhost:8080/",
     "height": 1000
    },
    "id": "CdTaxXviRXob",
    "outputId": "8c95323e-f9b4-4ae9-cc86-c470d1ddf803"
   },
   "outputs": [],
   "source": [
    "#!pip install lightautoml"
   ]
  },
  {
   "cell_type": "code",
   "execution_count": 3,
   "metadata": {
    "id": "cBIo4JsbRRJe"
   },
   "outputs": [],
   "source": [
    "from lightautoml.automl.presets.tabular_presets import TabularAutoML, TabularUtilizedAutoML\n",
    "from lightautoml.tasks import Task\n",
    "from lightautoml.tasks.common_metric import mean_quantile_error"
   ]
  },
  {
   "cell_type": "code",
   "execution_count": 5,
   "metadata": {
    "id": "mIaZyRZeSmiF"
   },
   "outputs": [],
   "source": [
    "import os, sys\n",
    "module_path = os.path.abspath(os.path.join(os.pardir))\n",
    "if module_path not in sys.path:\n",
    "     sys.path.append(module_path)\n",
    "#sys.path.append('/content/drive/My Drive/Colab Notebooks/rec_sys')\n",
    "\n",
    "# Написанные нами функции\n",
    "from src.metrics import precision_at_k, recall_at_k\n",
    "from src.utils import prefilter_items\n",
    "from src.recommenders2 import MainRecommender"
   ]
  },
  {
   "cell_type": "markdown",
   "metadata": {
    "id": "Kr2Kn7mupZ3v"
   },
   "source": [
    "### Загружаем данные и разделяем их для валидации out of time: -9 недель -6 недель"
   ]
  },
  {
   "cell_type": "code",
   "execution_count": 6,
   "metadata": {
    "colab": {
     "base_uri": "https://localhost:8080/",
     "height": 112
    },
    "id": "unE5xaiH9SuF",
    "outputId": "21c91fc4-cd2e-4df4-d4de-342d7180badf"
   },
   "outputs": [
    {
     "data": {
      "text/html": [
       "<div>\n",
       "<style scoped>\n",
       "    .dataframe tbody tr th:only-of-type {\n",
       "        vertical-align: middle;\n",
       "    }\n",
       "\n",
       "    .dataframe tbody tr th {\n",
       "        vertical-align: top;\n",
       "    }\n",
       "\n",
       "    .dataframe thead th {\n",
       "        text-align: right;\n",
       "    }\n",
       "</style>\n",
       "<table border=\"1\" class=\"dataframe\">\n",
       "  <thead>\n",
       "    <tr style=\"text-align: right;\">\n",
       "      <th></th>\n",
       "      <th>user_id</th>\n",
       "      <th>basket_id</th>\n",
       "      <th>day</th>\n",
       "      <th>item_id</th>\n",
       "      <th>quantity</th>\n",
       "      <th>sales_value</th>\n",
       "      <th>store_id</th>\n",
       "      <th>retail_disc</th>\n",
       "      <th>trans_time</th>\n",
       "      <th>week_no</th>\n",
       "      <th>coupon_disc</th>\n",
       "      <th>coupon_match_disc</th>\n",
       "    </tr>\n",
       "  </thead>\n",
       "  <tbody>\n",
       "    <tr>\n",
       "      <th>0</th>\n",
       "      <td>2375</td>\n",
       "      <td>26984851472</td>\n",
       "      <td>1</td>\n",
       "      <td>1004906</td>\n",
       "      <td>1</td>\n",
       "      <td>1.39</td>\n",
       "      <td>364</td>\n",
       "      <td>-0.6</td>\n",
       "      <td>1631</td>\n",
       "      <td>1</td>\n",
       "      <td>0.0</td>\n",
       "      <td>0.0</td>\n",
       "    </tr>\n",
       "    <tr>\n",
       "      <th>1</th>\n",
       "      <td>2375</td>\n",
       "      <td>26984851472</td>\n",
       "      <td>1</td>\n",
       "      <td>1033142</td>\n",
       "      <td>1</td>\n",
       "      <td>0.82</td>\n",
       "      <td>364</td>\n",
       "      <td>0.0</td>\n",
       "      <td>1631</td>\n",
       "      <td>1</td>\n",
       "      <td>0.0</td>\n",
       "      <td>0.0</td>\n",
       "    </tr>\n",
       "  </tbody>\n",
       "</table>\n",
       "</div>"
      ],
      "text/plain": [
       "   user_id    basket_id  day  item_id  quantity  sales_value  store_id  \\\n",
       "0     2375  26984851472    1  1004906         1         1.39       364   \n",
       "1     2375  26984851472    1  1033142         1         0.82       364   \n",
       "\n",
       "   retail_disc  trans_time  week_no  coupon_disc  coupon_match_disc  \n",
       "0         -0.6        1631        1          0.0                0.0  \n",
       "1          0.0        1631        1          0.0                0.0  "
      ]
     },
     "execution_count": 6,
     "metadata": {},
     "output_type": "execute_result"
    }
   ],
   "source": [
    "data = pd.read_csv('../retail_train.csv')#(root+'retail_train.csv')\n",
    "item_features = pd.read_csv('../product.csv')#(root+'product.csv')\n",
    "user_features = pd.read_csv('../hh_demographic.csv')#(root+'hh_demographic.csv')\n",
    "\n",
    "# column processing\n",
    "#data.columns = [col.lower() for col in data.columns]\n",
    "item_features.columns = [col.lower() for col in item_features.columns]\n",
    "user_features.columns = [col.lower() for col in user_features.columns]\n",
    "\n",
    "item_features.rename(columns={'product_id': 'item_id'}, inplace=True)\n",
    "user_features.rename(columns={'household_key': 'user_id'}, inplace=True)\n",
    "\n",
    "\n",
    "# Важна схема обучения и валидации!\n",
    "# -- давние покупки -- | -- 6 недель -- | -- 3 недель -- \n",
    "# подобрать размер 2-ого датасета (6 недель) --> learning curve (зависимость метрики recall@k от размера датасета)\n",
    "val_lvl_1_size_weeks = 6\n",
    "val_lvl_2_size_weeks = 3\n",
    "\n",
    "data_train_lvl_1 = data[data['week_no'] < data['week_no'].max() - (val_lvl_1_size_weeks + val_lvl_2_size_weeks)]\n",
    "data_val_lvl_1 = data[(data['week_no'] >= data['week_no'].max() - (val_lvl_1_size_weeks + val_lvl_2_size_weeks)) &\n",
    "                      (data['week_no'] < data['week_no'].max() - (val_lvl_2_size_weeks))]\n",
    "\n",
    "data_train_lvl_2 = data_val_lvl_1.copy()  # Для наглядности. Далее мы добавим изменения, и они будут отличаться\n",
    "data_val_lvl_2 = data[data['week_no'] >= data['week_no'].max() - val_lvl_2_size_weeks]\n",
    "\n",
    "data_train_lvl_1.head(2)"
   ]
  },
  {
   "cell_type": "code",
   "execution_count": 7,
   "metadata": {
    "colab": {
     "base_uri": "https://localhost:8080/"
    },
    "id": "4Ve9JY969SuI",
    "outputId": "28e159b4-280c-424b-a557-a23d904c6571"
   },
   "outputs": [
    {
     "name": "stdout",
     "output_type": "stream",
     "text": [
      "Decreased # items from 83685 to 5001\n"
     ]
    }
   ],
   "source": [
    "n_items_before = data_train_lvl_1['item_id'].nunique()\n",
    "\n",
    "data_train_lvl_1 = prefilter_items(data_train_lvl_1, item_features=item_features, take_n_popular=5000)\n",
    "\n",
    "n_items_after = data_train_lvl_1['item_id'].nunique()\n",
    "print('Decreased # items from {} to {}'.format(n_items_before, n_items_after))"
   ]
  },
  {
   "cell_type": "markdown",
   "metadata": {
    "id": "81tv9Mecqre0"
   },
   "source": [
    "Модель первого уровня. MainRecommender"
   ]
  },
  {
   "cell_type": "code",
   "execution_count": 8,
   "metadata": {
    "colab": {
     "base_uri": "https://localhost:8080/",
     "height": 119,
     "referenced_widgets": [
      "24a3f6f97f73400598397bc0e371f16f",
      "dff84a48818242a0aa16f60fe7c9ed65",
      "6d336e863a69439aa254bf3a02e14165",
      "044dcf20bb9241ebb8599a9a707cc7c8",
      "fbb9fbe5e54f4b278fcdd0d1b564c1b8",
      "6e49065ed2ac411e9002eeb3bd083cb6",
      "058d6367b6b54c9687594e87cd613ca9",
      "3bc12aa5088a46cba8f7715d28fa0417",
      "b5d34cfe179b4105896938751223f35b",
      "e350977433f0406693bcddec8ca12eb8",
      "ef5e39a27e0f4309bd17e3b552ae0e2d",
      "4aa9c5d051494428ab39980d4d6d9e99",
      "0733af7e377b4465a6b241caef9fc366",
      "2b22eebdce104daea911b938c0210b53",
      "b2202a58a92f48e284d565c31b366ead",
      "36d64ba692654882bc821389a32b48f8",
      "d634639ed03e44778e5946277a01bc47",
      "7d0ec67f79444522ab5faf43cf4a0203",
      "20f32d141ce74eaaa967cfcf91b8684b",
      "e71dfa4d9e2c4bfb8a020de6967f5f14",
      "def09d5f25c94f4e8f50e9f3e66012d8",
      "5e3a4911486e4d9da76b5ab263a5e150"
     ]
    },
    "id": "2B_5gEQN9SuK",
    "outputId": "0347bc44-89e3-4243-fef3-3d84b0ebc27f"
   },
   "outputs": [
    {
     "name": "stderr",
     "output_type": "stream",
     "text": [
      "WARNING:root:OpenBLAS detected. Its highly recommend to set the environment variable 'export OPENBLAS_NUM_THREADS=1' to disable its internal multithreading\n"
     ]
    },
    {
     "data": {
      "application/vnd.jupyter.widget-view+json": {
       "model_id": "31381194908e41cbb9ed1a54650c5f0c",
       "version_major": 2,
       "version_minor": 0
      },
      "text/plain": [
       "  0%|          | 0/15 [00:00<?, ?it/s]"
      ]
     },
     "metadata": {},
     "output_type": "display_data"
    },
    {
     "data": {
      "application/vnd.jupyter.widget-view+json": {
       "model_id": "1be0349637794f148cd26cba8b296c1c",
       "version_major": 2,
       "version_minor": 0
      },
      "text/plain": [
       "  0%|          | 0/5001 [00:00<?, ?it/s]"
      ]
     },
     "metadata": {},
     "output_type": "display_data"
    }
   ],
   "source": [
    "recommender = MainRecommender(data_train_lvl_1)"
   ]
  },
  {
   "cell_type": "code",
   "execution_count": 9,
   "metadata": {
    "colab": {
     "base_uri": "https://localhost:8080/"
    },
    "id": "-EhH222GBXtf",
    "outputId": "82ee43f0-59ce-403d-ffbc-eb7a2ff8bc08"
   },
   "outputs": [
    {
     "data": {
      "text/plain": [
       "<src.recommenders2.MainRecommender at 0x1b1e43410d0>"
      ]
     },
     "execution_count": 9,
     "metadata": {},
     "output_type": "execute_result"
    }
   ],
   "source": [
    "recommender"
   ]
  },
  {
   "cell_type": "markdown",
   "metadata": {
    "id": "cCRW8mf09SuL"
   },
   "source": [
    "### Варианты, как получить кандидатов\n",
    "\n",
    "Можно потом все эти варианты соединить в один\n",
    "\n",
    "(!) Если модель рекомендует < N товаров, то рекомендации дополняются топ-популярными товарами до N"
   ]
  },
  {
   "cell_type": "markdown",
   "metadata": {
    "id": "KhZm3W1d9SuO"
   },
   "source": [
    "### Измеряем recall@k\n"
   ]
  },
  {
   "cell_type": "code",
   "execution_count": 10,
   "metadata": {
    "colab": {
     "base_uri": "https://localhost:8080/",
     "height": 112
    },
    "id": "iNhKQhXp9SuP",
    "outputId": "9fad86ab-846a-48f8-b732-0e162eb38803"
   },
   "outputs": [
    {
     "data": {
      "text/html": [
       "<div>\n",
       "<style scoped>\n",
       "    .dataframe tbody tr th:only-of-type {\n",
       "        vertical-align: middle;\n",
       "    }\n",
       "\n",
       "    .dataframe tbody tr th {\n",
       "        vertical-align: top;\n",
       "    }\n",
       "\n",
       "    .dataframe thead th {\n",
       "        text-align: right;\n",
       "    }\n",
       "</style>\n",
       "<table border=\"1\" class=\"dataframe\">\n",
       "  <thead>\n",
       "    <tr style=\"text-align: right;\">\n",
       "      <th></th>\n",
       "      <th>user_id</th>\n",
       "      <th>actual</th>\n",
       "    </tr>\n",
       "  </thead>\n",
       "  <tbody>\n",
       "    <tr>\n",
       "      <th>0</th>\n",
       "      <td>1</td>\n",
       "      <td>[853529, 865456, 867607, 872137, 874905, 87524...</td>\n",
       "    </tr>\n",
       "    <tr>\n",
       "      <th>1</th>\n",
       "      <td>2</td>\n",
       "      <td>[15830248, 838136, 839656, 861272, 866211, 870...</td>\n",
       "    </tr>\n",
       "  </tbody>\n",
       "</table>\n",
       "</div>"
      ],
      "text/plain": [
       "   user_id                                             actual\n",
       "0        1  [853529, 865456, 867607, 872137, 874905, 87524...\n",
       "1        2  [15830248, 838136, 839656, 861272, 866211, 870..."
      ]
     },
     "execution_count": 10,
     "metadata": {},
     "output_type": "execute_result"
    }
   ],
   "source": [
    "result_lvl_1 = data_val_lvl_1.groupby('user_id')['item_id'].unique().reset_index()\n",
    "result_lvl_1.columns=['user_id', 'actual']\n",
    "result_lvl_1.head(2)"
   ]
  },
  {
   "cell_type": "code",
   "execution_count": 11,
   "metadata": {
    "colab": {
     "base_uri": "https://localhost:8080/"
    },
    "id": "-lKq_5NGwKZj",
    "outputId": "29eb3b68-2d54-4781-b13b-fd6c0e9a96c7"
   },
   "outputs": [
    {
     "data": {
      "text/plain": [
       "(2154, 2)"
      ]
     },
     "execution_count": 11,
     "metadata": {},
     "output_type": "execute_result"
    }
   ],
   "source": [
    "result_lvl_1.shape"
   ]
  },
  {
   "cell_type": "code",
   "execution_count": 12,
   "metadata": {
    "colab": {
     "base_uri": "https://localhost:8080/"
    },
    "id": "xZSxVxeR2qCZ",
    "outputId": "b1c9f4cb-e395-4b32-f10e-b3e09c16f687"
   },
   "outputs": [
    {
     "data": {
      "text/plain": [
       "(2422, 1)"
      ]
     },
     "execution_count": 12,
     "metadata": {},
     "output_type": "execute_result"
    }
   ],
   "source": [
    "users_lvl_1 = pd.DataFrame(data_train_lvl_1['user_id'].unique(),columns = ['user_id'])\n",
    "users_lvl_1.shape"
   ]
  },
  {
   "cell_type": "code",
   "execution_count": 19,
   "metadata": {
    "id": "ZbNFeqUx-nGO"
   },
   "outputs": [
    {
     "name": "stdout",
     "output_type": "stream",
     "text": [
      "Wall time: 8min 51s\n"
     ]
    }
   ],
   "source": [
    "%%time\n",
    "K_num = 50\n",
    "result_lvl_1['als_rec'] = users_lvl_1['user_id'].apply(lambda x: recommender.get_als_recommendations(x, N=K_num))\n",
    "result_lvl_1['own_rec'] = users_lvl_1['user_id'].apply(lambda x: recommender.get_own_recommendations(x, N=K_num))\n",
    "result_lvl_1['sim_items'] = users_lvl_1['user_id'].apply(lambda x: recommender.get_similar_items_recommendation(x, N=K_num))\n",
    "result_lvl_1['sim_users'] = users_lvl_1['user_id'].apply(lambda x: recommender.get_similar_users_recommendation(x, N=K_num))"
   ]
  },
  {
   "cell_type": "markdown",
   "metadata": {
    "id": "Ve6LPP8tlPZD"
   },
   "source": [
    "## Расчет recall для отбора модели первого уровня - модель для отбора кандидатов"
   ]
  },
  {
   "cell_type": "code",
   "execution_count": 26,
   "metadata": {
    "id": "51H807RMAjQh"
   },
   "outputs": [],
   "source": [
    "def calculate_recall_k(data, K): #data - pandas df\n",
    "    for column in data.columns[2:]:\n",
    "        yield column, data.apply(lambda row: recall_at_k(row[column], row['actual'], k=K), axis=1).mean()"
   ]
  },
  {
   "cell_type": "code",
   "execution_count": 27,
   "metadata": {
    "colab": {
     "base_uri": "https://localhost:8080/",
     "height": 144
    },
    "id": "eCryM9vpBLDy",
    "outputId": "bcbcb0c8-f53b-4306-93b9-8f28d0d0f0f4"
   },
   "outputs": [
    {
     "data": {
      "text/html": [
       "<div>\n",
       "<style scoped>\n",
       "    .dataframe tbody tr th:only-of-type {\n",
       "        vertical-align: middle;\n",
       "    }\n",
       "\n",
       "    .dataframe tbody tr th {\n",
       "        vertical-align: top;\n",
       "    }\n",
       "\n",
       "    .dataframe thead th {\n",
       "        text-align: right;\n",
       "    }\n",
       "</style>\n",
       "<table border=\"1\" class=\"dataframe\">\n",
       "  <thead>\n",
       "    <tr style=\"text-align: right;\">\n",
       "      <th></th>\n",
       "      <th>Candidate_model</th>\n",
       "      <th>Recall</th>\n",
       "    </tr>\n",
       "  </thead>\n",
       "  <tbody>\n",
       "    <tr>\n",
       "      <th>0</th>\n",
       "      <td>own_rec</td>\n",
       "      <td>0.083280</td>\n",
       "    </tr>\n",
       "    <tr>\n",
       "      <th>1</th>\n",
       "      <td>als_rec</td>\n",
       "      <td>0.067966</td>\n",
       "    </tr>\n",
       "    <tr>\n",
       "      <th>2</th>\n",
       "      <td>sim_items</td>\n",
       "      <td>0.026298</td>\n",
       "    </tr>\n",
       "    <tr>\n",
       "      <th>3</th>\n",
       "      <td>sim_users</td>\n",
       "      <td>0.006976</td>\n",
       "    </tr>\n",
       "  </tbody>\n",
       "</table>\n",
       "</div>"
      ],
      "text/plain": [
       "  Candidate_model    Recall\n",
       "0         own_rec  0.083280\n",
       "1         als_rec  0.067966\n",
       "2       sim_items  0.026298\n",
       "3       sim_users  0.006976"
      ]
     },
     "execution_count": 27,
     "metadata": {},
     "output_type": "execute_result"
    }
   ],
   "source": [
    "recall_results = pd.DataFrame(sorted(calculate_recall_k(result_lvl_1, 50), key=lambda x: x[1],reverse=True), columns = ['Candidate_model','Recall'])\n",
    "recall_results"
   ]
  },
  {
   "cell_type": "markdown",
   "metadata": {
    "id": "KCmVSQ-flt3W"
   },
   "source": [
    "# Бейзлайн - модели первого уровня, расчет метрики precision@5"
   ]
  },
  {
   "cell_type": "code",
   "execution_count": 28,
   "metadata": {
    "id": "sexmFKrlD6MW"
   },
   "outputs": [],
   "source": [
    "def calculate_precision_k(data, K): #data - pandas df\n",
    "    for column in data.columns[2:]:\n",
    "        yield column, data.apply(lambda row: precision_at_k(row[column], row['actual'], k=K), axis=1).mean()"
   ]
  },
  {
   "cell_type": "code",
   "execution_count": 29,
   "metadata": {
    "colab": {
     "base_uri": "https://localhost:8080/",
     "height": 144
    },
    "id": "QsP6RcwmD6Pf",
    "outputId": "070c8b2f-ab30-4eac-e288-288a31ecff4a"
   },
   "outputs": [
    {
     "data": {
      "text/html": [
       "<div>\n",
       "<style scoped>\n",
       "    .dataframe tbody tr th:only-of-type {\n",
       "        vertical-align: middle;\n",
       "    }\n",
       "\n",
       "    .dataframe tbody tr th {\n",
       "        vertical-align: top;\n",
       "    }\n",
       "\n",
       "    .dataframe thead th {\n",
       "        text-align: right;\n",
       "    }\n",
       "</style>\n",
       "<table border=\"1\" class=\"dataframe\">\n",
       "  <thead>\n",
       "    <tr style=\"text-align: right;\">\n",
       "      <th></th>\n",
       "      <th>Model</th>\n",
       "      <th>Precision</th>\n",
       "    </tr>\n",
       "  </thead>\n",
       "  <tbody>\n",
       "    <tr>\n",
       "      <th>0</th>\n",
       "      <td>own_rec</td>\n",
       "      <td>0.218199</td>\n",
       "    </tr>\n",
       "    <tr>\n",
       "      <th>1</th>\n",
       "      <td>als_rec</td>\n",
       "      <td>0.166760</td>\n",
       "    </tr>\n",
       "    <tr>\n",
       "      <th>2</th>\n",
       "      <td>sim_users</td>\n",
       "      <td>0.075580</td>\n",
       "    </tr>\n",
       "    <tr>\n",
       "      <th>3</th>\n",
       "      <td>sim_items</td>\n",
       "      <td>0.029898</td>\n",
       "    </tr>\n",
       "  </tbody>\n",
       "</table>\n",
       "</div>"
      ],
      "text/plain": [
       "       Model  Precision\n",
       "0    own_rec   0.218199\n",
       "1    als_rec   0.166760\n",
       "2  sim_users   0.075580\n",
       "3  sim_items   0.029898"
      ]
     },
     "execution_count": 29,
     "metadata": {},
     "output_type": "execute_result"
    }
   ],
   "source": [
    "precision_results = pd.DataFrame(sorted(calculate_precision_k(result_lvl_1, 5), key=lambda x: x[1],reverse=True), columns = ['Model','Precision'])\n",
    "precision_results"
   ]
  },
  {
   "cell_type": "markdown",
   "metadata": {
    "id": "KWHCiwz5lx88"
   },
   "source": [
    "### Лучшая метрика по Baseline - MainRecommender own (own рекомендации с взвешиванием tfidf, 10 факторов, доподненные ТОП популярными товарами) составляет 0.2182. Наилучший recall выдает метод own_recommendations (0.08328); его возьмем для отбора кандидатов второй модели. "
   ]
  },
  {
   "cell_type": "code",
   "execution_count": 30,
   "metadata": {
    "id": "amuQlJtIFc0X"
   },
   "outputs": [],
   "source": [
    "## Добавить ТОП популярных, стекнуть несколько кандидатских списков"
   ]
  },
  {
   "cell_type": "markdown",
   "metadata": {
    "id": "Lfkm0Oi09SuQ"
   },
   "source": [
    "### Обучаем модель 2-ого уровня на выбранных кандидатах\n",
    "\n",
    "- Обучаем на data_train_lvl_2\n",
    "- Обучаем *только* на выбранных кандидатах -  сгенерирую топ-50 кадидиатов через get_als_recommendations. Если юзер купил < 50 товаров, то get_als_recommendations дополнит рекоммендации топ-популярными"
   ]
  },
  {
   "cell_type": "code",
   "execution_count": 31,
   "metadata": {
    "id": "ZwjRceyO9SuR"
   },
   "outputs": [],
   "source": [
    "users_lvl_2 = pd.DataFrame(data_train_lvl_2['user_id'].unique())\n",
    "users_lvl_2.columns = ['user_id']\n",
    "\n",
    "# Пока только warm start\n",
    "train_users = data_train_lvl_1['user_id'].unique()\n",
    "users_lvl_2 = users_lvl_2[users_lvl_2['user_id'].isin(train_users)]\n",
    "\n",
    "users_lvl_2['candidates'] = users_lvl_2['user_id'].apply(lambda x: recommender.get_own_recommendations(x, N=50))\n",
    "s = users_lvl_2.apply(lambda x: pd.Series(x['candidates']), axis=1).stack().reset_index(level=1, drop=True)\n",
    "s.name = 'item_id'\n",
    "\n",
    "users_lvl_2 = users_lvl_2.drop('candidates', axis=1).join(s)\n",
    "users_lvl_2['flag'] = 1\n",
    "targets_lvl_2 = data_train_lvl_2[['user_id', 'item_id']].copy()\n",
    "targets_lvl_2['target'] = 1  # тут только покупки \n",
    "\n",
    "targets_lvl_2 = users_lvl_2.merge(targets_lvl_2, on=['user_id', 'item_id'], how='left')\n",
    "\n",
    "targets_lvl_2['target'].fillna(0, inplace= True)\n",
    "targets_lvl_2.drop('flag', axis=1, inplace=True)"
   ]
  },
  {
   "cell_type": "code",
   "execution_count": 32,
   "metadata": {
    "colab": {
     "base_uri": "https://localhost:8080/"
    },
    "id": "xgWty9Qz9SuS",
    "outputId": "8e0391d7-e919-4636-8d8c-ce5fa60c93a5"
   },
   "outputs": [
    {
     "data": {
      "text/plain": [
       "106600"
      ]
     },
     "execution_count": 32,
     "metadata": {},
     "output_type": "execute_result"
    }
   ],
   "source": [
    "users_lvl_2.shape[0]"
   ]
  },
  {
   "cell_type": "code",
   "execution_count": 33,
   "metadata": {
    "colab": {
     "base_uri": "https://localhost:8080/"
    },
    "id": "KljPfGAn9SuS",
    "outputId": "9148a1d3-6a9e-4039-ce44-ea00db7167da"
   },
   "outputs": [
    {
     "data": {
      "text/plain": [
       "2132"
      ]
     },
     "execution_count": 33,
     "metadata": {},
     "output_type": "execute_result"
    }
   ],
   "source": [
    "users_lvl_2['user_id'].nunique()"
   ]
  },
  {
   "cell_type": "code",
   "execution_count": 34,
   "metadata": {
    "colab": {
     "base_uri": "https://localhost:8080/"
    },
    "id": "1NgEN4Tj9SuT",
    "outputId": "950ed66b-6465-4448-86fb-3f24ebab9ccf"
   },
   "outputs": [
    {
     "data": {
      "text/plain": [
       "(112225, 3)"
      ]
     },
     "execution_count": 34,
     "metadata": {},
     "output_type": "execute_result"
    }
   ],
   "source": [
    "targets_lvl_2.shape"
   ]
  },
  {
   "cell_type": "code",
   "execution_count": 35,
   "metadata": {
    "colab": {
     "base_uri": "https://localhost:8080/"
    },
    "id": "Pdq0zFi69SuU",
    "outputId": "18bdacf8-1f91-4ea2-c486-7f05c1f26051"
   },
   "outputs": [
    {
     "data": {
      "text/plain": [
       "0.13711739808420584"
      ]
     },
     "execution_count": 35,
     "metadata": {},
     "output_type": "execute_result"
    }
   ],
   "source": [
    "targets_lvl_2['target'].mean()"
   ]
  },
  {
   "cell_type": "markdown",
   "metadata": {
    "id": "hX-nPzvH9SuV"
   },
   "source": [
    "## Feature generation. Добавим фичи users, items, а также их ембеддинги (ALS) из встроенного метода класса MainRecommender (добавил сам)"
   ]
  },
  {
   "cell_type": "markdown",
   "metadata": {
    "id": "_wrnMJoz9SuW"
   },
   "source": [
    "**Фичи user_id:**\n",
    "    - Средний чек\n",
    "    - Средняя сумма покупки 1 товара в каждой категории\n",
    "    - Кол-во покупок в каждой категории\n",
    "    - Частотность покупок раз/месяц\n",
    "    - Долю покупок в выходные\n",
    "    - Долю покупок утром/днем/вечером\n",
    "\n",
    "**Фичи item_id**:\n",
    "    - Кол-во покупок в неделю\n",
    "    - Среднее ол-во покупок 1 товара в категории в неделю\n",
    "    - (Кол-во покупок в неделю) / (Среднее кол-во покупок 1 товара в категории в неделю)\n",
    "    - Цена (Можно посчитать из retil_train.csv)\n",
    "    - Цена / Средняя цена товара в категории\n",
    "    \n",
    "**Фичи пары user_id - item_id**\n",
    "    - (Средняя сумма покупки 1 товара в каждой категории (берем категорию item_id)) - (Цена item_id)\n",
    "    - (Кол-во покупок юзером конкретной категории в неделю) - (Среднее кол-во покупок всеми юзерами конкретной категории в неделю)\n",
    "    - (Кол-во покупок юзером конкретной категории в неделю) / (Среднее кол-во покупок всеми юзерами конкретной категории в неделю)"
   ]
  },
  {
   "cell_type": "markdown",
   "metadata": {
    "id": "8uoHH3PqK3Rg"
   },
   "source": [
    "## Feature generation"
   ]
  },
  {
   "cell_type": "code",
   "execution_count": 36,
   "metadata": {
    "id": "X21ztu7GR0CC"
   },
   "outputs": [],
   "source": [
    "#Max week\n",
    "MAX_WEEK = data['week_no'].max()"
   ]
  },
  {
   "cell_type": "code",
   "execution_count": 37,
   "metadata": {
    "id": "_EafgVLeAJj_"
   },
   "outputs": [],
   "source": [
    "# Данные транзакций\n",
    "t_data = data_train_lvl_2.copy()\n",
    "df_augm = targets_lvl_2\n",
    "t_data = t_data.merge(item_features[['item_id','department']], on='item_id',how='left')"
   ]
  },
  {
   "cell_type": "code",
   "execution_count": 38,
   "metadata": {
    "id": "Zmb4qGthBY4U"
   },
   "outputs": [],
   "source": [
    "# средний чек на юзера\n",
    "avg_basket = (t_data.groupby(['user_id', 'basket_id'])['sales_value'].sum().reset_index()).groupby('user_id')['sales_value'].mean().reset_index()\n",
    "avg_basket.columns = ['user_id', 'avg_basket']"
   ]
  },
  {
   "cell_type": "code",
   "execution_count": 39,
   "metadata": {
    "id": "UegYPVDQEAW8"
   },
   "outputs": [],
   "source": [
    "#Среднее кол-во покупок юзера в каждой категории\n",
    "avg_user_qty_per_department = (t_data.groupby(['user_id', 'department'])['quantity'].sum().reset_index()).groupby('user_id')['quantity'].mean().reset_index()\n",
    "avg_user_qty_per_department.columns = ['user_id', 'avg_user_qty_per_department']"
   ]
  },
  {
   "cell_type": "code",
   "execution_count": 40,
   "metadata": {
    "id": "4Dpff-jMEAZJ"
   },
   "outputs": [],
   "source": [
    "# Количество недель после последней покупки юзера\n",
    "last_activity = t_data.groupby(['user_id'])['week_no'].max().reset_index()\n",
    "last_activity.columns = ['user_id', 'inactivity']\n",
    "last_activity['inactivity'] = MAX_WEEK - last_activity['inactivity']"
   ]
  },
  {
   "cell_type": "code",
   "execution_count": 41,
   "metadata": {
    "id": "ophphuuFN54e"
   },
   "outputs": [
    {
     "name": "stderr",
     "output_type": "stream",
     "text": [
      "<ipython-input-41-129824c5fbd6>:2: FutureWarning: Indexing with multiple keys (implicitly converted to a tuple of keys) will be deprecated, use a list instead.\n",
      "  price = t_data.groupby(['item_id'])['sales_value','quantity'].sum().reset_index()\n"
     ]
    }
   ],
   "source": [
    "#цена товара\n",
    "price = t_data.groupby(['item_id'])['sales_value','quantity'].sum().reset_index()\n",
    "price['price'] = price['sales_value']/price['quantity']\n",
    "price.drop(['sales_value','quantity'], axis=1,inplace=True)\n"
   ]
  },
  {
   "cell_type": "code",
   "execution_count": 42,
   "metadata": {
    "id": "65KSo9BgU7EH"
   },
   "outputs": [],
   "source": [
    "# Среднее кол-во покупок 1 товара в категории\n",
    "qty_purch_in_department = (t_data.groupby(['item_id', 'department'])['quantity'].sum().reset_index()).groupby('item_id')['quantity'].mean().reset_index()\n",
    "qty_purch_in_department.columns = ['item_id', 'avg_count_item_dep']"
   ]
  },
  {
   "cell_type": "code",
   "execution_count": 43,
   "metadata": {
    "id": "FJ1ICdWKToEY"
   },
   "outputs": [],
   "source": [
    "items_emb = recommender.items_embedings()\n",
    "users_emb = recommender.user_embedings()"
   ]
  },
  {
   "cell_type": "code",
   "execution_count": 44,
   "metadata": {
    "id": "E_0rYb7QUEYh"
   },
   "outputs": [],
   "source": [
    "df_augm = df_augm.merge(avg_basket, on='user_id',how='left')\n",
    "df_augm = df_augm.merge(avg_user_qty_per_department, on='user_id',how='left')\n",
    "df_augm = df_augm.merge(last_activity, on='user_id',how='left')\n",
    "df_augm = df_augm.merge(user_features, on='user_id', how='left')\n",
    "df_augm = df_augm.merge(users_emb, on='user_id', how='left')"
   ]
  },
  {
   "cell_type": "code",
   "execution_count": 45,
   "metadata": {
    "id": "FzOIBsvoTzvi"
   },
   "outputs": [],
   "source": [
    "df_augm = df_augm.merge(price[['item_id','price']], on='item_id',how='left')\n",
    "df_augm = df_augm.merge(qty_purch_in_department, on='item_id',how='left')\n",
    "df_augm = df_augm.merge(item_features, on='item_id', how='left')\n",
    "df_augm = df_augm.merge(items_emb, on='item_id', how='left')"
   ]
  },
  {
   "cell_type": "code",
   "execution_count": 46,
   "metadata": {
    "colab": {
     "base_uri": "https://localhost:8080/"
    },
    "id": "Hlop6j40Tzx5",
    "outputId": "ce1bea41-49fe-4d34-8342-e0fac9b08e91"
   },
   "outputs": [
    {
     "data": {
      "text/plain": [
       "(112225, 41)"
      ]
     },
     "execution_count": 46,
     "metadata": {},
     "output_type": "execute_result"
    }
   ],
   "source": [
    "df_augm.shape"
   ]
  },
  {
   "cell_type": "code",
   "execution_count": 47,
   "metadata": {
    "colab": {
     "base_uri": "https://localhost:8080/",
     "height": 369
    },
    "id": "ORAzmSWYTz1T",
    "outputId": "75054581-ab97-4e69-dc51-f7b1a98cbb3a"
   },
   "outputs": [
    {
     "data": {
      "text/html": [
       "<div>\n",
       "<style scoped>\n",
       "    .dataframe tbody tr th:only-of-type {\n",
       "        vertical-align: middle;\n",
       "    }\n",
       "\n",
       "    .dataframe tbody tr th {\n",
       "        vertical-align: top;\n",
       "    }\n",
       "\n",
       "    .dataframe thead th {\n",
       "        text-align: right;\n",
       "    }\n",
       "</style>\n",
       "<table border=\"1\" class=\"dataframe\">\n",
       "  <thead>\n",
       "    <tr style=\"text-align: right;\">\n",
       "      <th></th>\n",
       "      <th>user_id</th>\n",
       "      <th>item_id</th>\n",
       "      <th>target</th>\n",
       "      <th>avg_basket</th>\n",
       "      <th>avg_user_qty_per_department</th>\n",
       "      <th>inactivity</th>\n",
       "      <th>age_desc</th>\n",
       "      <th>marital_status_code</th>\n",
       "      <th>income_desc</th>\n",
       "      <th>homeowner_desc</th>\n",
       "      <th>...</th>\n",
       "      <th>item0</th>\n",
       "      <th>item1</th>\n",
       "      <th>item2</th>\n",
       "      <th>item3</th>\n",
       "      <th>item4</th>\n",
       "      <th>item5</th>\n",
       "      <th>item6</th>\n",
       "      <th>item7</th>\n",
       "      <th>item8</th>\n",
       "      <th>item9</th>\n",
       "    </tr>\n",
       "  </thead>\n",
       "  <tbody>\n",
       "    <tr>\n",
       "      <th>0</th>\n",
       "      <td>2070</td>\n",
       "      <td>1082185</td>\n",
       "      <td>1.0</td>\n",
       "      <td>14.355581</td>\n",
       "      <td>1755.0</td>\n",
       "      <td>4</td>\n",
       "      <td>45-54</td>\n",
       "      <td>U</td>\n",
       "      <td>50-74K</td>\n",
       "      <td>Unknown</td>\n",
       "      <td>...</td>\n",
       "      <td>0.031869</td>\n",
       "      <td>0.061769</td>\n",
       "      <td>0.005470</td>\n",
       "      <td>-0.083484</td>\n",
       "      <td>0.064490</td>\n",
       "      <td>0.116423</td>\n",
       "      <td>0.046586</td>\n",
       "      <td>-0.095957</td>\n",
       "      <td>-0.082073</td>\n",
       "      <td>0.162250</td>\n",
       "    </tr>\n",
       "    <tr>\n",
       "      <th>1</th>\n",
       "      <td>2070</td>\n",
       "      <td>995242</td>\n",
       "      <td>1.0</td>\n",
       "      <td>14.355581</td>\n",
       "      <td>1755.0</td>\n",
       "      <td>4</td>\n",
       "      <td>45-54</td>\n",
       "      <td>U</td>\n",
       "      <td>50-74K</td>\n",
       "      <td>Unknown</td>\n",
       "      <td>...</td>\n",
       "      <td>0.063278</td>\n",
       "      <td>0.008416</td>\n",
       "      <td>0.021401</td>\n",
       "      <td>-0.082523</td>\n",
       "      <td>0.012280</td>\n",
       "      <td>0.121477</td>\n",
       "      <td>0.078272</td>\n",
       "      <td>-0.047995</td>\n",
       "      <td>-0.073631</td>\n",
       "      <td>0.126219</td>\n",
       "    </tr>\n",
       "    <tr>\n",
       "      <th>2</th>\n",
       "      <td>2070</td>\n",
       "      <td>1029743</td>\n",
       "      <td>0.0</td>\n",
       "      <td>14.355581</td>\n",
       "      <td>1755.0</td>\n",
       "      <td>4</td>\n",
       "      <td>45-54</td>\n",
       "      <td>U</td>\n",
       "      <td>50-74K</td>\n",
       "      <td>Unknown</td>\n",
       "      <td>...</td>\n",
       "      <td>0.004577</td>\n",
       "      <td>0.063225</td>\n",
       "      <td>0.008429</td>\n",
       "      <td>-0.044307</td>\n",
       "      <td>0.003955</td>\n",
       "      <td>0.109211</td>\n",
       "      <td>0.016099</td>\n",
       "      <td>-0.018862</td>\n",
       "      <td>-0.128738</td>\n",
       "      <td>0.179661</td>\n",
       "    </tr>\n",
       "    <tr>\n",
       "      <th>3</th>\n",
       "      <td>2070</td>\n",
       "      <td>1106523</td>\n",
       "      <td>0.0</td>\n",
       "      <td>14.355581</td>\n",
       "      <td>1755.0</td>\n",
       "      <td>4</td>\n",
       "      <td>45-54</td>\n",
       "      <td>U</td>\n",
       "      <td>50-74K</td>\n",
       "      <td>Unknown</td>\n",
       "      <td>...</td>\n",
       "      <td>0.019977</td>\n",
       "      <td>0.124507</td>\n",
       "      <td>0.029606</td>\n",
       "      <td>-0.030245</td>\n",
       "      <td>-0.016113</td>\n",
       "      <td>-0.030447</td>\n",
       "      <td>0.090976</td>\n",
       "      <td>-0.023069</td>\n",
       "      <td>-0.156031</td>\n",
       "      <td>0.145865</td>\n",
       "    </tr>\n",
       "    <tr>\n",
       "      <th>4</th>\n",
       "      <td>2070</td>\n",
       "      <td>1133018</td>\n",
       "      <td>0.0</td>\n",
       "      <td>14.355581</td>\n",
       "      <td>1755.0</td>\n",
       "      <td>4</td>\n",
       "      <td>45-54</td>\n",
       "      <td>U</td>\n",
       "      <td>50-74K</td>\n",
       "      <td>Unknown</td>\n",
       "      <td>...</td>\n",
       "      <td>0.065344</td>\n",
       "      <td>0.062236</td>\n",
       "      <td>0.042675</td>\n",
       "      <td>-0.074659</td>\n",
       "      <td>-0.003690</td>\n",
       "      <td>0.004270</td>\n",
       "      <td>0.156314</td>\n",
       "      <td>-0.034473</td>\n",
       "      <td>-0.109744</td>\n",
       "      <td>0.079326</td>\n",
       "    </tr>\n",
       "  </tbody>\n",
       "</table>\n",
       "<p>5 rows × 41 columns</p>\n",
       "</div>"
      ],
      "text/plain": [
       "   user_id  item_id  target  avg_basket  avg_user_qty_per_department  \\\n",
       "0     2070  1082185     1.0   14.355581                       1755.0   \n",
       "1     2070   995242     1.0   14.355581                       1755.0   \n",
       "2     2070  1029743     0.0   14.355581                       1755.0   \n",
       "3     2070  1106523     0.0   14.355581                       1755.0   \n",
       "4     2070  1133018     0.0   14.355581                       1755.0   \n",
       "\n",
       "   inactivity age_desc marital_status_code income_desc homeowner_desc  ...  \\\n",
       "0           4    45-54                   U      50-74K        Unknown  ...   \n",
       "1           4    45-54                   U      50-74K        Unknown  ...   \n",
       "2           4    45-54                   U      50-74K        Unknown  ...   \n",
       "3           4    45-54                   U      50-74K        Unknown  ...   \n",
       "4           4    45-54                   U      50-74K        Unknown  ...   \n",
       "\n",
       "      item0     item1     item2     item3     item4     item5     item6  \\\n",
       "0  0.031869  0.061769  0.005470 -0.083484  0.064490  0.116423  0.046586   \n",
       "1  0.063278  0.008416  0.021401 -0.082523  0.012280  0.121477  0.078272   \n",
       "2  0.004577  0.063225  0.008429 -0.044307  0.003955  0.109211  0.016099   \n",
       "3  0.019977  0.124507  0.029606 -0.030245 -0.016113 -0.030447  0.090976   \n",
       "4  0.065344  0.062236  0.042675 -0.074659 -0.003690  0.004270  0.156314   \n",
       "\n",
       "      item7     item8     item9  \n",
       "0 -0.095957 -0.082073  0.162250  \n",
       "1 -0.047995 -0.073631  0.126219  \n",
       "2 -0.018862 -0.128738  0.179661  \n",
       "3 -0.023069 -0.156031  0.145865  \n",
       "4 -0.034473 -0.109744  0.079326  \n",
       "\n",
       "[5 rows x 41 columns]"
      ]
     },
     "execution_count": 47,
     "metadata": {},
     "output_type": "execute_result"
    }
   ],
   "source": [
    "df_augm.head()"
   ]
  },
  {
   "cell_type": "code",
   "execution_count": 73,
   "metadata": {
    "id": "maRDJB3z67uF"
   },
   "outputs": [],
   "source": [
    "targets_lvl_2 = df_augm"
   ]
  },
  {
   "cell_type": "markdown",
   "metadata": {},
   "source": [
    "## Соединяю всю предобработку в функцию"
   ]
  },
  {
   "cell_type": "code",
   "execution_count": 76,
   "metadata": {
    "id": "5DNbDvLK7beP"
   },
   "outputs": [],
   "source": [
    "def preprocessing(data):\n",
    "    #Max week\n",
    "    MAX_WEEK = data['week_no'].max()\n",
    "    users_lvl_2 = pd.DataFrame(data['user_id'].unique())\n",
    "    users_lvl_2.columns = ['user_id']\n",
    "\n",
    "    train_users = data_train_lvl_1['user_id'].unique()\n",
    "    users_lvl_2 = users_lvl_2[users_lvl_2['user_id'].isin(train_users)]\n",
    "\n",
    "    users_lvl_2['candidates'] = users_lvl_2['user_id'].apply(lambda x: recommender.get_own_recommendations(x, N=50))\n",
    "    s = users_lvl_2.apply(lambda x: pd.Series(x['candidates']), axis=1).stack().reset_index(level=1, drop=True)\n",
    "    s.name = 'item_id'\n",
    "\n",
    "    users_lvl_2 = users_lvl_2.drop('candidates', axis=1).join(s)\n",
    "    users_lvl_2['flag'] = 1\n",
    "    targets_lvl_2 = data_train_lvl_2[['user_id', 'item_id']].copy()\n",
    "    targets_lvl_2['target'] = 1  # тут только покупки \n",
    "\n",
    "    targets_lvl_2 = users_lvl_2.merge(targets_lvl_2, on=['user_id', 'item_id'], how='left')\n",
    "\n",
    "    targets_lvl_2['target'].fillna(0, inplace= True)\n",
    "    targets_lvl_2.drop('flag', axis=1, inplace=True)\n",
    "    #print(targets_lvl_2.shape)\n",
    "    # feature augmenting and combining\n",
    "    t_data = data.copy()\n",
    "    df_augm = targets_lvl_2\n",
    "    t_data = t_data.merge(item_features[['item_id','department']], on='item_id',how='left')\n",
    "    # средний чек на юзера\n",
    "    avg_basket = (t_data.groupby(['user_id', 'basket_id'])['sales_value'].sum().reset_index()).groupby('user_id')['sales_value'].mean().reset_index()\n",
    "    avg_basket.columns = ['user_id', 'avg_basket']\n",
    "    #Среднее кол-во покупок юзера в каждой категории\n",
    "    avg_user_qty_per_department = (t_data.groupby(['user_id', 'department'])['quantity'].sum().reset_index()).groupby('user_id')['quantity'].mean().reset_index()\n",
    "    avg_user_qty_per_department.columns = ['user_id', 'avg_user_qty_per_department']\n",
    "    # Количество недель после последней покупки юзера\n",
    "    last_activity = t_data.groupby(['user_id'])['week_no'].max().reset_index()\n",
    "    last_activity.columns = ['user_id', 'inactivity']\n",
    "    last_activity['inactivity'] = MAX_WEEK - last_activity['inactivity']\n",
    "    #цена товара\n",
    "    price = t_data.groupby(['item_id'])['sales_value','quantity'].sum().reset_index()\n",
    "    price['price'] = price['sales_value']/price['quantity']\n",
    "    price.drop(['sales_value','quantity'], axis=1,inplace=True)\n",
    "    # Среднее кол-во покупок 1 товара в категории\n",
    "    qty_purch_in_department = (t_data.groupby(['item_id', 'department'])['quantity'].sum().reset_index()).groupby('item_id')['quantity'].mean().reset_index()\n",
    "    qty_purch_in_department.columns = ['item_id', 'avg_count_item_dep']\n",
    "\n",
    "    items_emb = recommender.items_embedings()\n",
    "    users_emb = recommender.user_embedings()\n",
    "\n",
    "    df_augm = df_augm.merge(avg_basket, on='user_id',how='left')\n",
    "    df_augm = df_augm.merge(avg_user_qty_per_department, on='user_id',how='left')\n",
    "    df_augm = df_augm.merge(last_activity, on='user_id',how='left')\n",
    "    df_augm = df_augm.merge(user_features, on='user_id', how='left')\n",
    "    df_augm = df_augm.merge(users_emb, on='user_id', how='left')\n",
    "\n",
    "    df_augm = df_augm.merge(price[['item_id','price']], on='item_id',how='left')\n",
    "    df_augm = df_augm.merge(qty_purch_in_department, on='item_id',how='left')\n",
    "    df_augm = df_augm.merge(item_features, on='item_id', how='left')\n",
    "    df_augm = df_augm.merge(items_emb, on='item_id', how='left')\n",
    "\n",
    "    return df_augm"
   ]
  },
  {
   "cell_type": "code",
   "execution_count": 50,
   "metadata": {
    "id": "Bbm1dm4bE2re"
   },
   "outputs": [],
   "source": [
    "cat_feats= ['age_desc', 'marital_status_code', 'income_desc', 'homeowner_desc', 'hh_comp_desc',\n",
    "       'household_size_desc', 'kid_category_desc','manufacturer',\n",
    "       'department', 'brand', 'commodity_desc', 'sub_commodity_desc',\n",
    "       'curr_size_of_product']"
   ]
  },
  {
   "cell_type": "code",
   "execution_count": 77,
   "metadata": {
    "colab": {
     "base_uri": "https://localhost:8080/"
    },
    "id": "nhZcE3UQBr8D",
    "outputId": "63bd68b0-30b6-429a-d0cb-78c8cfcd5b08"
   },
   "outputs": [
    {
     "name": "stdout",
     "output_type": "stream",
     "text": [
      "(112225, 3)\n"
     ]
    },
    {
     "name": "stderr",
     "output_type": "stream",
     "text": [
      "<ipython-input-76-a9d178c0fcf4>:39: FutureWarning: Indexing with multiple keys (implicitly converted to a tuple of keys) will be deprecated, use a list instead.\n",
      "  price = t_data.groupby(['item_id'])['sales_value','quantity'].sum().reset_index()\n"
     ]
    },
    {
     "data": {
      "text/plain": [
       "(112225, 41)"
      ]
     },
     "execution_count": 77,
     "metadata": {},
     "output_type": "execute_result"
    }
   ],
   "source": [
    "data_lvl_2 = preprocessing(data_train_lvl_2)\n",
    "data_lvl_2.shape"
   ]
  },
  {
   "cell_type": "code",
   "execution_count": 78,
   "metadata": {
    "id": "UX2zC7-ZCaF0"
   },
   "outputs": [],
   "source": [
    "data_lvl_2[cat_feats] = data_lvl_2[cat_feats].astype('category')\n"
   ]
  },
  {
   "cell_type": "code",
   "execution_count": 79,
   "metadata": {
    "colab": {
     "base_uri": "https://localhost:8080/"
    },
    "id": "96o_03aoChb3",
    "outputId": "975c0953-30d7-4a9a-e0fb-3b9f725ed3a9"
   },
   "outputs": [
    {
     "name": "stdout",
     "output_type": "stream",
     "text": [
      "(106383, 3)\n"
     ]
    },
    {
     "name": "stderr",
     "output_type": "stream",
     "text": [
      "<ipython-input-76-a9d178c0fcf4>:39: FutureWarning: Indexing with multiple keys (implicitly converted to a tuple of keys) will be deprecated, use a list instead.\n",
      "  price = t_data.groupby(['item_id'])['sales_value','quantity'].sum().reset_index()\n"
     ]
    },
    {
     "name": "stdout",
     "output_type": "stream",
     "text": [
      "Wall time: 8.85 s\n"
     ]
    },
    {
     "data": {
      "text/plain": [
       "(106383, 41)"
      ]
     },
     "execution_count": 79,
     "metadata": {},
     "output_type": "execute_result"
    }
   ],
   "source": [
    "%%time\n",
    "data_test_2 = preprocessing(data_val_lvl_2)\n",
    "data_test_2.shape"
   ]
  },
  {
   "cell_type": "code",
   "execution_count": 80,
   "metadata": {
    "id": "pUEniSrTFZib"
   },
   "outputs": [],
   "source": [
    "data_test_2[cat_feats] = data_test_2[cat_feats].astype('category')"
   ]
  },
  {
   "cell_type": "code",
   "execution_count": 81,
   "metadata": {
    "colab": {
     "base_uri": "https://localhost:8080/",
     "height": 211
    },
    "id": "uPKWQDGzChf4",
    "outputId": "b5e70f8a-4296-40be-8a46-ef19ccd01c97"
   },
   "outputs": [
    {
     "data": {
      "text/html": [
       "<div>\n",
       "<style scoped>\n",
       "    .dataframe tbody tr th:only-of-type {\n",
       "        vertical-align: middle;\n",
       "    }\n",
       "\n",
       "    .dataframe tbody tr th {\n",
       "        vertical-align: top;\n",
       "    }\n",
       "\n",
       "    .dataframe thead th {\n",
       "        text-align: right;\n",
       "    }\n",
       "</style>\n",
       "<table border=\"1\" class=\"dataframe\">\n",
       "  <thead>\n",
       "    <tr style=\"text-align: right;\">\n",
       "      <th></th>\n",
       "      <th>user_id</th>\n",
       "      <th>item_id</th>\n",
       "      <th>target</th>\n",
       "      <th>avg_basket</th>\n",
       "      <th>avg_user_qty_per_department</th>\n",
       "      <th>inactivity</th>\n",
       "      <th>age_desc</th>\n",
       "      <th>marital_status_code</th>\n",
       "      <th>income_desc</th>\n",
       "      <th>homeowner_desc</th>\n",
       "      <th>...</th>\n",
       "      <th>item0</th>\n",
       "      <th>item1</th>\n",
       "      <th>item2</th>\n",
       "      <th>item3</th>\n",
       "      <th>item4</th>\n",
       "      <th>item5</th>\n",
       "      <th>item6</th>\n",
       "      <th>item7</th>\n",
       "      <th>item8</th>\n",
       "      <th>item9</th>\n",
       "    </tr>\n",
       "  </thead>\n",
       "  <tbody>\n",
       "    <tr>\n",
       "      <th>0</th>\n",
       "      <td>338</td>\n",
       "      <td>1082185</td>\n",
       "      <td>0.0</td>\n",
       "      <td>31.249333</td>\n",
       "      <td>17.777778</td>\n",
       "      <td>0</td>\n",
       "      <td>NaN</td>\n",
       "      <td>NaN</td>\n",
       "      <td>NaN</td>\n",
       "      <td>NaN</td>\n",
       "      <td>...</td>\n",
       "      <td>0.031869</td>\n",
       "      <td>0.061769</td>\n",
       "      <td>0.005470</td>\n",
       "      <td>-0.083484</td>\n",
       "      <td>0.06449</td>\n",
       "      <td>0.116423</td>\n",
       "      <td>0.046586</td>\n",
       "      <td>-0.095957</td>\n",
       "      <td>-0.082073</td>\n",
       "      <td>0.162250</td>\n",
       "    </tr>\n",
       "    <tr>\n",
       "      <th>1</th>\n",
       "      <td>338</td>\n",
       "      <td>995242</td>\n",
       "      <td>0.0</td>\n",
       "      <td>31.249333</td>\n",
       "      <td>17.777778</td>\n",
       "      <td>0</td>\n",
       "      <td>NaN</td>\n",
       "      <td>NaN</td>\n",
       "      <td>NaN</td>\n",
       "      <td>NaN</td>\n",
       "      <td>...</td>\n",
       "      <td>0.063278</td>\n",
       "      <td>0.008416</td>\n",
       "      <td>0.021401</td>\n",
       "      <td>-0.082523</td>\n",
       "      <td>0.01228</td>\n",
       "      <td>0.121477</td>\n",
       "      <td>0.078272</td>\n",
       "      <td>-0.047995</td>\n",
       "      <td>-0.073631</td>\n",
       "      <td>0.126219</td>\n",
       "    </tr>\n",
       "  </tbody>\n",
       "</table>\n",
       "<p>2 rows × 41 columns</p>\n",
       "</div>"
      ],
      "text/plain": [
       "   user_id  item_id  target  avg_basket  avg_user_qty_per_department  \\\n",
       "0      338  1082185     0.0   31.249333                    17.777778   \n",
       "1      338   995242     0.0   31.249333                    17.777778   \n",
       "\n",
       "   inactivity age_desc marital_status_code income_desc homeowner_desc  ...  \\\n",
       "0           0      NaN                 NaN         NaN            NaN  ...   \n",
       "1           0      NaN                 NaN         NaN            NaN  ...   \n",
       "\n",
       "      item0     item1     item2     item3    item4     item5     item6  \\\n",
       "0  0.031869  0.061769  0.005470 -0.083484  0.06449  0.116423  0.046586   \n",
       "1  0.063278  0.008416  0.021401 -0.082523  0.01228  0.121477  0.078272   \n",
       "\n",
       "      item7     item8     item9  \n",
       "0 -0.095957 -0.082073  0.162250  \n",
       "1 -0.047995 -0.073631  0.126219  \n",
       "\n",
       "[2 rows x 41 columns]"
      ]
     },
     "execution_count": 81,
     "metadata": {},
     "output_type": "execute_result"
    }
   ],
   "source": [
    "data_test_2.head(2)"
   ]
  },
  {
   "cell_type": "code",
   "execution_count": 82,
   "metadata": {
    "colab": {
     "base_uri": "https://localhost:8080/",
     "height": 575
    },
    "id": "OCynPYlAKv5u",
    "outputId": "8ebd6268-2f01-40de-82d4-d81171cd8140"
   },
   "outputs": [
    {
     "data": {
      "text/html": [
       "<div>\n",
       "<style scoped>\n",
       "    .dataframe tbody tr th:only-of-type {\n",
       "        vertical-align: middle;\n",
       "    }\n",
       "\n",
       "    .dataframe tbody tr th {\n",
       "        vertical-align: top;\n",
       "    }\n",
       "\n",
       "    .dataframe thead th {\n",
       "        text-align: right;\n",
       "    }\n",
       "</style>\n",
       "<table border=\"1\" class=\"dataframe\">\n",
       "  <thead>\n",
       "    <tr style=\"text-align: right;\">\n",
       "      <th></th>\n",
       "      <th>user_id</th>\n",
       "      <th>item_id</th>\n",
       "      <th>target</th>\n",
       "      <th>avg_basket</th>\n",
       "      <th>avg_user_qty_per_department</th>\n",
       "      <th>inactivity</th>\n",
       "      <th>age_desc</th>\n",
       "      <th>marital_status_code</th>\n",
       "      <th>income_desc</th>\n",
       "      <th>homeowner_desc</th>\n",
       "      <th>...</th>\n",
       "      <th>item0</th>\n",
       "      <th>item1</th>\n",
       "      <th>item2</th>\n",
       "      <th>item3</th>\n",
       "      <th>item4</th>\n",
       "      <th>item5</th>\n",
       "      <th>item6</th>\n",
       "      <th>item7</th>\n",
       "      <th>item8</th>\n",
       "      <th>item9</th>\n",
       "    </tr>\n",
       "  </thead>\n",
       "  <tbody>\n",
       "    <tr>\n",
       "      <th>0</th>\n",
       "      <td>338</td>\n",
       "      <td>1082185</td>\n",
       "      <td>0.0</td>\n",
       "      <td>31.249333</td>\n",
       "      <td>17.777778</td>\n",
       "      <td>0</td>\n",
       "      <td>NaN</td>\n",
       "      <td>NaN</td>\n",
       "      <td>NaN</td>\n",
       "      <td>NaN</td>\n",
       "      <td>...</td>\n",
       "      <td>0.031869</td>\n",
       "      <td>0.061769</td>\n",
       "      <td>0.005470</td>\n",
       "      <td>-0.083484</td>\n",
       "      <td>0.064490</td>\n",
       "      <td>0.116423</td>\n",
       "      <td>0.046586</td>\n",
       "      <td>-0.095957</td>\n",
       "      <td>-0.082073</td>\n",
       "      <td>0.162250</td>\n",
       "    </tr>\n",
       "    <tr>\n",
       "      <th>1</th>\n",
       "      <td>338</td>\n",
       "      <td>995242</td>\n",
       "      <td>0.0</td>\n",
       "      <td>31.249333</td>\n",
       "      <td>17.777778</td>\n",
       "      <td>0</td>\n",
       "      <td>NaN</td>\n",
       "      <td>NaN</td>\n",
       "      <td>NaN</td>\n",
       "      <td>NaN</td>\n",
       "      <td>...</td>\n",
       "      <td>0.063278</td>\n",
       "      <td>0.008416</td>\n",
       "      <td>0.021401</td>\n",
       "      <td>-0.082523</td>\n",
       "      <td>0.012280</td>\n",
       "      <td>0.121477</td>\n",
       "      <td>0.078272</td>\n",
       "      <td>-0.047995</td>\n",
       "      <td>-0.073631</td>\n",
       "      <td>0.126219</td>\n",
       "    </tr>\n",
       "    <tr>\n",
       "      <th>2</th>\n",
       "      <td>338</td>\n",
       "      <td>1029743</td>\n",
       "      <td>0.0</td>\n",
       "      <td>31.249333</td>\n",
       "      <td>17.777778</td>\n",
       "      <td>0</td>\n",
       "      <td>NaN</td>\n",
       "      <td>NaN</td>\n",
       "      <td>NaN</td>\n",
       "      <td>NaN</td>\n",
       "      <td>...</td>\n",
       "      <td>0.004577</td>\n",
       "      <td>0.063225</td>\n",
       "      <td>0.008429</td>\n",
       "      <td>-0.044307</td>\n",
       "      <td>0.003955</td>\n",
       "      <td>0.109211</td>\n",
       "      <td>0.016099</td>\n",
       "      <td>-0.018862</td>\n",
       "      <td>-0.128738</td>\n",
       "      <td>0.179661</td>\n",
       "    </tr>\n",
       "    <tr>\n",
       "      <th>3</th>\n",
       "      <td>338</td>\n",
       "      <td>1106523</td>\n",
       "      <td>0.0</td>\n",
       "      <td>31.249333</td>\n",
       "      <td>17.777778</td>\n",
       "      <td>0</td>\n",
       "      <td>NaN</td>\n",
       "      <td>NaN</td>\n",
       "      <td>NaN</td>\n",
       "      <td>NaN</td>\n",
       "      <td>...</td>\n",
       "      <td>0.019977</td>\n",
       "      <td>0.124507</td>\n",
       "      <td>0.029606</td>\n",
       "      <td>-0.030245</td>\n",
       "      <td>-0.016113</td>\n",
       "      <td>-0.030447</td>\n",
       "      <td>0.090976</td>\n",
       "      <td>-0.023069</td>\n",
       "      <td>-0.156031</td>\n",
       "      <td>0.145865</td>\n",
       "    </tr>\n",
       "    <tr>\n",
       "      <th>4</th>\n",
       "      <td>338</td>\n",
       "      <td>1133018</td>\n",
       "      <td>1.0</td>\n",
       "      <td>31.249333</td>\n",
       "      <td>17.777778</td>\n",
       "      <td>0</td>\n",
       "      <td>NaN</td>\n",
       "      <td>NaN</td>\n",
       "      <td>NaN</td>\n",
       "      <td>NaN</td>\n",
       "      <td>...</td>\n",
       "      <td>0.065344</td>\n",
       "      <td>0.062236</td>\n",
       "      <td>0.042675</td>\n",
       "      <td>-0.074659</td>\n",
       "      <td>-0.003690</td>\n",
       "      <td>0.004270</td>\n",
       "      <td>0.156314</td>\n",
       "      <td>-0.034473</td>\n",
       "      <td>-0.109744</td>\n",
       "      <td>0.079326</td>\n",
       "    </tr>\n",
       "    <tr>\n",
       "      <th>...</th>\n",
       "      <td>...</td>\n",
       "      <td>...</td>\n",
       "      <td>...</td>\n",
       "      <td>...</td>\n",
       "      <td>...</td>\n",
       "      <td>...</td>\n",
       "      <td>...</td>\n",
       "      <td>...</td>\n",
       "      <td>...</td>\n",
       "      <td>...</td>\n",
       "      <td>...</td>\n",
       "      <td>...</td>\n",
       "      <td>...</td>\n",
       "      <td>...</td>\n",
       "      <td>...</td>\n",
       "      <td>...</td>\n",
       "      <td>...</td>\n",
       "      <td>...</td>\n",
       "      <td>...</td>\n",
       "      <td>...</td>\n",
       "      <td>...</td>\n",
       "    </tr>\n",
       "    <tr>\n",
       "      <th>106378</th>\n",
       "      <td>832</td>\n",
       "      <td>1004906</td>\n",
       "      <td>0.0</td>\n",
       "      <td>30.740000</td>\n",
       "      <td>5.333333</td>\n",
       "      <td>0</td>\n",
       "      <td>NaN</td>\n",
       "      <td>NaN</td>\n",
       "      <td>NaN</td>\n",
       "      <td>NaN</td>\n",
       "      <td>...</td>\n",
       "      <td>0.056264</td>\n",
       "      <td>0.071677</td>\n",
       "      <td>0.017306</td>\n",
       "      <td>-0.058145</td>\n",
       "      <td>0.069493</td>\n",
       "      <td>-0.021309</td>\n",
       "      <td>0.064047</td>\n",
       "      <td>0.083470</td>\n",
       "      <td>-0.008077</td>\n",
       "      <td>0.051269</td>\n",
       "    </tr>\n",
       "    <tr>\n",
       "      <th>106379</th>\n",
       "      <td>832</td>\n",
       "      <td>1023720</td>\n",
       "      <td>0.0</td>\n",
       "      <td>30.740000</td>\n",
       "      <td>5.333333</td>\n",
       "      <td>0</td>\n",
       "      <td>NaN</td>\n",
       "      <td>NaN</td>\n",
       "      <td>NaN</td>\n",
       "      <td>NaN</td>\n",
       "      <td>...</td>\n",
       "      <td>0.062860</td>\n",
       "      <td>0.107031</td>\n",
       "      <td>0.029776</td>\n",
       "      <td>0.002888</td>\n",
       "      <td>0.147866</td>\n",
       "      <td>0.021425</td>\n",
       "      <td>0.040160</td>\n",
       "      <td>-0.094336</td>\n",
       "      <td>0.033923</td>\n",
       "      <td>-0.069670</td>\n",
       "    </tr>\n",
       "    <tr>\n",
       "      <th>106380</th>\n",
       "      <td>832</td>\n",
       "      <td>5568378</td>\n",
       "      <td>0.0</td>\n",
       "      <td>30.740000</td>\n",
       "      <td>5.333333</td>\n",
       "      <td>0</td>\n",
       "      <td>NaN</td>\n",
       "      <td>NaN</td>\n",
       "      <td>NaN</td>\n",
       "      <td>NaN</td>\n",
       "      <td>...</td>\n",
       "      <td>0.039506</td>\n",
       "      <td>0.044023</td>\n",
       "      <td>-0.017386</td>\n",
       "      <td>0.075620</td>\n",
       "      <td>-0.085523</td>\n",
       "      <td>0.052324</td>\n",
       "      <td>-0.024307</td>\n",
       "      <td>0.074802</td>\n",
       "      <td>-0.017721</td>\n",
       "      <td>0.132000</td>\n",
       "    </tr>\n",
       "    <tr>\n",
       "      <th>106381</th>\n",
       "      <td>832</td>\n",
       "      <td>6034857</td>\n",
       "      <td>0.0</td>\n",
       "      <td>30.740000</td>\n",
       "      <td>5.333333</td>\n",
       "      <td>0</td>\n",
       "      <td>NaN</td>\n",
       "      <td>NaN</td>\n",
       "      <td>NaN</td>\n",
       "      <td>NaN</td>\n",
       "      <td>...</td>\n",
       "      <td>-0.042915</td>\n",
       "      <td>0.028498</td>\n",
       "      <td>-0.021189</td>\n",
       "      <td>-0.005060</td>\n",
       "      <td>0.120736</td>\n",
       "      <td>0.099418</td>\n",
       "      <td>0.023784</td>\n",
       "      <td>0.012300</td>\n",
       "      <td>0.062541</td>\n",
       "      <td>-0.021744</td>\n",
       "    </tr>\n",
       "    <tr>\n",
       "      <th>106382</th>\n",
       "      <td>832</td>\n",
       "      <td>844165</td>\n",
       "      <td>0.0</td>\n",
       "      <td>30.740000</td>\n",
       "      <td>5.333333</td>\n",
       "      <td>0</td>\n",
       "      <td>NaN</td>\n",
       "      <td>NaN</td>\n",
       "      <td>NaN</td>\n",
       "      <td>NaN</td>\n",
       "      <td>...</td>\n",
       "      <td>0.035201</td>\n",
       "      <td>-0.030227</td>\n",
       "      <td>0.046470</td>\n",
       "      <td>-0.004203</td>\n",
       "      <td>-0.106190</td>\n",
       "      <td>-0.005357</td>\n",
       "      <td>0.117857</td>\n",
       "      <td>0.002745</td>\n",
       "      <td>-0.037826</td>\n",
       "      <td>0.121573</td>\n",
       "    </tr>\n",
       "  </tbody>\n",
       "</table>\n",
       "<p>106383 rows × 41 columns</p>\n",
       "</div>"
      ],
      "text/plain": [
       "        user_id  item_id  target  avg_basket  avg_user_qty_per_department  \\\n",
       "0           338  1082185     0.0   31.249333                    17.777778   \n",
       "1           338   995242     0.0   31.249333                    17.777778   \n",
       "2           338  1029743     0.0   31.249333                    17.777778   \n",
       "3           338  1106523     0.0   31.249333                    17.777778   \n",
       "4           338  1133018     1.0   31.249333                    17.777778   \n",
       "...         ...      ...     ...         ...                          ...   \n",
       "106378      832  1004906     0.0   30.740000                     5.333333   \n",
       "106379      832  1023720     0.0   30.740000                     5.333333   \n",
       "106380      832  5568378     0.0   30.740000                     5.333333   \n",
       "106381      832  6034857     0.0   30.740000                     5.333333   \n",
       "106382      832   844165     0.0   30.740000                     5.333333   \n",
       "\n",
       "        inactivity age_desc marital_status_code income_desc homeowner_desc  \\\n",
       "0                0      NaN                 NaN         NaN            NaN   \n",
       "1                0      NaN                 NaN         NaN            NaN   \n",
       "2                0      NaN                 NaN         NaN            NaN   \n",
       "3                0      NaN                 NaN         NaN            NaN   \n",
       "4                0      NaN                 NaN         NaN            NaN   \n",
       "...            ...      ...                 ...         ...            ...   \n",
       "106378           0      NaN                 NaN         NaN            NaN   \n",
       "106379           0      NaN                 NaN         NaN            NaN   \n",
       "106380           0      NaN                 NaN         NaN            NaN   \n",
       "106381           0      NaN                 NaN         NaN            NaN   \n",
       "106382           0      NaN                 NaN         NaN            NaN   \n",
       "\n",
       "        ...     item0     item1     item2     item3     item4     item5  \\\n",
       "0       ...  0.031869  0.061769  0.005470 -0.083484  0.064490  0.116423   \n",
       "1       ...  0.063278  0.008416  0.021401 -0.082523  0.012280  0.121477   \n",
       "2       ...  0.004577  0.063225  0.008429 -0.044307  0.003955  0.109211   \n",
       "3       ...  0.019977  0.124507  0.029606 -0.030245 -0.016113 -0.030447   \n",
       "4       ...  0.065344  0.062236  0.042675 -0.074659 -0.003690  0.004270   \n",
       "...     ...       ...       ...       ...       ...       ...       ...   \n",
       "106378  ...  0.056264  0.071677  0.017306 -0.058145  0.069493 -0.021309   \n",
       "106379  ...  0.062860  0.107031  0.029776  0.002888  0.147866  0.021425   \n",
       "106380  ...  0.039506  0.044023 -0.017386  0.075620 -0.085523  0.052324   \n",
       "106381  ... -0.042915  0.028498 -0.021189 -0.005060  0.120736  0.099418   \n",
       "106382  ...  0.035201 -0.030227  0.046470 -0.004203 -0.106190 -0.005357   \n",
       "\n",
       "           item6     item7     item8     item9  \n",
       "0       0.046586 -0.095957 -0.082073  0.162250  \n",
       "1       0.078272 -0.047995 -0.073631  0.126219  \n",
       "2       0.016099 -0.018862 -0.128738  0.179661  \n",
       "3       0.090976 -0.023069 -0.156031  0.145865  \n",
       "4       0.156314 -0.034473 -0.109744  0.079326  \n",
       "...          ...       ...       ...       ...  \n",
       "106378  0.064047  0.083470 -0.008077  0.051269  \n",
       "106379  0.040160 -0.094336  0.033923 -0.069670  \n",
       "106380 -0.024307  0.074802 -0.017721  0.132000  \n",
       "106381  0.023784  0.012300  0.062541 -0.021744  \n",
       "106382  0.117857  0.002745 -0.037826  0.121573  \n",
       "\n",
       "[106383 rows x 41 columns]"
      ]
     },
     "execution_count": 82,
     "metadata": {},
     "output_type": "execute_result"
    }
   ],
   "source": [
    "data_test_2"
   ]
  },
  {
   "cell_type": "code",
   "execution_count": 83,
   "metadata": {
    "id": "FwpwCPTaIP6R"
   },
   "outputs": [],
   "source": [
    "# Создание списка рекомендаций на основе вероятностей из predict_proba\n",
    "def get_recomendations(test_data, test_preds, data_val_lvl_2):\n",
    "    test_data['predict'] = test_preds\n",
    "\n",
    "    test_data.sort_values(['user_id', 'predict'], ascending=False, inplace=True)\n",
    "\n",
    "    result = test_data.groupby('user_id').head(5)\n",
    "\n",
    "    recs = result.groupby('user_id')['item_id']\n",
    "    recomendations = []\n",
    "    for user, preds in recs:\n",
    "        recomendations.append({'user_id': user, 'recomendations': preds.tolist()})\n",
    "\n",
    "    recomendations = pd.DataFrame(recomendations)\n",
    "\n",
    "    result_lvl_2 = data_val_lvl_2.groupby('user_id')['item_id'].unique().reset_index()\n",
    "    result_lvl_2.columns=['user_id', 'actual']\n",
    "\n",
    "    result_lvl_2 = result_lvl_2.merge(recomendations)\n",
    "    \n",
    "    return result_lvl_2"
   ]
  },
  {
   "cell_type": "code",
   "execution_count": 84,
   "metadata": {
    "colab": {
     "base_uri": "https://localhost:8080/"
    },
    "id": "47Mv4-DdbFjc",
    "outputId": "16d718a7-2cad-46fe-ecee-5f6eb136dfd6"
   },
   "outputs": [
    {
     "data": {
      "text/plain": [
       "Index(['user_id', 'item_id', 'target', 'avg_basket',\n",
       "       'avg_user_qty_per_department', 'inactivity', 'age_desc',\n",
       "       'marital_status_code', 'income_desc', 'homeowner_desc', 'hh_comp_desc',\n",
       "       'household_size_desc', 'kid_category_desc', 'user0', 'user1', 'user2',\n",
       "       'user3', 'user4', 'user5', 'user6', 'user7', 'user8', 'user9', 'price',\n",
       "       'avg_count_item_dep', 'manufacturer', 'department', 'brand',\n",
       "       'commodity_desc', 'sub_commodity_desc', 'curr_size_of_product', 'item0',\n",
       "       'item1', 'item2', 'item3', 'item4', 'item5', 'item6', 'item7', 'item8',\n",
       "       'item9'],\n",
       "      dtype='object')"
      ]
     },
     "execution_count": 84,
     "metadata": {},
     "output_type": "execute_result"
    }
   ],
   "source": [
    "data_lvl_2.columns"
   ]
  },
  {
   "cell_type": "code",
   "execution_count": 167,
   "metadata": {},
   "outputs": [],
   "source": [
    "#data_lvl_2.to_csv('data_lvl_2.csv')"
   ]
  },
  {
   "cell_type": "code",
   "execution_count": 85,
   "metadata": {
    "id": "iAiq9PmL9SuW"
   },
   "outputs": [],
   "source": [
    "X_train = data_lvl_2.drop(['user_id', 'item_id','target'], axis=1)\n",
    "y_train = data_lvl_2[['target']]"
   ]
  },
  {
   "cell_type": "code",
   "execution_count": 86,
   "metadata": {
    "colab": {
     "base_uri": "https://localhost:8080/"
    },
    "id": "5dKC0skS9SuX",
    "outputId": "aebaf849-b03e-4b21-9828-f729ba7ca31d"
   },
   "outputs": [
    {
     "name": "stderr",
     "output_type": "stream",
     "text": [
      "C:\\Anaconda\\lib\\site-packages\\sklearn\\utils\\validation.py:63: DataConversionWarning: A column-vector y was passed when a 1d array was expected. Please change the shape of y to (n_samples, ), for example using ravel().\n",
      "  return f(*args, **kwargs)\n",
      "C:\\Anaconda\\lib\\site-packages\\lightgbm\\basic.py:863: UserWarning: categorical_column in param dict is overridden.\n",
      "  warnings.warn('{} in param dict is overridden.'.format(cat_alias))\n"
     ]
    },
    {
     "name": "stdout",
     "output_type": "stream",
     "text": [
      "Wall time: 2.45 s\n"
     ]
    }
   ],
   "source": [
    "%%time\n",
    "lgb = LGBMClassifier(objective='binary', max_depth=7, categorical_column=cat_feats)\n",
    "lgb.fit(X_train, y_train)\n",
    "\n",
    "train_preds = lgb.predict(X_train)"
   ]
  },
  {
   "cell_type": "code",
   "execution_count": 87,
   "metadata": {
    "colab": {
     "base_uri": "https://localhost:8080/"
    },
    "id": "rd3w6CynMeH6",
    "outputId": "28d9d27d-3270-4140-d10f-8f8fa07944f5"
   },
   "outputs": [
    {
     "data": {
      "text/plain": [
       "array([1., 1., 1., ..., 0., 0., 0.])"
      ]
     },
     "execution_count": 87,
     "metadata": {},
     "output_type": "execute_result"
    }
   ],
   "source": [
    "train_preds"
   ]
  },
  {
   "cell_type": "markdown",
   "metadata": {
    "id": "67fixzk59SuX"
   },
   "source": [
    "Берем топ-k предсказаний, ранжированных по вероятности, для каждого юзера"
   ]
  },
  {
   "cell_type": "code",
   "execution_count": 88,
   "metadata": {
    "colab": {
     "base_uri": "https://localhost:8080/"
    },
    "id": "klueOvX33j44",
    "outputId": "98b3a46e-c638-4234-9d19-1d435122dc1a"
   },
   "outputs": [
    {
     "data": {
      "text/plain": [
       "0.05263533080864335"
      ]
     },
     "execution_count": 88,
     "metadata": {},
     "output_type": "execute_result"
    }
   ],
   "source": [
    "train_preds.mean()"
   ]
  },
  {
   "cell_type": "code",
   "execution_count": 89,
   "metadata": {
    "colab": {
     "base_uri": "https://localhost:8080/"
    },
    "id": "TcXQ6hm63m2G",
    "outputId": "d9d13297-8859-4521-855d-1de33a474d44"
   },
   "outputs": [
    {
     "data": {
      "text/plain": [
       "112225"
      ]
     },
     "execution_count": 89,
     "metadata": {},
     "output_type": "execute_result"
    }
   ],
   "source": [
    "len(train_preds)"
   ]
  },
  {
   "cell_type": "code",
   "execution_count": 90,
   "metadata": {
    "id": "2cO8wv5z3uZh"
   },
   "outputs": [],
   "source": [
    "X_train['preds'] = train_preds"
   ]
  },
  {
   "cell_type": "code",
   "execution_count": 91,
   "metadata": {
    "id": "JgctkPVoj5AH"
   },
   "outputs": [],
   "source": [
    "X_train[['user_id', 'item_id','target']] = targets_lvl_2[['user_id', 'item_id','target']]\n"
   ]
  },
  {
   "cell_type": "code",
   "execution_count": 92,
   "metadata": {
    "colab": {
     "base_uri": "https://localhost:8080/"
    },
    "id": "LdT0UBLN31o1",
    "outputId": "da01931b-0cb7-4a7a-cff2-0be8cd953d54"
   },
   "outputs": [
    {
     "data": {
      "text/plain": [
       "1094"
      ]
     },
     "execution_count": 92,
     "metadata": {},
     "output_type": "execute_result"
    }
   ],
   "source": [
    "X_train[X_train.preds == 1]['user_id'].nunique()"
   ]
  },
  {
   "cell_type": "code",
   "execution_count": 93,
   "metadata": {
    "colab": {
     "base_uri": "https://localhost:8080/"
    },
    "id": "7nsJtKSZ35bD",
    "outputId": "8029d01d-2ae0-4491-e49f-e14b0aa1b1fa"
   },
   "outputs": [
    {
     "data": {
      "text/plain": [
       "2132"
      ]
     },
     "execution_count": 93,
     "metadata": {},
     "output_type": "execute_result"
    }
   ],
   "source": [
    "X_train['user_id'].nunique()"
   ]
  },
  {
   "cell_type": "code",
   "execution_count": 94,
   "metadata": {
    "id": "N3ZakEyJqZeI"
   },
   "outputs": [],
   "source": [
    "X_test = data_lvl_2.drop(['target'], axis=1)"
   ]
  },
  {
   "cell_type": "code",
   "execution_count": 95,
   "metadata": {
    "id": "th7bhOW6qZgU"
   },
   "outputs": [],
   "source": [
    "lgb_test_pred = lgb.predict_proba(X_test.drop(['user_id','item_id'],axis=1))[:,1]"
   ]
  },
  {
   "cell_type": "code",
   "execution_count": 96,
   "metadata": {
    "colab": {
     "base_uri": "https://localhost:8080/"
    },
    "id": "EvSUunVQqZjj",
    "outputId": "7fec032f-4e26-409d-ba6e-f60edc393bb0"
   },
   "outputs": [
    {
     "data": {
      "text/plain": [
       "0         0.804189\n",
       "1         0.574541\n",
       "2         0.750031\n",
       "3         0.585690\n",
       "4         0.385261\n",
       "            ...   \n",
       "112220    0.019515\n",
       "112221    0.001997\n",
       "112222    0.034616\n",
       "112223    0.008123\n",
       "112224    0.022382\n",
       "Name: predict, Length: 112225, dtype: float64"
      ]
     },
     "execution_count": 96,
     "metadata": {},
     "output_type": "execute_result"
    }
   ],
   "source": [
    "X_test['predict'] = lgb.predict_proba(X_test.drop(['user_id','item_id'],axis=1))[:,1]\n",
    "X_test['predict']"
   ]
  },
  {
   "cell_type": "code",
   "execution_count": 97,
   "metadata": {
    "colab": {
     "base_uri": "https://localhost:8080/",
     "height": 424
    },
    "id": "njcKkgKHrf92",
    "outputId": "60f856a2-ba20-4eb7-fdd8-90eeebc655d8"
   },
   "outputs": [
    {
     "data": {
      "text/html": [
       "<div>\n",
       "<style scoped>\n",
       "    .dataframe tbody tr th:only-of-type {\n",
       "        vertical-align: middle;\n",
       "    }\n",
       "\n",
       "    .dataframe tbody tr th {\n",
       "        vertical-align: top;\n",
       "    }\n",
       "\n",
       "    .dataframe thead th {\n",
       "        text-align: right;\n",
       "    }\n",
       "</style>\n",
       "<table border=\"1\" class=\"dataframe\">\n",
       "  <thead>\n",
       "    <tr style=\"text-align: right;\">\n",
       "      <th></th>\n",
       "      <th>user_id</th>\n",
       "      <th>actual</th>\n",
       "      <th>recomendations</th>\n",
       "    </tr>\n",
       "  </thead>\n",
       "  <tbody>\n",
       "    <tr>\n",
       "      <th>0</th>\n",
       "      <td>1</td>\n",
       "      <td>[821867, 834484, 856942, 865456, 889248, 90795...</td>\n",
       "      <td>[1082185, 1082185, 1082185, 981760, 995242]</td>\n",
       "    </tr>\n",
       "    <tr>\n",
       "      <th>1</th>\n",
       "      <td>6</td>\n",
       "      <td>[920308, 926804, 946489, 1006718, 1017061, 107...</td>\n",
       "      <td>[1082185, 1082185, 1029743, 1106523, 995242]</td>\n",
       "    </tr>\n",
       "    <tr>\n",
       "      <th>2</th>\n",
       "      <td>7</td>\n",
       "      <td>[840386, 889774, 898068, 909714, 929067, 95347...</td>\n",
       "      <td>[1082185, 1082185, 1029743, 995242, 1106523]</td>\n",
       "    </tr>\n",
       "    <tr>\n",
       "      <th>3</th>\n",
       "      <td>8</td>\n",
       "      <td>[835098, 872137, 910439, 924610, 992977, 10412...</td>\n",
       "      <td>[1082185, 1082185, 1029743, 1029743, 995242]</td>\n",
       "    </tr>\n",
       "    <tr>\n",
       "      <th>4</th>\n",
       "      <td>9</td>\n",
       "      <td>[864335, 990865, 1029743, 9297474, 10457112, 8...</td>\n",
       "      <td>[1029743, 1082185, 1106523, 1126899, 995242]</td>\n",
       "    </tr>\n",
       "    <tr>\n",
       "      <th>...</th>\n",
       "      <td>...</td>\n",
       "      <td>...</td>\n",
       "      <td>...</td>\n",
       "    </tr>\n",
       "    <tr>\n",
       "      <th>1899</th>\n",
       "      <td>2496</td>\n",
       "      <td>[6534178]</td>\n",
       "      <td>[1082185, 1082185, 1029743, 1106523, 1106523]</td>\n",
       "    </tr>\n",
       "    <tr>\n",
       "      <th>1900</th>\n",
       "      <td>2497</td>\n",
       "      <td>[1016709, 9835695, 1132298, 16809501, 845294, ...</td>\n",
       "      <td>[1082185, 1029743, 1106523, 883404, 981760]</td>\n",
       "    </tr>\n",
       "    <tr>\n",
       "      <th>1901</th>\n",
       "      <td>2498</td>\n",
       "      <td>[15716530, 834484, 901776, 914190, 958382, 972...</td>\n",
       "      <td>[1082185, 1029743, 995242, 981760, 1070820]</td>\n",
       "    </tr>\n",
       "    <tr>\n",
       "      <th>1902</th>\n",
       "      <td>2499</td>\n",
       "      <td>[867188, 877580, 902396, 914190, 951590, 95813...</td>\n",
       "      <td>[1029743, 1082185, 1106523, 883404, 995242]</td>\n",
       "    </tr>\n",
       "    <tr>\n",
       "      <th>1903</th>\n",
       "      <td>2500</td>\n",
       "      <td>[852182, 856345, 923746, 948670, 1018007, 1044...</td>\n",
       "      <td>[1082185, 1082185, 1029743, 1126899, 1070820]</td>\n",
       "    </tr>\n",
       "  </tbody>\n",
       "</table>\n",
       "<p>1904 rows × 3 columns</p>\n",
       "</div>"
      ],
      "text/plain": [
       "      user_id                                             actual  \\\n",
       "0           1  [821867, 834484, 856942, 865456, 889248, 90795...   \n",
       "1           6  [920308, 926804, 946489, 1006718, 1017061, 107...   \n",
       "2           7  [840386, 889774, 898068, 909714, 929067, 95347...   \n",
       "3           8  [835098, 872137, 910439, 924610, 992977, 10412...   \n",
       "4           9  [864335, 990865, 1029743, 9297474, 10457112, 8...   \n",
       "...       ...                                                ...   \n",
       "1899     2496                                          [6534178]   \n",
       "1900     2497  [1016709, 9835695, 1132298, 16809501, 845294, ...   \n",
       "1901     2498  [15716530, 834484, 901776, 914190, 958382, 972...   \n",
       "1902     2499  [867188, 877580, 902396, 914190, 951590, 95813...   \n",
       "1903     2500  [852182, 856345, 923746, 948670, 1018007, 1044...   \n",
       "\n",
       "                                     recomendations  \n",
       "0       [1082185, 1082185, 1082185, 981760, 995242]  \n",
       "1      [1082185, 1082185, 1029743, 1106523, 995242]  \n",
       "2      [1082185, 1082185, 1029743, 995242, 1106523]  \n",
       "3      [1082185, 1082185, 1029743, 1029743, 995242]  \n",
       "4      [1029743, 1082185, 1106523, 1126899, 995242]  \n",
       "...                                             ...  \n",
       "1899  [1082185, 1082185, 1029743, 1106523, 1106523]  \n",
       "1900    [1082185, 1029743, 1106523, 883404, 981760]  \n",
       "1901    [1082185, 1029743, 995242, 981760, 1070820]  \n",
       "1902    [1029743, 1082185, 1106523, 883404, 995242]  \n",
       "1903  [1082185, 1082185, 1029743, 1126899, 1070820]  \n",
       "\n",
       "[1904 rows x 3 columns]"
      ]
     },
     "execution_count": 97,
     "metadata": {},
     "output_type": "execute_result"
    }
   ],
   "source": [
    "#Рекомендации после Lightgbm\n",
    "result_test_1 = get_recomendations(X_test, lgb_test_pred, data_val_lvl_2)\n",
    "result_test_1"
   ]
  },
  {
   "cell_type": "code",
   "execution_count": 98,
   "metadata": {
    "colab": {
     "base_uri": "https://localhost:8080/"
    },
    "id": "yB5oeVBErgqP",
    "outputId": "90126cd7-bf69-4029-9859-d10a450cbfbf"
   },
   "outputs": [
    {
     "data": {
      "text/plain": [
       "0.1905462184873917"
      ]
     },
     "execution_count": 98,
     "metadata": {},
     "output_type": "execute_result"
    }
   ],
   "source": [
    "result_test_1.apply(lambda row: precision_at_k(row['recomendations'], row['actual'], k=5), axis=1).mean()"
   ]
  },
  {
   "cell_type": "markdown",
   "metadata": {},
   "source": [
    "## Метрика СНИЗИЛАСЬ по сравнению с метрикой бейзлайна - рекоммендации get_own_recommendations (было 0,2182). Модель не тюнил, фокус на AutoML"
   ]
  },
  {
   "cell_type": "markdown",
   "metadata": {
    "id": "hzAq5jn9TkcM"
   },
   "source": [
    "LAMA как вторая модель"
   ]
  },
  {
   "cell_type": "code",
   "execution_count": 176,
   "metadata": {
    "id": "CucAhYqRlPwh"
   },
   "outputs": [],
   "source": [
    "TASK = Task('reg', loss='rmsle', metric = mean_quantile_error, greater_is_better=False)\n",
    "TIMEOUT = 400\n",
    "N_THREADS = 4\n",
    "MEMORY_LIMIT = 7\n",
    "N_FOLDS = 5\n",
    "RANDOM_STATE = 100\n",
    "TARGET_NAME = 'target'\n",
    "TEST_SIZE=0.2"
   ]
  },
  {
   "cell_type": "code",
   "execution_count": 177,
   "metadata": {
    "id": "EpQimM5hUeo-"
   },
   "outputs": [],
   "source": [
    "roles = {'target': TARGET_NAME, 'drop': ['user_id', 'item_id']}"
   ]
  },
  {
   "cell_type": "code",
   "execution_count": 178,
   "metadata": {
    "id": "McCx64vDUerE"
   },
   "outputs": [],
   "source": [
    "lama_model = TabularAutoML(task=TASK,\n",
    "                            timeout=TIMEOUT,\n",
    "                            cpu_limit = N_THREADS,\n",
    "                            memory_limit = MEMORY_LIMIT,\n",
    "                            gpu_ids='all',\n",
    "                            reader_params = {'n_jobs': N_THREADS, 'cv': N_FOLDS, 'random_state': RANDOM_STATE},\n",
    "                             \n",
    "                            general_params={'use_algos': [ ['cb_tuned','lgb_tuned'], ['xgb'] ]},\n",
    "                             \n",
    "                            tuning_params={'max_tuning_iter': 10},\n",
    ")"
   ]
  },
  {
   "cell_type": "code",
   "execution_count": 179,
   "metadata": {
    "colab": {
     "base_uri": "https://localhost:8080/",
     "height": 342
    },
    "id": "Y7YHys44Ueu_",
    "outputId": "6157effa-6453-464b-e2d6-6bc2c8ff253f"
   },
   "outputs": [
    {
     "name": "stderr",
     "output_type": "stream",
     "text": [
      "INFO:optuna.storages._in_memory:A new study created in memory with name: no-name-f6075a44-73f8-407f-9b5b-2ff0b43153bb\n",
      "INFO:optuna.study.study:Trial 0 finished with value: -0.06120467807587499 and parameters: {'feature_fraction': 0.6872700594236812, 'num_leaves': 244}. Best is trial 0 with value: -0.06120467807587499.\n",
      "INFO:optuna.storages._in_memory:A new study created in memory with name: no-name-ee11c5a7-7ce7-426c-88f8-ea6f205f5def\n",
      "Custom logger is already specified. Specify more than one logger at same time is not thread safe.INFO:optuna.study.study:Trial 0 finished with value: -0.06849906489503355 and parameters: {'max_depth': 4}. Best is trial 0 with value: -0.06849906489503355.\n",
      "INFO:optuna.study.study:Trial 1 finished with value: -0.0648310265396962 and parameters: {'max_depth': 7}. Best is trial 1 with value: -0.0648310265396962.\n",
      "INFO:optuna.study.study:Trial 2 finished with value: -0.06623978692926147 and parameters: {'max_depth': 6}. Best is trial 1 with value: -0.0648310265396962.\n",
      "INFO:optuna.study.study:Trial 3 finished with value: -0.06705536890103743 and parameters: {'max_depth': 5}. Best is trial 1 with value: -0.0648310265396962.\n"
     ]
    },
    {
     "name": "stdout",
     "output_type": "stream",
     "text": [
      "Wall time: 6min 52s\n"
     ]
    }
   ],
   "source": [
    "%%time\n",
    "train_pred = lama_model.fit_predict(data_lvl_2, roles = roles)"
   ]
  },
  {
   "cell_type": "code",
   "execution_count": 180,
   "metadata": {
    "id": "pBN9MbAHpWeA"
   },
   "outputs": [],
   "source": [
    "train_preds = lama_model.predict(targets_lvl_2.drop('target',axis=1))"
   ]
  },
  {
   "cell_type": "code",
   "execution_count": 181,
   "metadata": {
    "id": "0Iyr0BHSpjM8"
   },
   "outputs": [
    {
     "data": {
      "text/plain": [
       "array([[0.63487667],\n",
       "       [0.44008395],\n",
       "       [0.5719971 ],\n",
       "       ...,\n",
       "       [0.02747615],\n",
       "       [0.00796405],\n",
       "       [0.04579499]], dtype=float32)"
      ]
     },
     "execution_count": 181,
     "metadata": {},
     "output_type": "execute_result"
    }
   ],
   "source": [
    "train_preds"
   ]
  },
  {
   "cell_type": "code",
   "execution_count": 182,
   "metadata": {
    "id": "dP6om0LhrUXV"
   },
   "outputs": [],
   "source": [
    "test_preds = lama_model.predict(data_test_2.drop('target',axis=1))\n"
   ]
  },
  {
   "cell_type": "code",
   "execution_count": 183,
   "metadata": {
    "id": "unlAlP3OPxwe"
   },
   "outputs": [],
   "source": [
    "test_preds = test_preds.data"
   ]
  },
  {
   "cell_type": "code",
   "execution_count": 184,
   "metadata": {
    "id": "xPdNx6PHKDG6"
   },
   "outputs": [
    {
     "data": {
      "text/html": [
       "<div>\n",
       "<style scoped>\n",
       "    .dataframe tbody tr th:only-of-type {\n",
       "        vertical-align: middle;\n",
       "    }\n",
       "\n",
       "    .dataframe tbody tr th {\n",
       "        vertical-align: top;\n",
       "    }\n",
       "\n",
       "    .dataframe thead th {\n",
       "        text-align: right;\n",
       "    }\n",
       "</style>\n",
       "<table border=\"1\" class=\"dataframe\">\n",
       "  <thead>\n",
       "    <tr style=\"text-align: right;\">\n",
       "      <th></th>\n",
       "      <th>user_id</th>\n",
       "      <th>actual</th>\n",
       "      <th>recomendations</th>\n",
       "    </tr>\n",
       "  </thead>\n",
       "  <tbody>\n",
       "    <tr>\n",
       "      <th>0</th>\n",
       "      <td>1</td>\n",
       "      <td>[821867, 834484, 856942, 865456, 889248, 90795...</td>\n",
       "      <td>[1082185, 1082185, 1082185, 995242, 995242]</td>\n",
       "    </tr>\n",
       "    <tr>\n",
       "      <th>1</th>\n",
       "      <td>3</td>\n",
       "      <td>[835476, 851057, 872021, 878302, 879948, 90963...</td>\n",
       "      <td>[1029743, 1082185, 951590, 1106523, 1053690]</td>\n",
       "    </tr>\n",
       "    <tr>\n",
       "      <th>2</th>\n",
       "      <td>6</td>\n",
       "      <td>[920308, 926804, 946489, 1006718, 1017061, 107...</td>\n",
       "      <td>[1082185, 1082185, 1029743, 994928, 994928]</td>\n",
       "    </tr>\n",
       "    <tr>\n",
       "      <th>3</th>\n",
       "      <td>7</td>\n",
       "      <td>[840386, 889774, 898068, 909714, 929067, 95347...</td>\n",
       "      <td>[1082185, 1082185, 1029743, 1106523, 981760]</td>\n",
       "    </tr>\n",
       "    <tr>\n",
       "      <th>4</th>\n",
       "      <td>8</td>\n",
       "      <td>[835098, 872137, 910439, 924610, 992977, 10412...</td>\n",
       "      <td>[1082185, 1082185, 1029743, 1029743, 962568]</td>\n",
       "    </tr>\n",
       "    <tr>\n",
       "      <th>...</th>\n",
       "      <td>...</td>\n",
       "      <td>...</td>\n",
       "      <td>...</td>\n",
       "    </tr>\n",
       "    <tr>\n",
       "      <th>2012</th>\n",
       "      <td>2496</td>\n",
       "      <td>[6534178]</td>\n",
       "      <td>[1082185, 1082185, 883404, 1029743, 1106523]</td>\n",
       "    </tr>\n",
       "    <tr>\n",
       "      <th>2013</th>\n",
       "      <td>2497</td>\n",
       "      <td>[1016709, 9835695, 1132298, 16809501, 845294, ...</td>\n",
       "      <td>[1082185, 1029743, 981760, 1106523, 995785]</td>\n",
       "    </tr>\n",
       "    <tr>\n",
       "      <th>2014</th>\n",
       "      <td>2498</td>\n",
       "      <td>[15716530, 834484, 901776, 914190, 958382, 972...</td>\n",
       "      <td>[1082185, 1029743, 1106523, 1106523, 1070820]</td>\n",
       "    </tr>\n",
       "    <tr>\n",
       "      <th>2015</th>\n",
       "      <td>2499</td>\n",
       "      <td>[867188, 877580, 902396, 914190, 951590, 95813...</td>\n",
       "      <td>[1082185, 1029743, 883404, 1106523, 866211]</td>\n",
       "    </tr>\n",
       "    <tr>\n",
       "      <th>2016</th>\n",
       "      <td>2500</td>\n",
       "      <td>[852182, 856345, 923746, 948670, 1018007, 1044...</td>\n",
       "      <td>[1082185, 1082185, 1058997, 1058997, 1029743]</td>\n",
       "    </tr>\n",
       "  </tbody>\n",
       "</table>\n",
       "<p>2017 rows × 3 columns</p>\n",
       "</div>"
      ],
      "text/plain": [
       "      user_id                                             actual  \\\n",
       "0           1  [821867, 834484, 856942, 865456, 889248, 90795...   \n",
       "1           3  [835476, 851057, 872021, 878302, 879948, 90963...   \n",
       "2           6  [920308, 926804, 946489, 1006718, 1017061, 107...   \n",
       "3           7  [840386, 889774, 898068, 909714, 929067, 95347...   \n",
       "4           8  [835098, 872137, 910439, 924610, 992977, 10412...   \n",
       "...       ...                                                ...   \n",
       "2012     2496                                          [6534178]   \n",
       "2013     2497  [1016709, 9835695, 1132298, 16809501, 845294, ...   \n",
       "2014     2498  [15716530, 834484, 901776, 914190, 958382, 972...   \n",
       "2015     2499  [867188, 877580, 902396, 914190, 951590, 95813...   \n",
       "2016     2500  [852182, 856345, 923746, 948670, 1018007, 1044...   \n",
       "\n",
       "                                     recomendations  \n",
       "0       [1082185, 1082185, 1082185, 995242, 995242]  \n",
       "1      [1029743, 1082185, 951590, 1106523, 1053690]  \n",
       "2       [1082185, 1082185, 1029743, 994928, 994928]  \n",
       "3      [1082185, 1082185, 1029743, 1106523, 981760]  \n",
       "4      [1082185, 1082185, 1029743, 1029743, 962568]  \n",
       "...                                             ...  \n",
       "2012   [1082185, 1082185, 883404, 1029743, 1106523]  \n",
       "2013    [1082185, 1029743, 981760, 1106523, 995785]  \n",
       "2014  [1082185, 1029743, 1106523, 1106523, 1070820]  \n",
       "2015    [1082185, 1029743, 883404, 1106523, 866211]  \n",
       "2016  [1082185, 1082185, 1058997, 1058997, 1029743]  \n",
       "\n",
       "[2017 rows x 3 columns]"
      ]
     },
     "execution_count": 184,
     "metadata": {},
     "output_type": "execute_result"
    }
   ],
   "source": [
    "result_test_2 = get_recomendations(data_test_2, test_preds, data_val_lvl_2)\n",
    "result_test_2"
   ]
  },
  {
   "cell_type": "code",
   "execution_count": 185,
   "metadata": {
    "id": "7JgdKvdmYY2I"
   },
   "outputs": [
    {
     "data": {
      "text/plain": [
       "0.19871095686663032"
      ]
     },
     "execution_count": 185,
     "metadata": {},
     "output_type": "execute_result"
    }
   ],
   "source": [
    "result_test_2.apply(lambda row: precision_at_k(row['recomendations'], row['actual'], k=5), axis=1).mean()"
   ]
  },
  {
   "cell_type": "markdown",
   "metadata": {},
   "source": [
    "## Метрика незначительно улучшилась по сравнению с Lightgbm, однако хуже натюненного бейзлайна.\n",
    "### Пробовал loss mse, rmsle, менял количество итераций. \n",
    "Лучшие гиперпараметры: loss rmsle, \n",
    "'use_algos': [ ['cb_tuned','lgb_tuned'], ['xgb'] ]\n",
    "Локальная машина не позволила запустить полноценно.\n",
    "Оставлены параметры с оптимальным результатом (таймаут маленьки).\n",
    "Необходимо поработать в будущем с фичами, а также менять количество факторов для эмбеддингов.\n",
    "Попробую еще максимально выжать из LAMA на Colab в будущем.\n",
    "Сохраняю рекомендации натюненного бейзлайна (get_own_recommendations)"
   ]
  },
  {
   "cell_type": "code",
   "execution_count": null,
   "metadata": {
    "id": "tt13Ym-kZLCb"
   },
   "outputs": [],
   "source": [
    "# Сохраняем рекоммендации в файл.\n",
    "#result_test_2.to_csv('recomendations_als.csv')"
   ]
  },
  {
   "cell_type": "markdown",
   "metadata": {
    "id": "OMEEb9kgvyqL"
   },
   "source": [
    "# Выводы\n",
    "По сравнению с бейзлайном метрика значительно ухудшена. Целевой порог (0.18) превышен.\n",
    "Лучшая метрика 0.218199\n",
    "Извиняюсь за слабое оформление, фокус был на освоение LAMA, были нюансы, полезная, но нужны мощные ресурсы."
   ]
  },
  {
   "cell_type": "code",
   "execution_count": 195,
   "metadata": {},
   "outputs": [
    {
     "data": {
      "text/html": [
       "<div>\n",
       "<style scoped>\n",
       "    .dataframe tbody tr th:only-of-type {\n",
       "        vertical-align: middle;\n",
       "    }\n",
       "\n",
       "    .dataframe tbody tr th {\n",
       "        vertical-align: top;\n",
       "    }\n",
       "\n",
       "    .dataframe thead th {\n",
       "        text-align: right;\n",
       "    }\n",
       "</style>\n",
       "<table border=\"1\" class=\"dataframe\">\n",
       "  <thead>\n",
       "    <tr style=\"text-align: right;\">\n",
       "      <th></th>\n",
       "      <th>user_id</th>\n",
       "      <th>actual</th>\n",
       "      <th>own_rec</th>\n",
       "    </tr>\n",
       "  </thead>\n",
       "  <tbody>\n",
       "    <tr>\n",
       "      <th>0</th>\n",
       "      <td>1</td>\n",
       "      <td>[853529, 865456, 867607, 872137, 874905, 87524...</td>\n",
       "      <td>[1082185, 995242, 1029743, 1106523, 1133018]</td>\n",
       "    </tr>\n",
       "    <tr>\n",
       "      <th>1</th>\n",
       "      <td>2</td>\n",
       "      <td>[15830248, 838136, 839656, 861272, 866211, 870...</td>\n",
       "      <td>[1082185, 995242, 1029743, 1106523, 1133018]</td>\n",
       "    </tr>\n",
       "    <tr>\n",
       "      <th>2</th>\n",
       "      <td>4</td>\n",
       "      <td>[883932, 970760, 1035676, 1055863, 1097610, 67...</td>\n",
       "      <td>[1082185, 995242, 1029743, 1106523, 1133018]</td>\n",
       "    </tr>\n",
       "    <tr>\n",
       "      <th>3</th>\n",
       "      <td>6</td>\n",
       "      <td>[1024306, 1102949, 6548453, 835394, 940804, 96...</td>\n",
       "      <td>[1082185, 995242, 1029743, 1106523, 1133018]</td>\n",
       "    </tr>\n",
       "    <tr>\n",
       "      <th>4</th>\n",
       "      <td>7</td>\n",
       "      <td>[836281, 843306, 845294, 914190, 920456, 93886...</td>\n",
       "      <td>[1082185, 995242, 1029743, 1106523, 1133018]</td>\n",
       "    </tr>\n",
       "    <tr>\n",
       "      <th>...</th>\n",
       "      <td>...</td>\n",
       "      <td>...</td>\n",
       "      <td>...</td>\n",
       "    </tr>\n",
       "    <tr>\n",
       "      <th>2149</th>\n",
       "      <td>2496</td>\n",
       "      <td>[831509, 867188, 1013623, 1048851, 5592734, 16...</td>\n",
       "      <td>[1082185, 995242, 1029743, 1106523, 1133018]</td>\n",
       "    </tr>\n",
       "    <tr>\n",
       "      <th>2150</th>\n",
       "      <td>2497</td>\n",
       "      <td>[820291, 824759, 838797, 859010, 859075, 86077...</td>\n",
       "      <td>[1082185, 995242, 1029743, 1106523, 1133018]</td>\n",
       "    </tr>\n",
       "    <tr>\n",
       "      <th>2151</th>\n",
       "      <td>2498</td>\n",
       "      <td>[865511, 962991, 1076374, 1102358, 5564901, 15...</td>\n",
       "      <td>[1082185, 995242, 1029743, 1106523, 1133018]</td>\n",
       "    </tr>\n",
       "    <tr>\n",
       "      <th>2152</th>\n",
       "      <td>2499</td>\n",
       "      <td>[861282, 921744, 1050968, 13842089, 828837, 86...</td>\n",
       "      <td>[1082185, 995242, 1029743, 1106523, 1133018]</td>\n",
       "    </tr>\n",
       "    <tr>\n",
       "      <th>2153</th>\n",
       "      <td>2500</td>\n",
       "      <td>[856455, 902192, 903476, 931672, 936634, 95170...</td>\n",
       "      <td>[1082185, 995242, 1029743, 1106523, 1133018]</td>\n",
       "    </tr>\n",
       "  </tbody>\n",
       "</table>\n",
       "<p>2154 rows × 3 columns</p>\n",
       "</div>"
      ],
      "text/plain": [
       "      user_id                                             actual  \\\n",
       "0           1  [853529, 865456, 867607, 872137, 874905, 87524...   \n",
       "1           2  [15830248, 838136, 839656, 861272, 866211, 870...   \n",
       "2           4  [883932, 970760, 1035676, 1055863, 1097610, 67...   \n",
       "3           6  [1024306, 1102949, 6548453, 835394, 940804, 96...   \n",
       "4           7  [836281, 843306, 845294, 914190, 920456, 93886...   \n",
       "...       ...                                                ...   \n",
       "2149     2496  [831509, 867188, 1013623, 1048851, 5592734, 16...   \n",
       "2150     2497  [820291, 824759, 838797, 859010, 859075, 86077...   \n",
       "2151     2498  [865511, 962991, 1076374, 1102358, 5564901, 15...   \n",
       "2152     2499  [861282, 921744, 1050968, 13842089, 828837, 86...   \n",
       "2153     2500  [856455, 902192, 903476, 931672, 936634, 95170...   \n",
       "\n",
       "                                           own_rec  \n",
       "0     [1082185, 995242, 1029743, 1106523, 1133018]  \n",
       "1     [1082185, 995242, 1029743, 1106523, 1133018]  \n",
       "2     [1082185, 995242, 1029743, 1106523, 1133018]  \n",
       "3     [1082185, 995242, 1029743, 1106523, 1133018]  \n",
       "4     [1082185, 995242, 1029743, 1106523, 1133018]  \n",
       "...                                            ...  \n",
       "2149  [1082185, 995242, 1029743, 1106523, 1133018]  \n",
       "2150  [1082185, 995242, 1029743, 1106523, 1133018]  \n",
       "2151  [1082185, 995242, 1029743, 1106523, 1133018]  \n",
       "2152  [1082185, 995242, 1029743, 1106523, 1133018]  \n",
       "2153  [1082185, 995242, 1029743, 1106523, 1133018]  \n",
       "\n",
       "[2154 rows x 3 columns]"
      ]
     },
     "execution_count": 195,
     "metadata": {},
     "output_type": "execute_result"
    }
   ],
   "source": [
    "final_result = result_lvl_1[['user_id','actual','own_rec']].copy()\n",
    "final_result['own_rec'] = final_result['own_rec'].apply(lambda x: x[:5])\n",
    "final_result"
   ]
  },
  {
   "cell_type": "code",
   "execution_count": 196,
   "metadata": {},
   "outputs": [],
   "source": [
    "final_result.to_csv('recomendations_als.csv')"
   ]
  }
 ],
 "metadata": {
  "accelerator": "GPU",
  "colab": {
   "collapsed_sections": [],
   "name": "Course_project.ipynb",
   "provenance": []
  },
  "kernelspec": {
   "display_name": "Python 3",
   "language": "python",
   "name": "python3"
  },
  "language_info": {
   "codemirror_mode": {
    "name": "ipython",
    "version": 3
   },
   "file_extension": ".py",
   "mimetype": "text/x-python",
   "name": "python",
   "nbconvert_exporter": "python",
   "pygments_lexer": "ipython3",
   "version": "3.8.8"
  },
  "widgets": {
   "application/vnd.jupyter.widget-state+json": {
    "044dcf20bb9241ebb8599a9a707cc7c8": {
     "model_module": "@jupyter-widgets/controls",
     "model_module_version": "1.5.0",
     "model_name": "FloatProgressModel",
     "state": {
      "_dom_classes": [],
      "_model_module": "@jupyter-widgets/controls",
      "_model_module_version": "1.5.0",
      "_model_name": "FloatProgressModel",
      "_view_count": null,
      "_view_module": "@jupyter-widgets/controls",
      "_view_module_version": "1.5.0",
      "_view_name": "ProgressView",
      "bar_style": "success",
      "description": "",
      "description_tooltip": null,
      "layout": "IPY_MODEL_b5d34cfe179b4105896938751223f35b",
      "max": 15,
      "min": 0,
      "orientation": "horizontal",
      "style": "IPY_MODEL_3bc12aa5088a46cba8f7715d28fa0417",
      "value": 15
     }
    },
    "058d6367b6b54c9687594e87cd613ca9": {
     "model_module": "@jupyter-widgets/base",
     "model_module_version": "1.2.0",
     "model_name": "LayoutModel",
     "state": {
      "_model_module": "@jupyter-widgets/base",
      "_model_module_version": "1.2.0",
      "_model_name": "LayoutModel",
      "_view_count": null,
      "_view_module": "@jupyter-widgets/base",
      "_view_module_version": "1.2.0",
      "_view_name": "LayoutView",
      "align_content": null,
      "align_items": null,
      "align_self": null,
      "border": null,
      "bottom": null,
      "display": null,
      "flex": null,
      "flex_flow": null,
      "grid_area": null,
      "grid_auto_columns": null,
      "grid_auto_flow": null,
      "grid_auto_rows": null,
      "grid_column": null,
      "grid_gap": null,
      "grid_row": null,
      "grid_template_areas": null,
      "grid_template_columns": null,
      "grid_template_rows": null,
      "height": null,
      "justify_content": null,
      "justify_items": null,
      "left": null,
      "margin": null,
      "max_height": null,
      "max_width": null,
      "min_height": null,
      "min_width": null,
      "object_fit": null,
      "object_position": null,
      "order": null,
      "overflow": null,
      "overflow_x": null,
      "overflow_y": null,
      "padding": null,
      "right": null,
      "top": null,
      "visibility": null,
      "width": null
     }
    },
    "0733af7e377b4465a6b241caef9fc366": {
     "model_module": "@jupyter-widgets/base",
     "model_module_version": "1.2.0",
     "model_name": "LayoutModel",
     "state": {
      "_model_module": "@jupyter-widgets/base",
      "_model_module_version": "1.2.0",
      "_model_name": "LayoutModel",
      "_view_count": null,
      "_view_module": "@jupyter-widgets/base",
      "_view_module_version": "1.2.0",
      "_view_name": "LayoutView",
      "align_content": null,
      "align_items": null,
      "align_self": null,
      "border": null,
      "bottom": null,
      "display": null,
      "flex": null,
      "flex_flow": null,
      "grid_area": null,
      "grid_auto_columns": null,
      "grid_auto_flow": null,
      "grid_auto_rows": null,
      "grid_column": null,
      "grid_gap": null,
      "grid_row": null,
      "grid_template_areas": null,
      "grid_template_columns": null,
      "grid_template_rows": null,
      "height": null,
      "justify_content": null,
      "justify_items": null,
      "left": null,
      "margin": null,
      "max_height": null,
      "max_width": null,
      "min_height": null,
      "min_width": null,
      "object_fit": null,
      "object_position": null,
      "order": null,
      "overflow": null,
      "overflow_x": null,
      "overflow_y": null,
      "padding": null,
      "right": null,
      "top": null,
      "visibility": null,
      "width": null
     }
    },
    "20f32d141ce74eaaa967cfcf91b8684b": {
     "model_module": "@jupyter-widgets/controls",
     "model_module_version": "1.5.0",
     "model_name": "ProgressStyleModel",
     "state": {
      "_model_module": "@jupyter-widgets/controls",
      "_model_module_version": "1.5.0",
      "_model_name": "ProgressStyleModel",
      "_view_count": null,
      "_view_module": "@jupyter-widgets/base",
      "_view_module_version": "1.2.0",
      "_view_name": "StyleView",
      "bar_color": null,
      "description_width": ""
     }
    },
    "24a3f6f97f73400598397bc0e371f16f": {
     "model_module": "@jupyter-widgets/controls",
     "model_module_version": "1.5.0",
     "model_name": "HBoxModel",
     "state": {
      "_dom_classes": [],
      "_model_module": "@jupyter-widgets/controls",
      "_model_module_version": "1.5.0",
      "_model_name": "HBoxModel",
      "_view_count": null,
      "_view_module": "@jupyter-widgets/controls",
      "_view_module_version": "1.5.0",
      "_view_name": "HBoxView",
      "box_style": "",
      "children": [
       "IPY_MODEL_6d336e863a69439aa254bf3a02e14165",
       "IPY_MODEL_044dcf20bb9241ebb8599a9a707cc7c8",
       "IPY_MODEL_fbb9fbe5e54f4b278fcdd0d1b564c1b8"
      ],
      "layout": "IPY_MODEL_dff84a48818242a0aa16f60fe7c9ed65"
     }
    },
    "2b22eebdce104daea911b938c0210b53": {
     "model_module": "@jupyter-widgets/controls",
     "model_module_version": "1.5.0",
     "model_name": "HTMLModel",
     "state": {
      "_dom_classes": [],
      "_model_module": "@jupyter-widgets/controls",
      "_model_module_version": "1.5.0",
      "_model_name": "HTMLModel",
      "_view_count": null,
      "_view_module": "@jupyter-widgets/controls",
      "_view_module_version": "1.5.0",
      "_view_name": "HTMLView",
      "description": "",
      "description_tooltip": null,
      "layout": "IPY_MODEL_7d0ec67f79444522ab5faf43cf4a0203",
      "placeholder": "​",
      "style": "IPY_MODEL_d634639ed03e44778e5946277a01bc47",
      "value": "100%"
     }
    },
    "36d64ba692654882bc821389a32b48f8": {
     "model_module": "@jupyter-widgets/controls",
     "model_module_version": "1.5.0",
     "model_name": "HTMLModel",
     "state": {
      "_dom_classes": [],
      "_model_module": "@jupyter-widgets/controls",
      "_model_module_version": "1.5.0",
      "_model_name": "HTMLModel",
      "_view_count": null,
      "_view_module": "@jupyter-widgets/controls",
      "_view_module_version": "1.5.0",
      "_view_name": "HTMLView",
      "description": "",
      "description_tooltip": null,
      "layout": "IPY_MODEL_5e3a4911486e4d9da76b5ab263a5e150",
      "placeholder": "​",
      "style": "IPY_MODEL_def09d5f25c94f4e8f50e9f3e66012d8",
      "value": " 5001/5001 [00:01&lt;00:00, 5020.15it/s]"
     }
    },
    "3bc12aa5088a46cba8f7715d28fa0417": {
     "model_module": "@jupyter-widgets/controls",
     "model_module_version": "1.5.0",
     "model_name": "ProgressStyleModel",
     "state": {
      "_model_module": "@jupyter-widgets/controls",
      "_model_module_version": "1.5.0",
      "_model_name": "ProgressStyleModel",
      "_view_count": null,
      "_view_module": "@jupyter-widgets/base",
      "_view_module_version": "1.2.0",
      "_view_name": "StyleView",
      "bar_color": null,
      "description_width": ""
     }
    },
    "4aa9c5d051494428ab39980d4d6d9e99": {
     "model_module": "@jupyter-widgets/controls",
     "model_module_version": "1.5.0",
     "model_name": "HBoxModel",
     "state": {
      "_dom_classes": [],
      "_model_module": "@jupyter-widgets/controls",
      "_model_module_version": "1.5.0",
      "_model_name": "HBoxModel",
      "_view_count": null,
      "_view_module": "@jupyter-widgets/controls",
      "_view_module_version": "1.5.0",
      "_view_name": "HBoxView",
      "box_style": "",
      "children": [
       "IPY_MODEL_2b22eebdce104daea911b938c0210b53",
       "IPY_MODEL_b2202a58a92f48e284d565c31b366ead",
       "IPY_MODEL_36d64ba692654882bc821389a32b48f8"
      ],
      "layout": "IPY_MODEL_0733af7e377b4465a6b241caef9fc366"
     }
    },
    "5e3a4911486e4d9da76b5ab263a5e150": {
     "model_module": "@jupyter-widgets/base",
     "model_module_version": "1.2.0",
     "model_name": "LayoutModel",
     "state": {
      "_model_module": "@jupyter-widgets/base",
      "_model_module_version": "1.2.0",
      "_model_name": "LayoutModel",
      "_view_count": null,
      "_view_module": "@jupyter-widgets/base",
      "_view_module_version": "1.2.0",
      "_view_name": "LayoutView",
      "align_content": null,
      "align_items": null,
      "align_self": null,
      "border": null,
      "bottom": null,
      "display": null,
      "flex": null,
      "flex_flow": null,
      "grid_area": null,
      "grid_auto_columns": null,
      "grid_auto_flow": null,
      "grid_auto_rows": null,
      "grid_column": null,
      "grid_gap": null,
      "grid_row": null,
      "grid_template_areas": null,
      "grid_template_columns": null,
      "grid_template_rows": null,
      "height": null,
      "justify_content": null,
      "justify_items": null,
      "left": null,
      "margin": null,
      "max_height": null,
      "max_width": null,
      "min_height": null,
      "min_width": null,
      "object_fit": null,
      "object_position": null,
      "order": null,
      "overflow": null,
      "overflow_x": null,
      "overflow_y": null,
      "padding": null,
      "right": null,
      "top": null,
      "visibility": null,
      "width": null
     }
    },
    "6d336e863a69439aa254bf3a02e14165": {
     "model_module": "@jupyter-widgets/controls",
     "model_module_version": "1.5.0",
     "model_name": "HTMLModel",
     "state": {
      "_dom_classes": [],
      "_model_module": "@jupyter-widgets/controls",
      "_model_module_version": "1.5.0",
      "_model_name": "HTMLModel",
      "_view_count": null,
      "_view_module": "@jupyter-widgets/controls",
      "_view_module_version": "1.5.0",
      "_view_name": "HTMLView",
      "description": "",
      "description_tooltip": null,
      "layout": "IPY_MODEL_058d6367b6b54c9687594e87cd613ca9",
      "placeholder": "​",
      "style": "IPY_MODEL_6e49065ed2ac411e9002eeb3bd083cb6",
      "value": "100%"
     }
    },
    "6e49065ed2ac411e9002eeb3bd083cb6": {
     "model_module": "@jupyter-widgets/controls",
     "model_module_version": "1.5.0",
     "model_name": "DescriptionStyleModel",
     "state": {
      "_model_module": "@jupyter-widgets/controls",
      "_model_module_version": "1.5.0",
      "_model_name": "DescriptionStyleModel",
      "_view_count": null,
      "_view_module": "@jupyter-widgets/base",
      "_view_module_version": "1.2.0",
      "_view_name": "StyleView",
      "description_width": ""
     }
    },
    "7d0ec67f79444522ab5faf43cf4a0203": {
     "model_module": "@jupyter-widgets/base",
     "model_module_version": "1.2.0",
     "model_name": "LayoutModel",
     "state": {
      "_model_module": "@jupyter-widgets/base",
      "_model_module_version": "1.2.0",
      "_model_name": "LayoutModel",
      "_view_count": null,
      "_view_module": "@jupyter-widgets/base",
      "_view_module_version": "1.2.0",
      "_view_name": "LayoutView",
      "align_content": null,
      "align_items": null,
      "align_self": null,
      "border": null,
      "bottom": null,
      "display": null,
      "flex": null,
      "flex_flow": null,
      "grid_area": null,
      "grid_auto_columns": null,
      "grid_auto_flow": null,
      "grid_auto_rows": null,
      "grid_column": null,
      "grid_gap": null,
      "grid_row": null,
      "grid_template_areas": null,
      "grid_template_columns": null,
      "grid_template_rows": null,
      "height": null,
      "justify_content": null,
      "justify_items": null,
      "left": null,
      "margin": null,
      "max_height": null,
      "max_width": null,
      "min_height": null,
      "min_width": null,
      "object_fit": null,
      "object_position": null,
      "order": null,
      "overflow": null,
      "overflow_x": null,
      "overflow_y": null,
      "padding": null,
      "right": null,
      "top": null,
      "visibility": null,
      "width": null
     }
    },
    "b2202a58a92f48e284d565c31b366ead": {
     "model_module": "@jupyter-widgets/controls",
     "model_module_version": "1.5.0",
     "model_name": "FloatProgressModel",
     "state": {
      "_dom_classes": [],
      "_model_module": "@jupyter-widgets/controls",
      "_model_module_version": "1.5.0",
      "_model_name": "FloatProgressModel",
      "_view_count": null,
      "_view_module": "@jupyter-widgets/controls",
      "_view_module_version": "1.5.0",
      "_view_name": "ProgressView",
      "bar_style": "success",
      "description": "",
      "description_tooltip": null,
      "layout": "IPY_MODEL_e71dfa4d9e2c4bfb8a020de6967f5f14",
      "max": 5001,
      "min": 0,
      "orientation": "horizontal",
      "style": "IPY_MODEL_20f32d141ce74eaaa967cfcf91b8684b",
      "value": 5001
     }
    },
    "b5d34cfe179b4105896938751223f35b": {
     "model_module": "@jupyter-widgets/base",
     "model_module_version": "1.2.0",
     "model_name": "LayoutModel",
     "state": {
      "_model_module": "@jupyter-widgets/base",
      "_model_module_version": "1.2.0",
      "_model_name": "LayoutModel",
      "_view_count": null,
      "_view_module": "@jupyter-widgets/base",
      "_view_module_version": "1.2.0",
      "_view_name": "LayoutView",
      "align_content": null,
      "align_items": null,
      "align_self": null,
      "border": null,
      "bottom": null,
      "display": null,
      "flex": null,
      "flex_flow": null,
      "grid_area": null,
      "grid_auto_columns": null,
      "grid_auto_flow": null,
      "grid_auto_rows": null,
      "grid_column": null,
      "grid_gap": null,
      "grid_row": null,
      "grid_template_areas": null,
      "grid_template_columns": null,
      "grid_template_rows": null,
      "height": null,
      "justify_content": null,
      "justify_items": null,
      "left": null,
      "margin": null,
      "max_height": null,
      "max_width": null,
      "min_height": null,
      "min_width": null,
      "object_fit": null,
      "object_position": null,
      "order": null,
      "overflow": null,
      "overflow_x": null,
      "overflow_y": null,
      "padding": null,
      "right": null,
      "top": null,
      "visibility": null,
      "width": null
     }
    },
    "d634639ed03e44778e5946277a01bc47": {
     "model_module": "@jupyter-widgets/controls",
     "model_module_version": "1.5.0",
     "model_name": "DescriptionStyleModel",
     "state": {
      "_model_module": "@jupyter-widgets/controls",
      "_model_module_version": "1.5.0",
      "_model_name": "DescriptionStyleModel",
      "_view_count": null,
      "_view_module": "@jupyter-widgets/base",
      "_view_module_version": "1.2.0",
      "_view_name": "StyleView",
      "description_width": ""
     }
    },
    "def09d5f25c94f4e8f50e9f3e66012d8": {
     "model_module": "@jupyter-widgets/controls",
     "model_module_version": "1.5.0",
     "model_name": "DescriptionStyleModel",
     "state": {
      "_model_module": "@jupyter-widgets/controls",
      "_model_module_version": "1.5.0",
      "_model_name": "DescriptionStyleModel",
      "_view_count": null,
      "_view_module": "@jupyter-widgets/base",
      "_view_module_version": "1.2.0",
      "_view_name": "StyleView",
      "description_width": ""
     }
    },
    "dff84a48818242a0aa16f60fe7c9ed65": {
     "model_module": "@jupyter-widgets/base",
     "model_module_version": "1.2.0",
     "model_name": "LayoutModel",
     "state": {
      "_model_module": "@jupyter-widgets/base",
      "_model_module_version": "1.2.0",
      "_model_name": "LayoutModel",
      "_view_count": null,
      "_view_module": "@jupyter-widgets/base",
      "_view_module_version": "1.2.0",
      "_view_name": "LayoutView",
      "align_content": null,
      "align_items": null,
      "align_self": null,
      "border": null,
      "bottom": null,
      "display": null,
      "flex": null,
      "flex_flow": null,
      "grid_area": null,
      "grid_auto_columns": null,
      "grid_auto_flow": null,
      "grid_auto_rows": null,
      "grid_column": null,
      "grid_gap": null,
      "grid_row": null,
      "grid_template_areas": null,
      "grid_template_columns": null,
      "grid_template_rows": null,
      "height": null,
      "justify_content": null,
      "justify_items": null,
      "left": null,
      "margin": null,
      "max_height": null,
      "max_width": null,
      "min_height": null,
      "min_width": null,
      "object_fit": null,
      "object_position": null,
      "order": null,
      "overflow": null,
      "overflow_x": null,
      "overflow_y": null,
      "padding": null,
      "right": null,
      "top": null,
      "visibility": null,
      "width": null
     }
    },
    "e350977433f0406693bcddec8ca12eb8": {
     "model_module": "@jupyter-widgets/controls",
     "model_module_version": "1.5.0",
     "model_name": "DescriptionStyleModel",
     "state": {
      "_model_module": "@jupyter-widgets/controls",
      "_model_module_version": "1.5.0",
      "_model_name": "DescriptionStyleModel",
      "_view_count": null,
      "_view_module": "@jupyter-widgets/base",
      "_view_module_version": "1.2.0",
      "_view_name": "StyleView",
      "description_width": ""
     }
    },
    "e71dfa4d9e2c4bfb8a020de6967f5f14": {
     "model_module": "@jupyter-widgets/base",
     "model_module_version": "1.2.0",
     "model_name": "LayoutModel",
     "state": {
      "_model_module": "@jupyter-widgets/base",
      "_model_module_version": "1.2.0",
      "_model_name": "LayoutModel",
      "_view_count": null,
      "_view_module": "@jupyter-widgets/base",
      "_view_module_version": "1.2.0",
      "_view_name": "LayoutView",
      "align_content": null,
      "align_items": null,
      "align_self": null,
      "border": null,
      "bottom": null,
      "display": null,
      "flex": null,
      "flex_flow": null,
      "grid_area": null,
      "grid_auto_columns": null,
      "grid_auto_flow": null,
      "grid_auto_rows": null,
      "grid_column": null,
      "grid_gap": null,
      "grid_row": null,
      "grid_template_areas": null,
      "grid_template_columns": null,
      "grid_template_rows": null,
      "height": null,
      "justify_content": null,
      "justify_items": null,
      "left": null,
      "margin": null,
      "max_height": null,
      "max_width": null,
      "min_height": null,
      "min_width": null,
      "object_fit": null,
      "object_position": null,
      "order": null,
      "overflow": null,
      "overflow_x": null,
      "overflow_y": null,
      "padding": null,
      "right": null,
      "top": null,
      "visibility": null,
      "width": null
     }
    },
    "ef5e39a27e0f4309bd17e3b552ae0e2d": {
     "model_module": "@jupyter-widgets/base",
     "model_module_version": "1.2.0",
     "model_name": "LayoutModel",
     "state": {
      "_model_module": "@jupyter-widgets/base",
      "_model_module_version": "1.2.0",
      "_model_name": "LayoutModel",
      "_view_count": null,
      "_view_module": "@jupyter-widgets/base",
      "_view_module_version": "1.2.0",
      "_view_name": "LayoutView",
      "align_content": null,
      "align_items": null,
      "align_self": null,
      "border": null,
      "bottom": null,
      "display": null,
      "flex": null,
      "flex_flow": null,
      "grid_area": null,
      "grid_auto_columns": null,
      "grid_auto_flow": null,
      "grid_auto_rows": null,
      "grid_column": null,
      "grid_gap": null,
      "grid_row": null,
      "grid_template_areas": null,
      "grid_template_columns": null,
      "grid_template_rows": null,
      "height": null,
      "justify_content": null,
      "justify_items": null,
      "left": null,
      "margin": null,
      "max_height": null,
      "max_width": null,
      "min_height": null,
      "min_width": null,
      "object_fit": null,
      "object_position": null,
      "order": null,
      "overflow": null,
      "overflow_x": null,
      "overflow_y": null,
      "padding": null,
      "right": null,
      "top": null,
      "visibility": null,
      "width": null
     }
    },
    "fbb9fbe5e54f4b278fcdd0d1b564c1b8": {
     "model_module": "@jupyter-widgets/controls",
     "model_module_version": "1.5.0",
     "model_name": "HTMLModel",
     "state": {
      "_dom_classes": [],
      "_model_module": "@jupyter-widgets/controls",
      "_model_module_version": "1.5.0",
      "_model_name": "HTMLModel",
      "_view_count": null,
      "_view_module": "@jupyter-widgets/controls",
      "_view_module_version": "1.5.0",
      "_view_name": "HTMLView",
      "description": "",
      "description_tooltip": null,
      "layout": "IPY_MODEL_ef5e39a27e0f4309bd17e3b552ae0e2d",
      "placeholder": "​",
      "style": "IPY_MODEL_e350977433f0406693bcddec8ca12eb8",
      "value": " 15/15 [07:05&lt;00:00, 31.18s/it]"
     }
    }
   }
  }
 },
 "nbformat": 4,
 "nbformat_minor": 1
}
