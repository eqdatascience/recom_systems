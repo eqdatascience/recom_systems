{
 "cells": [
  {
   "cell_type": "markdown",
   "metadata": {
    "id": "Sb0oxqyN9Stm"
   },
   "source": [
    "# Курсовой проект. Двухуровневая рекомендательная система по данным соревнования Retail Hero\n"
   ]
  },
  {
   "cell_type": "markdown",
   "metadata": {
    "id": "tWKTLoPa9Stv"
   },
   "source": [
    "### Основное\n",
    "\n",
    "Дедлайн - 29 декабря 23:59\n",
    "Целевая метрика precision@5\n",
    "Бейзлайн решения - MainRecommender\n",
    "Сдаем ссылку на github с решением. На github должен быть файл recommendations.csv (user_id | [rec_1, rec_2, ...] с рекомендациями. rec_i - реальные id item-ов (из retail_train.csv)\n",
    "Hints:\n",
    "\n",
    "Сначала просто попробуйте разные параметры MainRecommender:\n",
    "\n",
    "N в топ-N товарах при формировании user-item матирцы (сейчас топ-5000)\n",
    "Различные веса в user-item матрице (0/1, кол-во покупок, log(кол-во покупок + 1), сумма покупки, ...)\n",
    "Разные взвешивания матрицы (TF-IDF, BM25 - у него есть параметры)\n",
    "Разные смешивания рекомендаций (обратите внимание на бейзлайн - прошлые покупки юзера)\n",
    "Сделайте MVP - минимально рабочий продукт - (пусть даже top-popular), а потом его улучшайте"
   ]
  },
  {
   "cell_type": "markdown",
   "metadata": {
    "id": "OKXy9Hx-9St1"
   },
   "source": [
    "---"
   ]
  },
  {
   "cell_type": "markdown",
   "metadata": {
    "id": "qXqJnvs19St4"
   },
   "source": [
    "### Применение в бизнесе\n",
    "\n",
    "- 2-ух уровневая система применяется во многих компаниях\n",
    "- Зачастую уровней > 2\n",
    "- Идем от более простых эвристик/моделей к более сложным\n",
    "- Фичи из моделей первого уровня (embeddings, biases из ALS) можно использовать в последующих моделях\n",
    "\n",
    "Также решения на основе 2-ух уровневых рекомендаций заняли все топ-10 мест в соревновании X5 Retail hero. "
   ]
  },
  {
   "cell_type": "markdown",
   "metadata": {
    "id": "P5d0iTYT9St7"
   },
   "source": [
    "### Как отбирать кандидатов?\n",
    "\n",
    "Вариантов множество. Тут нам поможет *MainRecommender*. Пока в нем реализованы далеко не все возможные способы генерации кандидатов\n",
    "\n",
    "- Генерируем топ-k кандидатов\n",
    "- Качество кандидатов измеряем через **recall@k**\n",
    "- recall@k показывает какую долю из купленных товаров мы смогли выявить (рекомендовать) нашей моделью"
   ]
  },
  {
   "cell_type": "markdown",
   "metadata": {
    "id": "GJHo23EB9St9"
   },
   "source": [
    "----"
   ]
  },
  {
   "cell_type": "markdown",
   "metadata": {
    "id": "JZ0HiaDNIQTD"
   },
   "source": [
    "Pipline:\n",
    "1. Рекомендуем 50 кандидатов среди товаров классическими методами\n",
    "2. Оцениваем recall@k нашу кандидатную выдачу (выдача моделями 1-го уровня)\n",
    "3. Получаем user-item датасет по кандидатным рекомендациям\n",
    "4. Для такого датасета проставляем target купил/не купил товар по истории взаимодействий\n",
    "5. На этом датасете строим lightGBM, предсказывающий купит или не купит пользователь данный товар\n",
    "6. Рекомендовано ознакомиться и попробовать Light AutoML"
   ]
  },
  {
   "cell_type": "markdown",
   "metadata": {
    "id": "baU6tBlh9St_"
   },
   "source": [
    "# Практическая часть\n",
    "\n",
    "Код для src, utils кастомизировал, recommender2 содержит метод, возвращающий user&item embeddings. Они пригодятся для модели второго уровня."
   ]
  },
  {
   "cell_type": "code",
   "execution_count": null,
   "metadata": {
    "colab": {
     "base_uri": "https://localhost:8080/"
    },
    "id": "rpvbguvO9cSq",
    "outputId": "c6b1dd59-1b7e-4b6c-b669-ca8df6d9e34b"
   },
   "outputs": [
    {
     "name": "stdout",
     "output_type": "stream",
     "text": [
      "Collecting implicit\n",
      "  Downloading implicit-0.4.8.tar.gz (1.1 MB)\n",
      "\u001b[?25l\r",
      "\u001b[K     |▎                               | 10 kB 22.6 MB/s eta 0:00:01\r",
      "\u001b[K     |▋                               | 20 kB 27.8 MB/s eta 0:00:01\r",
      "\u001b[K     |▉                               | 30 kB 23.8 MB/s eta 0:00:01\r",
      "\u001b[K     |█▏                              | 40 kB 18.6 MB/s eta 0:00:01\r",
      "\u001b[K     |█▍                              | 51 kB 14.6 MB/s eta 0:00:01\r",
      "\u001b[K     |█▊                              | 61 kB 13.5 MB/s eta 0:00:01\r",
      "\u001b[K     |██                              | 71 kB 12.7 MB/s eta 0:00:01\r",
      "\u001b[K     |██▎                             | 81 kB 13.8 MB/s eta 0:00:01\r",
      "\u001b[K     |██▋                             | 92 kB 14.1 MB/s eta 0:00:01\r",
      "\u001b[K     |██▉                             | 102 kB 12.3 MB/s eta 0:00:01\r",
      "\u001b[K     |███▏                            | 112 kB 12.3 MB/s eta 0:00:01\r",
      "\u001b[K     |███▍                            | 122 kB 12.3 MB/s eta 0:00:01\r",
      "\u001b[K     |███▊                            | 133 kB 12.3 MB/s eta 0:00:01\r",
      "\u001b[K     |████                            | 143 kB 12.3 MB/s eta 0:00:01\r",
      "\u001b[K     |████▎                           | 153 kB 12.3 MB/s eta 0:00:01\r",
      "\u001b[K     |████▋                           | 163 kB 12.3 MB/s eta 0:00:01\r",
      "\u001b[K     |████▉                           | 174 kB 12.3 MB/s eta 0:00:01\r",
      "\u001b[K     |█████▏                          | 184 kB 12.3 MB/s eta 0:00:01\r",
      "\u001b[K     |█████▍                          | 194 kB 12.3 MB/s eta 0:00:01\r",
      "\u001b[K     |█████▊                          | 204 kB 12.3 MB/s eta 0:00:01\r",
      "\u001b[K     |██████                          | 215 kB 12.3 MB/s eta 0:00:01\r",
      "\u001b[K     |██████▎                         | 225 kB 12.3 MB/s eta 0:00:01\r",
      "\u001b[K     |██████▋                         | 235 kB 12.3 MB/s eta 0:00:01\r",
      "\u001b[K     |██████▉                         | 245 kB 12.3 MB/s eta 0:00:01\r",
      "\u001b[K     |███████▏                        | 256 kB 12.3 MB/s eta 0:00:01\r",
      "\u001b[K     |███████▌                        | 266 kB 12.3 MB/s eta 0:00:01\r",
      "\u001b[K     |███████▊                        | 276 kB 12.3 MB/s eta 0:00:01\r",
      "\u001b[K     |████████                        | 286 kB 12.3 MB/s eta 0:00:01\r",
      "\u001b[K     |████████▎                       | 296 kB 12.3 MB/s eta 0:00:01\r",
      "\u001b[K     |████████▋                       | 307 kB 12.3 MB/s eta 0:00:01\r",
      "\u001b[K     |████████▉                       | 317 kB 12.3 MB/s eta 0:00:01\r",
      "\u001b[K     |█████████▏                      | 327 kB 12.3 MB/s eta 0:00:01\r",
      "\u001b[K     |█████████▌                      | 337 kB 12.3 MB/s eta 0:00:01\r",
      "\u001b[K     |█████████▊                      | 348 kB 12.3 MB/s eta 0:00:01\r",
      "\u001b[K     |██████████                      | 358 kB 12.3 MB/s eta 0:00:01\r",
      "\u001b[K     |██████████▎                     | 368 kB 12.3 MB/s eta 0:00:01\r",
      "\u001b[K     |██████████▋                     | 378 kB 12.3 MB/s eta 0:00:01\r",
      "\u001b[K     |██████████▉                     | 389 kB 12.3 MB/s eta 0:00:01\r",
      "\u001b[K     |███████████▏                    | 399 kB 12.3 MB/s eta 0:00:01\r",
      "\u001b[K     |███████████▌                    | 409 kB 12.3 MB/s eta 0:00:01\r",
      "\u001b[K     |███████████▊                    | 419 kB 12.3 MB/s eta 0:00:01\r",
      "\u001b[K     |████████████                    | 430 kB 12.3 MB/s eta 0:00:01\r",
      "\u001b[K     |████████████▎                   | 440 kB 12.3 MB/s eta 0:00:01\r",
      "\u001b[K     |████████████▋                   | 450 kB 12.3 MB/s eta 0:00:01\r",
      "\u001b[K     |█████████████                   | 460 kB 12.3 MB/s eta 0:00:01\r",
      "\u001b[K     |█████████████▏                  | 471 kB 12.3 MB/s eta 0:00:01\r",
      "\u001b[K     |█████████████▌                  | 481 kB 12.3 MB/s eta 0:00:01\r",
      "\u001b[K     |█████████████▊                  | 491 kB 12.3 MB/s eta 0:00:01\r",
      "\u001b[K     |██████████████                  | 501 kB 12.3 MB/s eta 0:00:01\r",
      "\u001b[K     |██████████████▎                 | 512 kB 12.3 MB/s eta 0:00:01\r",
      "\u001b[K     |██████████████▋                 | 522 kB 12.3 MB/s eta 0:00:01\r",
      "\u001b[K     |███████████████                 | 532 kB 12.3 MB/s eta 0:00:01\r",
      "\u001b[K     |███████████████▏                | 542 kB 12.3 MB/s eta 0:00:01\r",
      "\u001b[K     |███████████████▌                | 552 kB 12.3 MB/s eta 0:00:01\r",
      "\u001b[K     |███████████████▊                | 563 kB 12.3 MB/s eta 0:00:01\r",
      "\u001b[K     |████████████████                | 573 kB 12.3 MB/s eta 0:00:01\r",
      "\u001b[K     |████████████████▎               | 583 kB 12.3 MB/s eta 0:00:01\r",
      "\u001b[K     |████████████████▋               | 593 kB 12.3 MB/s eta 0:00:01\r",
      "\u001b[K     |█████████████████               | 604 kB 12.3 MB/s eta 0:00:01\r",
      "\u001b[K     |█████████████████▏              | 614 kB 12.3 MB/s eta 0:00:01\r",
      "\u001b[K     |█████████████████▌              | 624 kB 12.3 MB/s eta 0:00:01\r",
      "\u001b[K     |█████████████████▊              | 634 kB 12.3 MB/s eta 0:00:01\r",
      "\u001b[K     |██████████████████              | 645 kB 12.3 MB/s eta 0:00:01\r",
      "\u001b[K     |██████████████████▍             | 655 kB 12.3 MB/s eta 0:00:01\r",
      "\u001b[K     |██████████████████▋             | 665 kB 12.3 MB/s eta 0:00:01\r",
      "\u001b[K     |███████████████████             | 675 kB 12.3 MB/s eta 0:00:01\r",
      "\u001b[K     |███████████████████▏            | 686 kB 12.3 MB/s eta 0:00:01\r",
      "\u001b[K     |███████████████████▌            | 696 kB 12.3 MB/s eta 0:00:01\r",
      "\u001b[K     |███████████████████▊            | 706 kB 12.3 MB/s eta 0:00:01\r",
      "\u001b[K     |████████████████████            | 716 kB 12.3 MB/s eta 0:00:01\r",
      "\u001b[K     |████████████████████▍           | 727 kB 12.3 MB/s eta 0:00:01\r",
      "\u001b[K     |████████████████████▋           | 737 kB 12.3 MB/s eta 0:00:01\r",
      "\u001b[K     |█████████████████████           | 747 kB 12.3 MB/s eta 0:00:01\r",
      "\u001b[K     |█████████████████████▏          | 757 kB 12.3 MB/s eta 0:00:01\r",
      "\u001b[K     |█████████████████████▌          | 768 kB 12.3 MB/s eta 0:00:01\r",
      "\u001b[K     |█████████████████████▊          | 778 kB 12.3 MB/s eta 0:00:01\r",
      "\u001b[K     |██████████████████████          | 788 kB 12.3 MB/s eta 0:00:01\r",
      "\u001b[K     |██████████████████████▍         | 798 kB 12.3 MB/s eta 0:00:01\r",
      "\u001b[K     |██████████████████████▋         | 808 kB 12.3 MB/s eta 0:00:01\r",
      "\u001b[K     |███████████████████████         | 819 kB 12.3 MB/s eta 0:00:01\r",
      "\u001b[K     |███████████████████████▏        | 829 kB 12.3 MB/s eta 0:00:01\r",
      "\u001b[K     |███████████████████████▌        | 839 kB 12.3 MB/s eta 0:00:01\r",
      "\u001b[K     |███████████████████████▉        | 849 kB 12.3 MB/s eta 0:00:01\r",
      "\u001b[K     |████████████████████████        | 860 kB 12.3 MB/s eta 0:00:01\r",
      "\u001b[K     |████████████████████████▍       | 870 kB 12.3 MB/s eta 0:00:01\r",
      "\u001b[K     |████████████████████████▋       | 880 kB 12.3 MB/s eta 0:00:01\r",
      "\u001b[K     |█████████████████████████       | 890 kB 12.3 MB/s eta 0:00:01\r",
      "\u001b[K     |█████████████████████████▏      | 901 kB 12.3 MB/s eta 0:00:01\r",
      "\u001b[K     |█████████████████████████▌      | 911 kB 12.3 MB/s eta 0:00:01\r",
      "\u001b[K     |█████████████████████████▉      | 921 kB 12.3 MB/s eta 0:00:01\r",
      "\u001b[K     |██████████████████████████      | 931 kB 12.3 MB/s eta 0:00:01\r",
      "\u001b[K     |██████████████████████████▍     | 942 kB 12.3 MB/s eta 0:00:01\r",
      "\u001b[K     |██████████████████████████▋     | 952 kB 12.3 MB/s eta 0:00:01\r",
      "\u001b[K     |███████████████████████████     | 962 kB 12.3 MB/s eta 0:00:01\r",
      "\u001b[K     |███████████████████████████▏    | 972 kB 12.3 MB/s eta 0:00:01\r",
      "\u001b[K     |███████████████████████████▌    | 983 kB 12.3 MB/s eta 0:00:01\r",
      "\u001b[K     |███████████████████████████▉    | 993 kB 12.3 MB/s eta 0:00:01\r",
      "\u001b[K     |████████████████████████████    | 1.0 MB 12.3 MB/s eta 0:00:01\r",
      "\u001b[K     |████████████████████████████▍   | 1.0 MB 12.3 MB/s eta 0:00:01\r",
      "\u001b[K     |████████████████████████████▋   | 1.0 MB 12.3 MB/s eta 0:00:01\r",
      "\u001b[K     |█████████████████████████████   | 1.0 MB 12.3 MB/s eta 0:00:01\r",
      "\u001b[K     |█████████████████████████████▎  | 1.0 MB 12.3 MB/s eta 0:00:01\r",
      "\u001b[K     |█████████████████████████████▌  | 1.1 MB 12.3 MB/s eta 0:00:01\r",
      "\u001b[K     |█████████████████████████████▉  | 1.1 MB 12.3 MB/s eta 0:00:01\r",
      "\u001b[K     |██████████████████████████████  | 1.1 MB 12.3 MB/s eta 0:00:01\r",
      "\u001b[K     |██████████████████████████████▍ | 1.1 MB 12.3 MB/s eta 0:00:01\r",
      "\u001b[K     |██████████████████████████████▋ | 1.1 MB 12.3 MB/s eta 0:00:01\r",
      "\u001b[K     |███████████████████████████████ | 1.1 MB 12.3 MB/s eta 0:00:01\r",
      "\u001b[K     |███████████████████████████████▎| 1.1 MB 12.3 MB/s eta 0:00:01\r",
      "\u001b[K     |███████████████████████████████▌| 1.1 MB 12.3 MB/s eta 0:00:01\r",
      "\u001b[K     |███████████████████████████████▉| 1.1 MB 12.3 MB/s eta 0:00:01\r",
      "\u001b[K     |████████████████████████████████| 1.1 MB 12.3 MB/s \n",
      "\u001b[?25h  Installing build dependencies ... \u001b[?25l\u001b[?25hdone\n",
      "  Getting requirements to build wheel ... \u001b[?25l\u001b[?25hdone\n",
      "  Installing backend dependencies ... \u001b[?25l\u001b[?25hdone\n",
      "    Preparing wheel metadata ... \u001b[?25l\u001b[?25hdone\n",
      "Requirement already satisfied: tqdm>=4.27 in /usr/local/lib/python3.7/dist-packages (from implicit) (4.62.3)\n",
      "Requirement already satisfied: numpy in /usr/local/lib/python3.7/dist-packages (from implicit) (1.19.5)\n",
      "Requirement already satisfied: scipy>=0.16 in /usr/local/lib/python3.7/dist-packages (from implicit) (1.4.1)\n",
      "Building wheels for collected packages: implicit\n",
      "  Building wheel for implicit (PEP 517) ... \u001b[?25l\u001b[?25hdone\n",
      "  Created wheel for implicit: filename=implicit-0.4.8-cp37-cp37m-linux_x86_64.whl size=4606517 sha256=ba6eaba84c45715502ade7ff3556168e65daf4c8863c2b3e99a4177ab2a98664\n",
      "  Stored in directory: /root/.cache/pip/wheels/88/e6/34/25e73cccbaf1a961154bb562a5f86123b68fdbf40e306073d6\n",
      "Successfully built implicit\n",
      "Installing collected packages: implicit\n",
      "Successfully installed implicit-0.4.8\n"
     ]
    }
   ],
   "source": [
    "!pip install implicit"
   ]
  },
  {
   "cell_type": "code",
   "execution_count": null,
   "metadata": {
    "colab": {
     "base_uri": "https://localhost:8080/"
    },
    "id": "40HWsKPl_zKR",
    "outputId": "7fcf9bf9-7389-40f4-8469-562044c1967c"
   },
   "outputs": [
    {
     "name": "stdout",
     "output_type": "stream",
     "text": [
      "Mounted at /content/drive\n"
     ]
    }
   ],
   "source": [
    "from google.colab import drive\n",
    "drive.mount('/content/drive')\n",
    "root = root = '/content/drive/My Drive/Colab Notebooks/rec_sys/data/'"
   ]
  },
  {
   "cell_type": "code",
   "execution_count": 1,
   "metadata": {
    "id": "EonV0hfp9SuB"
   },
   "outputs": [],
   "source": [
    "import pandas as pd\n",
    "import numpy as np\n",
    "import matplotlib.pyplot as plt\n",
    "%matplotlib inline\n",
    "\n",
    "# Для работы с матрицами\n",
    "from scipy.sparse import csr_matrix\n",
    "\n",
    "# Матричная факторизация\n",
    "from implicit import als\n",
    "from implicit.nearest_neighbours import bm25_weight, tfidf_weight\n",
    "\n",
    "\n",
    "# Модель второго уровня\n",
    "from lightgbm import LGBMClassifier\n",
    "\n",
    "import pickle"
   ]
  },
  {
   "cell_type": "code",
   "execution_count": null,
   "metadata": {
    "colab": {
     "base_uri": "https://localhost:8080/",
     "height": 1000
    },
    "id": "CdTaxXviRXob",
    "outputId": "8c95323e-f9b4-4ae9-cc86-c470d1ddf803"
   },
   "outputs": [
    {
     "name": "stdout",
     "output_type": "stream",
     "text": [
      "Collecting lightautoml\n",
      "  Downloading LightAutoML-0.3.2-py3-none-any.whl (294 kB)\n",
      "\u001b[K     |████████████████████████████████| 294 kB 12.0 MB/s \n",
      "\u001b[?25hCollecting catboost\n",
      "  Downloading catboost-1.0.3-cp37-none-manylinux1_x86_64.whl (76.3 MB)\n",
      "\u001b[K     |████████████████████████████████| 76.3 MB 1.2 MB/s \n",
      "\u001b[?25hCollecting json2html\n",
      "  Downloading json2html-1.3.0.tar.gz (7.0 kB)\n",
      "Collecting importlib-metadata<2.0,>=1.0\n",
      "  Downloading importlib_metadata-1.7.0-py2.py3-none-any.whl (31 kB)\n",
      "Requirement already satisfied: joblib in /usr/local/lib/python3.7/dist-packages (from lightautoml) (1.1.0)\n",
      "Requirement already satisfied: holidays in /usr/local/lib/python3.7/dist-packages (from lightautoml) (0.10.5.2)\n",
      "Collecting lightgbm<3.0,>=2.3\n",
      "  Downloading lightgbm-2.3.1-py2.py3-none-manylinux1_x86_64.whl (1.2 MB)\n",
      "\u001b[K     |████████████████████████████████| 1.2 MB 38.5 MB/s \n",
      "\u001b[?25hRequirement already satisfied: torchvision in /usr/local/lib/python3.7/dist-packages (from lightautoml) (0.11.1+cu111)\n",
      "Requirement already satisfied: pandas>=1 in /usr/local/lib/python3.7/dist-packages (from lightautoml) (1.1.5)\n",
      "Collecting torch<1.9\n",
      "  Downloading torch-1.8.1-cp37-cp37m-manylinux1_x86_64.whl (804.1 MB)\n",
      "\u001b[K     |████████████████████████████████| 804.1 MB 2.9 kB/s \n",
      "\u001b[?25hRequirement already satisfied: scikit-learn>=0.22 in /usr/local/lib/python3.7/dist-packages (from lightautoml) (1.0.1)\n",
      "Collecting dataclasses==0.6\n",
      "  Downloading dataclasses-0.6-py3-none-any.whl (14 kB)\n",
      "Collecting cmaes\n",
      "  Downloading cmaes-0.8.2-py3-none-any.whl (15 kB)\n",
      "Requirement already satisfied: scipy in /usr/local/lib/python3.7/dist-packages (from lightautoml) (1.4.1)\n",
      "Requirement already satisfied: pyyaml in /usr/local/lib/python3.7/dist-packages (from lightautoml) (3.13)\n",
      "Requirement already satisfied: networkx in /usr/local/lib/python3.7/dist-packages (from lightautoml) (2.6.3)\n",
      "Requirement already satisfied: tqdm in /usr/local/lib/python3.7/dist-packages (from lightautoml) (4.62.3)\n",
      "Collecting poetry-core<2.0.0,>=1.0.0\n",
      "  Downloading poetry_core-1.0.7-py2.py3-none-any.whl (424 kB)\n",
      "\u001b[K     |████████████████████████████████| 424 kB 53.3 MB/s \n",
      "\u001b[?25hRequirement already satisfied: seaborn in /usr/local/lib/python3.7/dist-packages (from lightautoml) (0.11.2)\n",
      "Collecting autowoe>=1.2\n",
      "  Downloading AutoWoE-1.2.5-py3-none-any.whl (204 kB)\n",
      "\u001b[K     |████████████████████████████████| 204 kB 50.8 MB/s \n",
      "\u001b[?25hCollecting numpy>=1.20.0\n",
      "  Using cached numpy-1.21.5-cp37-cp37m-manylinux_2_12_x86_64.manylinux2010_x86_64.whl (15.7 MB)\n",
      "Collecting optuna\n",
      "  Downloading optuna-2.10.0-py3-none-any.whl (308 kB)\n",
      "\u001b[K     |████████████████████████████████| 308 kB 52.0 MB/s \n",
      "\u001b[?25hRequirement already satisfied: jinja2 in /usr/local/lib/python3.7/dist-packages (from lightautoml) (2.11.3)\n",
      "Collecting sphinx-rtd-theme\n",
      "  Downloading sphinx_rtd_theme-1.0.0-py2.py3-none-any.whl (2.8 MB)\n",
      "\u001b[K     |████████████████████████████████| 2.8 MB 40.4 MB/s \n",
      "\u001b[?25hRequirement already satisfied: matplotlib in /usr/local/lib/python3.7/dist-packages (from autowoe>=1.2->lightautoml) (3.2.2)\n",
      "Requirement already satisfied: pytest in /usr/local/lib/python3.7/dist-packages (from autowoe>=1.2->lightautoml) (3.6.4)\n",
      "Requirement already satisfied: sphinx in /usr/local/lib/python3.7/dist-packages (from autowoe>=1.2->lightautoml) (1.8.6)\n",
      "Requirement already satisfied: pytz in /usr/local/lib/python3.7/dist-packages (from autowoe>=1.2->lightautoml) (2018.9)\n",
      "Requirement already satisfied: zipp>=0.5 in /usr/local/lib/python3.7/dist-packages (from importlib-metadata<2.0,>=1.0->lightautoml) (3.6.0)\n",
      "Requirement already satisfied: python-dateutil>=2.7.3 in /usr/local/lib/python3.7/dist-packages (from pandas>=1->lightautoml) (2.8.2)\n",
      "Requirement already satisfied: six>=1.5 in /usr/local/lib/python3.7/dist-packages (from python-dateutil>=2.7.3->pandas>=1->lightautoml) (1.15.0)\n",
      "Requirement already satisfied: threadpoolctl>=2.0.0 in /usr/local/lib/python3.7/dist-packages (from scikit-learn>=0.22->lightautoml) (3.0.0)\n",
      "Requirement already satisfied: typing-extensions in /usr/local/lib/python3.7/dist-packages (from torch<1.9->lightautoml) (3.10.0.2)\n",
      "Requirement already satisfied: plotly in /usr/local/lib/python3.7/dist-packages (from catboost->lightautoml) (4.4.1)\n",
      "Requirement already satisfied: graphviz in /usr/local/lib/python3.7/dist-packages (from catboost->lightautoml) (0.10.1)\n",
      "Requirement already satisfied: convertdate>=2.3.0 in /usr/local/lib/python3.7/dist-packages (from holidays->lightautoml) (2.3.2)\n",
      "Requirement already satisfied: hijri-converter in /usr/local/lib/python3.7/dist-packages (from holidays->lightautoml) (2.2.2)\n",
      "Requirement already satisfied: korean-lunar-calendar in /usr/local/lib/python3.7/dist-packages (from holidays->lightautoml) (0.2.1)\n",
      "Requirement already satisfied: pymeeus<=1,>=0.3.13 in /usr/local/lib/python3.7/dist-packages (from convertdate>=2.3.0->holidays->lightautoml) (0.5.11)\n",
      "Requirement already satisfied: MarkupSafe>=0.23 in /usr/local/lib/python3.7/dist-packages (from jinja2->lightautoml) (2.0.1)\n",
      "Requirement already satisfied: pyparsing!=2.0.4,!=2.1.2,!=2.1.6,>=2.0.1 in /usr/local/lib/python3.7/dist-packages (from matplotlib->autowoe>=1.2->lightautoml) (3.0.6)\n",
      "Requirement already satisfied: kiwisolver>=1.0.1 in /usr/local/lib/python3.7/dist-packages (from matplotlib->autowoe>=1.2->lightautoml) (1.3.2)\n",
      "Requirement already satisfied: cycler>=0.10 in /usr/local/lib/python3.7/dist-packages (from matplotlib->autowoe>=1.2->lightautoml) (0.11.0)\n",
      "Collecting colorlog\n",
      "  Downloading colorlog-6.6.0-py2.py3-none-any.whl (11 kB)\n",
      "Collecting alembic\n",
      "  Downloading alembic-1.7.5-py3-none-any.whl (209 kB)\n",
      "\u001b[K     |████████████████████████████████| 209 kB 52.6 MB/s \n",
      "\u001b[?25hRequirement already satisfied: packaging>=20.0 in /usr/local/lib/python3.7/dist-packages (from optuna->lightautoml) (21.3)\n",
      "Requirement already satisfied: sqlalchemy>=1.1.0 in /usr/local/lib/python3.7/dist-packages (from optuna->lightautoml) (1.4.27)\n",
      "Collecting cliff\n",
      "  Downloading cliff-3.10.0-py3-none-any.whl (80 kB)\n",
      "\u001b[K     |████████████████████████████████| 80 kB 9.3 MB/s \n",
      "\u001b[?25hRequirement already satisfied: greenlet!=0.4.17 in /usr/local/lib/python3.7/dist-packages (from sqlalchemy>=1.1.0->optuna->lightautoml) (1.1.2)\n",
      "Requirement already satisfied: importlib-resources in /usr/local/lib/python3.7/dist-packages (from alembic->optuna->lightautoml) (5.4.0)\n",
      "Collecting Mako\n",
      "  Downloading Mako-1.1.6-py2.py3-none-any.whl (75 kB)\n",
      "\u001b[K     |████████████████████████████████| 75 kB 4.4 MB/s \n",
      "\u001b[?25hCollecting pbr!=2.1.0,>=2.0.0\n",
      "  Downloading pbr-5.8.0-py2.py3-none-any.whl (112 kB)\n",
      "\u001b[K     |████████████████████████████████| 112 kB 58.1 MB/s \n",
      "\u001b[?25hCollecting stevedore>=2.0.1\n",
      "  Downloading stevedore-3.5.0-py3-none-any.whl (49 kB)\n",
      "\u001b[K     |████████████████████████████████| 49 kB 6.8 MB/s \n",
      "\u001b[?25hRequirement already satisfied: PrettyTable>=0.7.2 in /usr/local/lib/python3.7/dist-packages (from cliff->optuna->lightautoml) (2.4.0)\n",
      "Collecting autopage>=0.4.0\n",
      "  Downloading autopage-0.4.0-py3-none-any.whl (20 kB)\n",
      "Collecting cmd2>=1.0.0\n",
      "  Downloading cmd2-2.3.3-py3-none-any.whl (149 kB)\n",
      "\u001b[K     |████████████████████████████████| 149 kB 52.7 MB/s \n",
      "\u001b[?25hCollecting pyperclip>=1.6\n",
      "  Downloading pyperclip-1.8.2.tar.gz (20 kB)\n",
      "Requirement already satisfied: attrs>=16.3.0 in /usr/local/lib/python3.7/dist-packages (from cmd2>=1.0.0->cliff->optuna->lightautoml) (21.2.0)\n",
      "Requirement already satisfied: wcwidth>=0.1.7 in /usr/local/lib/python3.7/dist-packages (from cmd2>=1.0.0->cliff->optuna->lightautoml) (0.2.5)\n",
      "Requirement already satisfied: retrying>=1.3.3 in /usr/local/lib/python3.7/dist-packages (from plotly->catboost->lightautoml) (1.3.3)\n",
      "Requirement already satisfied: pluggy<0.8,>=0.5 in /usr/local/lib/python3.7/dist-packages (from pytest->autowoe>=1.2->lightautoml) (0.7.1)\n",
      "Requirement already satisfied: atomicwrites>=1.0 in /usr/local/lib/python3.7/dist-packages (from pytest->autowoe>=1.2->lightautoml) (1.4.0)\n",
      "Requirement already satisfied: py>=1.5.0 in /usr/local/lib/python3.7/dist-packages (from pytest->autowoe>=1.2->lightautoml) (1.11.0)\n",
      "Requirement already satisfied: more-itertools>=4.0.0 in /usr/local/lib/python3.7/dist-packages (from pytest->autowoe>=1.2->lightautoml) (8.12.0)\n",
      "Requirement already satisfied: setuptools in /usr/local/lib/python3.7/dist-packages (from pytest->autowoe>=1.2->lightautoml) (57.4.0)\n",
      "Requirement already satisfied: alabaster<0.8,>=0.7 in /usr/local/lib/python3.7/dist-packages (from sphinx->autowoe>=1.2->lightautoml) (0.7.12)\n",
      "Requirement already satisfied: Pygments>=2.0 in /usr/local/lib/python3.7/dist-packages (from sphinx->autowoe>=1.2->lightautoml) (2.6.1)\n",
      "Requirement already satisfied: snowballstemmer>=1.1 in /usr/local/lib/python3.7/dist-packages (from sphinx->autowoe>=1.2->lightautoml) (2.2.0)\n",
      "Requirement already satisfied: requests>=2.0.0 in /usr/local/lib/python3.7/dist-packages (from sphinx->autowoe>=1.2->lightautoml) (2.23.0)\n",
      "Requirement already satisfied: imagesize in /usr/local/lib/python3.7/dist-packages (from sphinx->autowoe>=1.2->lightautoml) (1.3.0)\n",
      "Requirement already satisfied: sphinxcontrib-websupport in /usr/local/lib/python3.7/dist-packages (from sphinx->autowoe>=1.2->lightautoml) (1.2.4)\n",
      "Requirement already satisfied: babel!=2.0,>=1.3 in /usr/local/lib/python3.7/dist-packages (from sphinx->autowoe>=1.2->lightautoml) (2.9.1)\n",
      "Requirement already satisfied: docutils<0.18,>=0.11 in /usr/local/lib/python3.7/dist-packages (from sphinx->autowoe>=1.2->lightautoml) (0.17.1)\n",
      "Requirement already satisfied: idna<3,>=2.5 in /usr/local/lib/python3.7/dist-packages (from requests>=2.0.0->sphinx->autowoe>=1.2->lightautoml) (2.10)\n",
      "Requirement already satisfied: urllib3!=1.25.0,!=1.25.1,<1.26,>=1.21.1 in /usr/local/lib/python3.7/dist-packages (from requests>=2.0.0->sphinx->autowoe>=1.2->lightautoml) (1.24.3)\n",
      "Requirement already satisfied: chardet<4,>=3.0.2 in /usr/local/lib/python3.7/dist-packages (from requests>=2.0.0->sphinx->autowoe>=1.2->lightautoml) (3.0.4)\n",
      "Requirement already satisfied: certifi>=2017.4.17 in /usr/local/lib/python3.7/dist-packages (from requests>=2.0.0->sphinx->autowoe>=1.2->lightautoml) (2021.10.8)\n",
      "Requirement already satisfied: sphinxcontrib-serializinghtml in /usr/local/lib/python3.7/dist-packages (from sphinxcontrib-websupport->sphinx->autowoe>=1.2->lightautoml) (1.1.5)\n",
      "Collecting torchvision\n",
      "  Downloading torchvision-0.11.2-cp37-cp37m-manylinux1_x86_64.whl (23.3 MB)\n",
      "\u001b[K     |████████████████████████████████| 23.3 MB 67.2 MB/s \n",
      "\u001b[?25h  Downloading torchvision-0.11.1-cp37-cp37m-manylinux1_x86_64.whl (23.3 MB)\n",
      "\u001b[K     |████████████████████████████████| 23.3 MB 1.5 MB/s \n",
      "\u001b[?25h  Downloading torchvision-0.10.1-cp37-cp37m-manylinux1_x86_64.whl (22.1 MB)\n",
      "\u001b[K     |████████████████████████████████| 22.1 MB 65.2 MB/s \n",
      "\u001b[?25hRequirement already satisfied: pillow>=5.3.0 in /usr/local/lib/python3.7/dist-packages (from torchvision->lightautoml) (7.1.2)\n",
      "  Downloading torchvision-0.10.0-cp37-cp37m-manylinux1_x86_64.whl (22.1 MB)\n",
      "\u001b[K     |████████████████████████████████| 22.1 MB 1.5 MB/s \n",
      "\u001b[?25h  Downloading torchvision-0.9.1-cp37-cp37m-manylinux1_x86_64.whl (17.4 MB)\n",
      "\u001b[K     |████████████████████████████████| 17.4 MB 200 kB/s \n",
      "\u001b[?25hBuilding wheels for collected packages: json2html, pyperclip\n",
      "  Building wheel for json2html (setup.py) ... \u001b[?25l\u001b[?25hdone\n",
      "  Created wheel for json2html: filename=json2html-1.3.0-py3-none-any.whl size=7609 sha256=a1abf64cbcb1e507fe29d81a2d4b0e24338ba17a9e27368bfec97544326696d1\n",
      "  Stored in directory: /root/.cache/pip/wheels/e5/99/37/e1839a5ad733e0d6abb7e0419fd913e8926ddf96408239ce01\n",
      "  Building wheel for pyperclip (setup.py) ... \u001b[?25l\u001b[?25hdone\n",
      "  Created wheel for pyperclip: filename=pyperclip-1.8.2-py3-none-any.whl size=11136 sha256=c509219a0eb8a22f379623ddec960c75e25c2f3010c8f2a6da09e80b5670f016\n",
      "  Stored in directory: /root/.cache/pip/wheels/9f/18/84/8f69f8b08169c7bae2dde6bd7daf0c19fca8c8e500ee620a28\n",
      "Successfully built json2html pyperclip\n",
      "Installing collected packages: numpy, pyperclip, pbr, importlib-metadata, stevedore, Mako, cmd2, autopage, torch, sphinx-rtd-theme, lightgbm, colorlog, cmaes, cliff, alembic, torchvision, poetry-core, optuna, json2html, dataclasses, catboost, autowoe, lightautoml\n",
      "  Attempting uninstall: numpy\n",
      "    Found existing installation: numpy 1.19.5\n",
      "    Uninstalling numpy-1.19.5:\n",
      "      Successfully uninstalled numpy-1.19.5\n",
      "  Attempting uninstall: importlib-metadata\n",
      "    Found existing installation: importlib-metadata 4.8.2\n",
      "    Uninstalling importlib-metadata-4.8.2:\n",
      "      Successfully uninstalled importlib-metadata-4.8.2\n",
      "  Attempting uninstall: torch\n",
      "    Found existing installation: torch 1.10.0+cu111\n",
      "    Uninstalling torch-1.10.0+cu111:\n",
      "      Successfully uninstalled torch-1.10.0+cu111\n",
      "  Attempting uninstall: lightgbm\n",
      "    Found existing installation: lightgbm 2.2.3\n",
      "    Uninstalling lightgbm-2.2.3:\n",
      "      Successfully uninstalled lightgbm-2.2.3\n",
      "  Attempting uninstall: torchvision\n",
      "    Found existing installation: torchvision 0.11.1+cu111\n",
      "    Uninstalling torchvision-0.11.1+cu111:\n",
      "      Successfully uninstalled torchvision-0.11.1+cu111\n",
      "\u001b[31mERROR: pip's dependency resolver does not currently take into account all the packages that are installed. This behaviour is the source of the following dependency conflicts.\n",
      "yellowbrick 1.3.post1 requires numpy<1.20,>=1.16.0, but you have numpy 1.21.5 which is incompatible.\n",
      "torchtext 0.11.0 requires torch==1.10.0, but you have torch 1.8.1 which is incompatible.\n",
      "torchaudio 0.10.0+cu111 requires torch==1.10.0, but you have torch 1.8.1 which is incompatible.\n",
      "markdown 3.3.6 requires importlib-metadata>=4.4; python_version < \"3.10\", but you have importlib-metadata 1.7.0 which is incompatible.\n",
      "datascience 0.10.6 requires folium==0.2.1, but you have folium 0.8.3 which is incompatible.\n",
      "albumentations 0.1.12 requires imgaug<0.2.7,>=0.2.5, but you have imgaug 0.2.9 which is incompatible.\u001b[0m\n",
      "Successfully installed Mako-1.1.6 alembic-1.7.5 autopage-0.4.0 autowoe-1.2.5 catboost-1.0.3 cliff-3.10.0 cmaes-0.8.2 cmd2-2.3.3 colorlog-6.6.0 dataclasses-0.6 importlib-metadata-1.7.0 json2html-1.3.0 lightautoml-0.3.2 lightgbm-2.3.1 numpy-1.21.5 optuna-2.10.0 pbr-5.8.0 poetry-core-1.0.7 pyperclip-1.8.2 sphinx-rtd-theme-1.0.0 stevedore-3.5.0 torch-1.8.1 torchvision-0.9.1\n"
     ]
    },
    {
     "data": {
      "application/vnd.colab-display-data+json": {
       "pip_warning": {
        "packages": [
         "lightgbm",
         "numpy"
        ]
       }
      }
     },
     "metadata": {},
     "output_type": "display_data"
    }
   ],
   "source": [
    "!pip install lightautoml"
   ]
  },
  {
   "cell_type": "code",
   "execution_count": 2,
   "metadata": {
    "id": "cBIo4JsbRRJe"
   },
   "outputs": [],
   "source": [
    "from lightautoml.automl.presets.tabular_presets import TabularAutoML, TabularUtilizedAutoML\n",
    "from lightautoml.tasks import Task\n",
    "from lightautoml.tasks.common_metric import mean_quantile_error"
   ]
  },
  {
   "cell_type": "code",
   "execution_count": 88,
   "metadata": {
    "id": "mIaZyRZeSmiF"
   },
   "outputs": [],
   "source": [
    "import os, sys\n",
    "#module_path = os.path.abspath(os.path.join(os.pardir))\n",
    "#if module_path not in sys.path:\n",
    "#     sys.path.append(module_path)\n",
    "#sys.path.append('/content/drive/My Drive/Colab Notebooks/rec_sys')\n",
    "\n",
    "# Написанные нами функции\n",
    "from src.metrics import precision_at_k, recall_at_k\n",
    "from src.utils import prefilter_items\n",
    "from src.recommenders2 import MainRecommender"
   ]
  },
  {
   "cell_type": "markdown",
   "metadata": {
    "id": "Kr2Kn7mupZ3v"
   },
   "source": [
    "### Загружаем данные и разделяем их для валидации out of time: -9 недель -6 недель"
   ]
  },
  {
   "cell_type": "code",
   "execution_count": 89,
   "metadata": {
    "colab": {
     "base_uri": "https://localhost:8080/",
     "height": 112
    },
    "id": "unE5xaiH9SuF",
    "outputId": "21c91fc4-cd2e-4df4-d4de-342d7180badf"
   },
   "outputs": [
    {
     "data": {
      "text/html": [
       "<div>\n",
       "<style scoped>\n",
       "    .dataframe tbody tr th:only-of-type {\n",
       "        vertical-align: middle;\n",
       "    }\n",
       "\n",
       "    .dataframe tbody tr th {\n",
       "        vertical-align: top;\n",
       "    }\n",
       "\n",
       "    .dataframe thead th {\n",
       "        text-align: right;\n",
       "    }\n",
       "</style>\n",
       "<table border=\"1\" class=\"dataframe\">\n",
       "  <thead>\n",
       "    <tr style=\"text-align: right;\">\n",
       "      <th></th>\n",
       "      <th>user_id</th>\n",
       "      <th>basket_id</th>\n",
       "      <th>day</th>\n",
       "      <th>item_id</th>\n",
       "      <th>quantity</th>\n",
       "      <th>sales_value</th>\n",
       "      <th>store_id</th>\n",
       "      <th>retail_disc</th>\n",
       "      <th>trans_time</th>\n",
       "      <th>week_no</th>\n",
       "      <th>coupon_disc</th>\n",
       "      <th>coupon_match_disc</th>\n",
       "    </tr>\n",
       "  </thead>\n",
       "  <tbody>\n",
       "    <tr>\n",
       "      <th>0</th>\n",
       "      <td>2375</td>\n",
       "      <td>26984851472</td>\n",
       "      <td>1</td>\n",
       "      <td>1004906</td>\n",
       "      <td>1</td>\n",
       "      <td>1.39</td>\n",
       "      <td>364</td>\n",
       "      <td>-0.6</td>\n",
       "      <td>1631</td>\n",
       "      <td>1</td>\n",
       "      <td>0.0</td>\n",
       "      <td>0.0</td>\n",
       "    </tr>\n",
       "    <tr>\n",
       "      <th>1</th>\n",
       "      <td>2375</td>\n",
       "      <td>26984851472</td>\n",
       "      <td>1</td>\n",
       "      <td>1033142</td>\n",
       "      <td>1</td>\n",
       "      <td>0.82</td>\n",
       "      <td>364</td>\n",
       "      <td>0.0</td>\n",
       "      <td>1631</td>\n",
       "      <td>1</td>\n",
       "      <td>0.0</td>\n",
       "      <td>0.0</td>\n",
       "    </tr>\n",
       "  </tbody>\n",
       "</table>\n",
       "</div>"
      ],
      "text/plain": [
       "   user_id    basket_id  day  item_id  quantity  sales_value  store_id  \\\n",
       "0     2375  26984851472    1  1004906         1         1.39       364   \n",
       "1     2375  26984851472    1  1033142         1         0.82       364   \n",
       "\n",
       "   retail_disc  trans_time  week_no  coupon_disc  coupon_match_disc  \n",
       "0         -0.6        1631        1          0.0                0.0  \n",
       "1          0.0        1631        1          0.0                0.0  "
      ]
     },
     "execution_count": 89,
     "metadata": {},
     "output_type": "execute_result"
    }
   ],
   "source": [
    "data = pd.read_csv('retail_train.csv')#(root+'retail_train.csv')\n",
    "item_features = pd.read_csv('product.csv')#(root+'product.csv')\n",
    "user_features = pd.read_csv('hh_demographic.csv')#(root+'hh_demographic.csv')\n",
    "\n",
    "# column processing\n",
    "#data.columns = [col.lower() for col in data.columns]\n",
    "item_features.columns = [col.lower() for col in item_features.columns]\n",
    "user_features.columns = [col.lower() for col in user_features.columns]\n",
    "\n",
    "item_features.rename(columns={'product_id': 'item_id'}, inplace=True)\n",
    "user_features.rename(columns={'household_key': 'user_id'}, inplace=True)\n",
    "\n",
    "\n",
    "# Важна схема обучения и валидации!\n",
    "# -- давние покупки -- | -- 6 недель -- | -- 3 недель -- \n",
    "# подобрать размер 2-ого датасета (6 недель) --> learning curve (зависимость метрики recall@k от размера датасета)\n",
    "val_lvl_1_size_weeks = 6\n",
    "val_lvl_2_size_weeks = 3\n",
    "\n",
    "data_train_lvl_1 = data[data['week_no'] < data['week_no'].max() - (val_lvl_1_size_weeks + val_lvl_2_size_weeks)]\n",
    "data_val_lvl_1 = data[(data['week_no'] >= data['week_no'].max() - (val_lvl_1_size_weeks + val_lvl_2_size_weeks)) &\n",
    "                      (data['week_no'] < data['week_no'].max() - (val_lvl_2_size_weeks))]\n",
    "\n",
    "data_train_lvl_2 = data_val_lvl_1.copy()  # Для наглядности. Далее мы добавим изменения, и они будут отличаться\n",
    "data_val_lvl_2 = data[data['week_no'] >= data['week_no'].max() - val_lvl_2_size_weeks]\n",
    "\n",
    "data_train_lvl_1.head(2)"
   ]
  },
  {
   "cell_type": "code",
   "execution_count": 90,
   "metadata": {
    "colab": {
     "base_uri": "https://localhost:8080/"
    },
    "id": "4Ve9JY969SuI",
    "outputId": "28e159b4-280c-424b-a557-a23d904c6571"
   },
   "outputs": [
    {
     "name": "stdout",
     "output_type": "stream",
     "text": [
      "Decreased # items from 83685 to 5001\n"
     ]
    }
   ],
   "source": [
    "n_items_before = data_train_lvl_1['item_id'].nunique()\n",
    "\n",
    "data_train_lvl_1 = prefilter_items(data_train_lvl_1, item_features=item_features, take_n_popular=5000)\n",
    "\n",
    "n_items_after = data_train_lvl_1['item_id'].nunique()\n",
    "print('Decreased # items from {} to {}'.format(n_items_before, n_items_after))"
   ]
  },
  {
   "cell_type": "markdown",
   "metadata": {
    "id": "81tv9Mecqre0"
   },
   "source": [
    "Модель первого уровня. MainRecommender"
   ]
  },
  {
   "cell_type": "code",
   "execution_count": 91,
   "metadata": {
    "colab": {
     "base_uri": "https://localhost:8080/",
     "height": 119,
     "referenced_widgets": [
      "24a3f6f97f73400598397bc0e371f16f",
      "dff84a48818242a0aa16f60fe7c9ed65",
      "6d336e863a69439aa254bf3a02e14165",
      "044dcf20bb9241ebb8599a9a707cc7c8",
      "fbb9fbe5e54f4b278fcdd0d1b564c1b8",
      "6e49065ed2ac411e9002eeb3bd083cb6",
      "058d6367b6b54c9687594e87cd613ca9",
      "3bc12aa5088a46cba8f7715d28fa0417",
      "b5d34cfe179b4105896938751223f35b",
      "e350977433f0406693bcddec8ca12eb8",
      "ef5e39a27e0f4309bd17e3b552ae0e2d",
      "4aa9c5d051494428ab39980d4d6d9e99",
      "0733af7e377b4465a6b241caef9fc366",
      "2b22eebdce104daea911b938c0210b53",
      "b2202a58a92f48e284d565c31b366ead",
      "36d64ba692654882bc821389a32b48f8",
      "d634639ed03e44778e5946277a01bc47",
      "7d0ec67f79444522ab5faf43cf4a0203",
      "20f32d141ce74eaaa967cfcf91b8684b",
      "e71dfa4d9e2c4bfb8a020de6967f5f14",
      "def09d5f25c94f4e8f50e9f3e66012d8",
      "5e3a4911486e4d9da76b5ab263a5e150"
     ]
    },
    "id": "2B_5gEQN9SuK",
    "outputId": "0347bc44-89e3-4243-fef3-3d84b0ebc27f"
   },
   "outputs": [
    {
     "data": {
      "application/vnd.jupyter.widget-view+json": {
       "model_id": "ebbc87c1750a4711951e0be64a5eda22",
       "version_major": 2,
       "version_minor": 0
      },
      "text/plain": [
       "  0%|          | 0/15 [00:00<?, ?it/s]"
      ]
     },
     "metadata": {},
     "output_type": "display_data"
    },
    {
     "data": {
      "application/vnd.jupyter.widget-view+json": {
       "model_id": "651ae5628d8148cba2be0c1733e76da1",
       "version_major": 2,
       "version_minor": 0
      },
      "text/plain": [
       "  0%|          | 0/5001 [00:00<?, ?it/s]"
      ]
     },
     "metadata": {},
     "output_type": "display_data"
    }
   ],
   "source": [
    "recommender = MainRecommender(data_train_lvl_1)"
   ]
  },
  {
   "cell_type": "code",
   "execution_count": 92,
   "metadata": {
    "colab": {
     "base_uri": "https://localhost:8080/"
    },
    "id": "-EhH222GBXtf",
    "outputId": "82ee43f0-59ce-403d-ffbc-eb7a2ff8bc08"
   },
   "outputs": [
    {
     "data": {
      "text/plain": [
       "<src.recommenders2.MainRecommender at 0x1c707cde550>"
      ]
     },
     "execution_count": 92,
     "metadata": {},
     "output_type": "execute_result"
    }
   ],
   "source": [
    "recommender"
   ]
  },
  {
   "cell_type": "markdown",
   "metadata": {
    "id": "cCRW8mf09SuL"
   },
   "source": [
    "### Варианты, как получить кандидатов\n",
    "\n",
    "Можно потом все эти варианты соединить в один\n",
    "\n",
    "(!) Если модель рекомендует < N товаров, то рекомендации дополняются топ-популярными товарами до N"
   ]
  },
  {
   "cell_type": "markdown",
   "metadata": {
    "id": "KhZm3W1d9SuO"
   },
   "source": [
    "### Измеряем recall@k\n"
   ]
  },
  {
   "cell_type": "code",
   "execution_count": 93,
   "metadata": {
    "colab": {
     "base_uri": "https://localhost:8080/",
     "height": 112
    },
    "id": "iNhKQhXp9SuP",
    "outputId": "9fad86ab-846a-48f8-b732-0e162eb38803"
   },
   "outputs": [
    {
     "data": {
      "text/html": [
       "<div>\n",
       "<style scoped>\n",
       "    .dataframe tbody tr th:only-of-type {\n",
       "        vertical-align: middle;\n",
       "    }\n",
       "\n",
       "    .dataframe tbody tr th {\n",
       "        vertical-align: top;\n",
       "    }\n",
       "\n",
       "    .dataframe thead th {\n",
       "        text-align: right;\n",
       "    }\n",
       "</style>\n",
       "<table border=\"1\" class=\"dataframe\">\n",
       "  <thead>\n",
       "    <tr style=\"text-align: right;\">\n",
       "      <th></th>\n",
       "      <th>user_id</th>\n",
       "      <th>actual</th>\n",
       "    </tr>\n",
       "  </thead>\n",
       "  <tbody>\n",
       "    <tr>\n",
       "      <th>0</th>\n",
       "      <td>1</td>\n",
       "      <td>[853529, 865456, 867607, 872137, 874905, 87524...</td>\n",
       "    </tr>\n",
       "    <tr>\n",
       "      <th>1</th>\n",
       "      <td>2</td>\n",
       "      <td>[15830248, 838136, 839656, 861272, 866211, 870...</td>\n",
       "    </tr>\n",
       "  </tbody>\n",
       "</table>\n",
       "</div>"
      ],
      "text/plain": [
       "   user_id                                             actual\n",
       "0        1  [853529, 865456, 867607, 872137, 874905, 87524...\n",
       "1        2  [15830248, 838136, 839656, 861272, 866211, 870..."
      ]
     },
     "execution_count": 93,
     "metadata": {},
     "output_type": "execute_result"
    }
   ],
   "source": [
    "result_lvl_1 = data_val_lvl_1.groupby('user_id')['item_id'].unique().reset_index()\n",
    "result_lvl_1.columns=['user_id', 'actual']\n",
    "result_lvl_1.head(2)"
   ]
  },
  {
   "cell_type": "code",
   "execution_count": 94,
   "metadata": {
    "colab": {
     "base_uri": "https://localhost:8080/"
    },
    "id": "-lKq_5NGwKZj",
    "outputId": "29eb3b68-2d54-4781-b13b-fd6c0e9a96c7"
   },
   "outputs": [
    {
     "data": {
      "text/plain": [
       "(2154, 2)"
      ]
     },
     "execution_count": 94,
     "metadata": {},
     "output_type": "execute_result"
    }
   ],
   "source": [
    "result_lvl_1.shape"
   ]
  },
  {
   "cell_type": "code",
   "execution_count": 95,
   "metadata": {
    "colab": {
     "base_uri": "https://localhost:8080/"
    },
    "id": "xZSxVxeR2qCZ",
    "outputId": "b1c9f4cb-e395-4b32-f10e-b3e09c16f687"
   },
   "outputs": [
    {
     "data": {
      "text/plain": [
       "(2497, 1)"
      ]
     },
     "execution_count": 95,
     "metadata": {},
     "output_type": "execute_result"
    }
   ],
   "source": [
    "users_lvl_1 = pd.DataFrame(data_train_lvl_1['user_id'].unique(),columns = ['user_id'])\n",
    "users_lvl_1.shape"
   ]
  },
  {
   "cell_type": "code",
   "execution_count": 96,
   "metadata": {
    "id": "ZbNFeqUx-nGO"
   },
   "outputs": [
    {
     "name": "stdout",
     "output_type": "stream",
     "text": [
      "Wall time: 1min 15s\n"
     ]
    }
   ],
   "source": [
    "%%time\n",
    "K_num = 50\n",
    "result_lvl_1['als_rec'] = users_lvl_1['user_id'].apply(lambda x: recommender.get_als_recommendations(x, N=K_num))\n",
    "result_lvl_1['own_rec'] = users_lvl_1['user_id'].apply(lambda x: recommender.get_own_recommendations(x, N=K_num))\n",
    "result_lvl_1['sim_items'] = users_lvl_1['user_id'].apply(lambda x: recommender.get_similar_items_recommendation(x, N=K_num))\n",
    "#result_lvl_1['sim_users'] = users_lvl_1['user_id'].apply(lambda x: recommender.get_similar_users_recommendation(x, N=K_num))"
   ]
  },
  {
   "cell_type": "code",
   "execution_count": 97,
   "metadata": {},
   "outputs": [
    {
     "ename": "KeyboardInterrupt",
     "evalue": "",
     "output_type": "error",
     "traceback": [
      "\u001b[1;31m---------------------------------------------------------------------------\u001b[0m",
      "\u001b[1;31mKeyboardInterrupt\u001b[0m                         Traceback (most recent call last)",
      "\u001b[1;32m<timed exec>\u001b[0m in \u001b[0;36m<module>\u001b[1;34m\u001b[0m\n",
      "\u001b[1;32mC:\\Anaconda\\lib\\site-packages\\pandas\\core\\series.py\u001b[0m in \u001b[0;36mapply\u001b[1;34m(self, func, convert_dtype, args, **kwds)\u001b[0m\n\u001b[0;32m   4136\u001b[0m             \u001b[1;32melse\u001b[0m\u001b[1;33m:\u001b[0m\u001b[1;33m\u001b[0m\u001b[1;33m\u001b[0m\u001b[0m\n\u001b[0;32m   4137\u001b[0m                 \u001b[0mvalues\u001b[0m \u001b[1;33m=\u001b[0m \u001b[0mself\u001b[0m\u001b[1;33m.\u001b[0m\u001b[0mastype\u001b[0m\u001b[1;33m(\u001b[0m\u001b[0mobject\u001b[0m\u001b[1;33m)\u001b[0m\u001b[1;33m.\u001b[0m\u001b[0m_values\u001b[0m\u001b[1;33m\u001b[0m\u001b[1;33m\u001b[0m\u001b[0m\n\u001b[1;32m-> 4138\u001b[1;33m                 \u001b[0mmapped\u001b[0m \u001b[1;33m=\u001b[0m \u001b[0mlib\u001b[0m\u001b[1;33m.\u001b[0m\u001b[0mmap_infer\u001b[0m\u001b[1;33m(\u001b[0m\u001b[0mvalues\u001b[0m\u001b[1;33m,\u001b[0m \u001b[0mf\u001b[0m\u001b[1;33m,\u001b[0m \u001b[0mconvert\u001b[0m\u001b[1;33m=\u001b[0m\u001b[0mconvert_dtype\u001b[0m\u001b[1;33m)\u001b[0m\u001b[1;33m\u001b[0m\u001b[1;33m\u001b[0m\u001b[0m\n\u001b[0m\u001b[0;32m   4139\u001b[0m \u001b[1;33m\u001b[0m\u001b[0m\n\u001b[0;32m   4140\u001b[0m         \u001b[1;32mif\u001b[0m \u001b[0mlen\u001b[0m\u001b[1;33m(\u001b[0m\u001b[0mmapped\u001b[0m\u001b[1;33m)\u001b[0m \u001b[1;32mand\u001b[0m \u001b[0misinstance\u001b[0m\u001b[1;33m(\u001b[0m\u001b[0mmapped\u001b[0m\u001b[1;33m[\u001b[0m\u001b[1;36m0\u001b[0m\u001b[1;33m]\u001b[0m\u001b[1;33m,\u001b[0m \u001b[0mSeries\u001b[0m\u001b[1;33m)\u001b[0m\u001b[1;33m:\u001b[0m\u001b[1;33m\u001b[0m\u001b[1;33m\u001b[0m\u001b[0m\n",
      "\u001b[1;32mpandas\\_libs\\lib.pyx\u001b[0m in \u001b[0;36mpandas._libs.lib.map_infer\u001b[1;34m()\u001b[0m\n",
      "\u001b[1;32m<timed exec>\u001b[0m in \u001b[0;36m<lambda>\u001b[1;34m(x)\u001b[0m\n",
      "\u001b[1;32m~\\Desktop\\Rec Systems\\NewCourse\\course\\course_final\\src\\recommenders2.py\u001b[0m in \u001b[0;36mget_similar_users_recommendation\u001b[1;34m(self, user, N)\u001b[0m\n\u001b[0;32m    187\u001b[0m         \u001b[1;32mfor\u001b[0m \u001b[0muser\u001b[0m \u001b[1;32min\u001b[0m \u001b[0msimilar_users\u001b[0m\u001b[1;33m:\u001b[0m\u001b[1;33m\u001b[0m\u001b[1;33m\u001b[0m\u001b[0m\n\u001b[0;32m    188\u001b[0m             \u001b[0muserid\u001b[0m \u001b[1;33m=\u001b[0m \u001b[0mself\u001b[0m\u001b[1;33m.\u001b[0m\u001b[0mid_to_userid\u001b[0m\u001b[1;33m[\u001b[0m\u001b[0muser\u001b[0m\u001b[1;33m]\u001b[0m  \u001b[1;31m# own recommender works with user_ids\u001b[0m\u001b[1;33m\u001b[0m\u001b[1;33m\u001b[0m\u001b[0m\n\u001b[1;32m--> 189\u001b[1;33m             \u001b[0mres\u001b[0m\u001b[1;33m.\u001b[0m\u001b[0mextend\u001b[0m\u001b[1;33m(\u001b[0m\u001b[0mself\u001b[0m\u001b[1;33m.\u001b[0m\u001b[0mget_own_recommendations\u001b[0m\u001b[1;33m(\u001b[0m\u001b[0muserid\u001b[0m\u001b[1;33m,\u001b[0m \u001b[0mN\u001b[0m\u001b[1;33m=\u001b[0m\u001b[1;36m1\u001b[0m\u001b[1;33m)\u001b[0m\u001b[1;33m)\u001b[0m\u001b[1;33m\u001b[0m\u001b[1;33m\u001b[0m\u001b[0m\n\u001b[0m\u001b[0;32m    190\u001b[0m \u001b[1;33m\u001b[0m\u001b[0m\n\u001b[0;32m    191\u001b[0m         \u001b[0mres\u001b[0m \u001b[1;33m=\u001b[0m \u001b[0mself\u001b[0m\u001b[1;33m.\u001b[0m\u001b[0m_extend_with_top_popular\u001b[0m\u001b[1;33m(\u001b[0m\u001b[0mres\u001b[0m\u001b[1;33m,\u001b[0m \u001b[0mN\u001b[0m\u001b[1;33m=\u001b[0m\u001b[0mN\u001b[0m\u001b[1;33m)\u001b[0m\u001b[1;33m\u001b[0m\u001b[1;33m\u001b[0m\u001b[0m\n",
      "\u001b[1;32m~\\Desktop\\Rec Systems\\NewCourse\\course\\course_final\\src\\recommenders2.py\u001b[0m in \u001b[0;36mget_own_recommendations\u001b[1;34m(self, user, N)\u001b[0m\n\u001b[0;32m    161\u001b[0m \u001b[1;33m\u001b[0m\u001b[0m\n\u001b[0;32m    162\u001b[0m         \u001b[0mself\u001b[0m\u001b[1;33m.\u001b[0m\u001b[0m_update_dict\u001b[0m\u001b[1;33m(\u001b[0m\u001b[0muser_id\u001b[0m\u001b[1;33m=\u001b[0m\u001b[0muser\u001b[0m\u001b[1;33m)\u001b[0m\u001b[1;33m\u001b[0m\u001b[1;33m\u001b[0m\u001b[0m\n\u001b[1;32m--> 163\u001b[1;33m         \u001b[1;32mreturn\u001b[0m \u001b[0mself\u001b[0m\u001b[1;33m.\u001b[0m\u001b[0m_get_recommendations\u001b[0m\u001b[1;33m(\u001b[0m\u001b[0muser\u001b[0m\u001b[1;33m,\u001b[0m \u001b[0mmodel\u001b[0m\u001b[1;33m=\u001b[0m\u001b[0mself\u001b[0m\u001b[1;33m.\u001b[0m\u001b[0mown_recommender\u001b[0m\u001b[1;33m,\u001b[0m \u001b[0mN\u001b[0m\u001b[1;33m=\u001b[0m\u001b[0mN\u001b[0m\u001b[1;33m)\u001b[0m\u001b[1;33m\u001b[0m\u001b[1;33m\u001b[0m\u001b[0m\n\u001b[0m\u001b[0;32m    164\u001b[0m \u001b[1;33m\u001b[0m\u001b[0m\n\u001b[0;32m    165\u001b[0m     \u001b[1;32mdef\u001b[0m \u001b[0mget_similar_items_recommendation\u001b[0m\u001b[1;33m(\u001b[0m\u001b[0mself\u001b[0m\u001b[1;33m,\u001b[0m \u001b[0muser\u001b[0m\u001b[1;33m,\u001b[0m \u001b[0mN\u001b[0m\u001b[1;33m=\u001b[0m\u001b[1;36m5\u001b[0m\u001b[1;33m)\u001b[0m\u001b[1;33m:\u001b[0m\u001b[1;33m\u001b[0m\u001b[1;33m\u001b[0m\u001b[0m\n",
      "\u001b[1;32m~\\Desktop\\Rec Systems\\NewCourse\\course\\course_final\\src\\recommenders2.py\u001b[0m in \u001b[0;36m_get_recommendations\u001b[1;34m(self, user, model, N)\u001b[0m\n\u001b[0;32m    138\u001b[0m \u001b[1;33m\u001b[0m\u001b[0m\n\u001b[0;32m    139\u001b[0m         recs = model.recommend(userid=self.userid_to_id[user],\n\u001b[1;32m--> 140\u001b[1;33m                                \u001b[0muser_items\u001b[0m\u001b[1;33m=\u001b[0m\u001b[0mcsr_matrix\u001b[0m\u001b[1;33m(\u001b[0m\u001b[0mself\u001b[0m\u001b[1;33m.\u001b[0m\u001b[0muser_item_matrix\u001b[0m\u001b[1;33m)\u001b[0m\u001b[1;33m.\u001b[0m\u001b[0mtocsr\u001b[0m\u001b[1;33m(\u001b[0m\u001b[1;33m)\u001b[0m\u001b[1;33m,\u001b[0m\u001b[1;33m\u001b[0m\u001b[1;33m\u001b[0m\u001b[0m\n\u001b[0m\u001b[0;32m    141\u001b[0m                                \u001b[0mN\u001b[0m\u001b[1;33m=\u001b[0m\u001b[0mN\u001b[0m\u001b[1;33m,\u001b[0m\u001b[1;33m\u001b[0m\u001b[1;33m\u001b[0m\u001b[0m\n\u001b[0;32m    142\u001b[0m                                \u001b[0mfilter_already_liked_items\u001b[0m\u001b[1;33m=\u001b[0m\u001b[1;32mFalse\u001b[0m\u001b[1;33m,\u001b[0m\u001b[1;33m\u001b[0m\u001b[1;33m\u001b[0m\u001b[0m\n",
      "\u001b[1;32mC:\\Anaconda\\lib\\site-packages\\scipy\\sparse\\compressed.py\u001b[0m in \u001b[0;36m__init__\u001b[1;34m(self, arg1, shape, dtype, copy)\u001b[0m\n\u001b[0;32m     32\u001b[0m                 \u001b[0marg1\u001b[0m \u001b[1;33m=\u001b[0m \u001b[0marg1\u001b[0m\u001b[1;33m.\u001b[0m\u001b[0mcopy\u001b[0m\u001b[1;33m(\u001b[0m\u001b[1;33m)\u001b[0m\u001b[1;33m\u001b[0m\u001b[1;33m\u001b[0m\u001b[0m\n\u001b[0;32m     33\u001b[0m             \u001b[1;32melse\u001b[0m\u001b[1;33m:\u001b[0m\u001b[1;33m\u001b[0m\u001b[1;33m\u001b[0m\u001b[0m\n\u001b[1;32m---> 34\u001b[1;33m                 \u001b[0marg1\u001b[0m \u001b[1;33m=\u001b[0m \u001b[0marg1\u001b[0m\u001b[1;33m.\u001b[0m\u001b[0masformat\u001b[0m\u001b[1;33m(\u001b[0m\u001b[0mself\u001b[0m\u001b[1;33m.\u001b[0m\u001b[0mformat\u001b[0m\u001b[1;33m)\u001b[0m\u001b[1;33m\u001b[0m\u001b[1;33m\u001b[0m\u001b[0m\n\u001b[0m\u001b[0;32m     35\u001b[0m             \u001b[0mself\u001b[0m\u001b[1;33m.\u001b[0m\u001b[0m_set_self\u001b[0m\u001b[1;33m(\u001b[0m\u001b[0marg1\u001b[0m\u001b[1;33m)\u001b[0m\u001b[1;33m\u001b[0m\u001b[1;33m\u001b[0m\u001b[0m\n\u001b[0;32m     36\u001b[0m \u001b[1;33m\u001b[0m\u001b[0m\n",
      "\u001b[1;32mC:\\Anaconda\\lib\\site-packages\\scipy\\sparse\\base.py\u001b[0m in \u001b[0;36masformat\u001b[1;34m(self, format, copy)\u001b[0m\n\u001b[0;32m    320\u001b[0m             \u001b[1;31m# Forward the copy kwarg, if it's accepted.\u001b[0m\u001b[1;33m\u001b[0m\u001b[1;33m\u001b[0m\u001b[1;33m\u001b[0m\u001b[0m\n\u001b[0;32m    321\u001b[0m             \u001b[1;32mtry\u001b[0m\u001b[1;33m:\u001b[0m\u001b[1;33m\u001b[0m\u001b[1;33m\u001b[0m\u001b[0m\n\u001b[1;32m--> 322\u001b[1;33m                 \u001b[1;32mreturn\u001b[0m \u001b[0mconvert_method\u001b[0m\u001b[1;33m(\u001b[0m\u001b[0mcopy\u001b[0m\u001b[1;33m=\u001b[0m\u001b[0mcopy\u001b[0m\u001b[1;33m)\u001b[0m\u001b[1;33m\u001b[0m\u001b[1;33m\u001b[0m\u001b[0m\n\u001b[0m\u001b[0;32m    323\u001b[0m             \u001b[1;32mexcept\u001b[0m \u001b[0mTypeError\u001b[0m\u001b[1;33m:\u001b[0m\u001b[1;33m\u001b[0m\u001b[1;33m\u001b[0m\u001b[0m\n\u001b[0;32m    324\u001b[0m                 \u001b[1;32mreturn\u001b[0m \u001b[0mconvert_method\u001b[0m\u001b[1;33m(\u001b[0m\u001b[1;33m)\u001b[0m\u001b[1;33m\u001b[0m\u001b[1;33m\u001b[0m\u001b[0m\n",
      "\u001b[1;32mC:\\Anaconda\\lib\\site-packages\\scipy\\sparse\\coo.py\u001b[0m in \u001b[0;36mtocsr\u001b[1;34m(self, copy)\u001b[0m\n\u001b[0;32m    404\u001b[0m             \u001b[0mdata\u001b[0m \u001b[1;33m=\u001b[0m \u001b[0mnp\u001b[0m\u001b[1;33m.\u001b[0m\u001b[0mempty_like\u001b[0m\u001b[1;33m(\u001b[0m\u001b[0mself\u001b[0m\u001b[1;33m.\u001b[0m\u001b[0mdata\u001b[0m\u001b[1;33m,\u001b[0m \u001b[0mdtype\u001b[0m\u001b[1;33m=\u001b[0m\u001b[0mupcast\u001b[0m\u001b[1;33m(\u001b[0m\u001b[0mself\u001b[0m\u001b[1;33m.\u001b[0m\u001b[0mdtype\u001b[0m\u001b[1;33m)\u001b[0m\u001b[1;33m)\u001b[0m\u001b[1;33m\u001b[0m\u001b[1;33m\u001b[0m\u001b[0m\n\u001b[0;32m    405\u001b[0m \u001b[1;33m\u001b[0m\u001b[0m\n\u001b[1;32m--> 406\u001b[1;33m             coo_tocsr(M, N, self.nnz, row, col, self.data,\n\u001b[0m\u001b[0;32m    407\u001b[0m                       indptr, indices, data)\n\u001b[0;32m    408\u001b[0m \u001b[1;33m\u001b[0m\u001b[0m\n",
      "\u001b[1;31mKeyboardInterrupt\u001b[0m: "
     ]
    }
   ],
   "source": [
    "%%time\n",
    "result_lvl_1['sim_users'] = users_lvl_1['user_id'].apply(lambda x: recommender.get_similar_users_recommendation(x, N=K_num))"
   ]
  },
  {
   "cell_type": "markdown",
   "metadata": {
    "id": "Ve6LPP8tlPZD"
   },
   "source": [
    "## Расчет recall для отбора модели первого уровня - модель для отбора кандидатов"
   ]
  },
  {
   "cell_type": "code",
   "execution_count": 100,
   "metadata": {
    "id": "51H807RMAjQh"
   },
   "outputs": [],
   "source": [
    "def calculate_recall_k(data, K): #data - pandas df\n",
    "    for column in data.columns[2:]:\n",
    "        yield column, data.apply(lambda row: recall_at_k(row[column], row['actual'], k=K), axis=1).mean()"
   ]
  },
  {
   "cell_type": "code",
   "execution_count": 101,
   "metadata": {
    "colab": {
     "base_uri": "https://localhost:8080/",
     "height": 144
    },
    "id": "eCryM9vpBLDy",
    "outputId": "bcbcb0c8-f53b-4306-93b9-8f28d0d0f0f4"
   },
   "outputs": [
    {
     "data": {
      "text/html": [
       "<div>\n",
       "<style scoped>\n",
       "    .dataframe tbody tr th:only-of-type {\n",
       "        vertical-align: middle;\n",
       "    }\n",
       "\n",
       "    .dataframe tbody tr th {\n",
       "        vertical-align: top;\n",
       "    }\n",
       "\n",
       "    .dataframe thead th {\n",
       "        text-align: right;\n",
       "    }\n",
       "</style>\n",
       "<table border=\"1\" class=\"dataframe\">\n",
       "  <thead>\n",
       "    <tr style=\"text-align: right;\">\n",
       "      <th></th>\n",
       "      <th>Candidate_model</th>\n",
       "      <th>Recall</th>\n",
       "    </tr>\n",
       "  </thead>\n",
       "  <tbody>\n",
       "    <tr>\n",
       "      <th>0</th>\n",
       "      <td>als_rec</td>\n",
       "      <td>0.024120</td>\n",
       "    </tr>\n",
       "    <tr>\n",
       "      <th>1</th>\n",
       "      <td>sim_items</td>\n",
       "      <td>0.022766</td>\n",
       "    </tr>\n",
       "    <tr>\n",
       "      <th>2</th>\n",
       "      <td>own_rec</td>\n",
       "      <td>0.012843</td>\n",
       "    </tr>\n",
       "  </tbody>\n",
       "</table>\n",
       "</div>"
      ],
      "text/plain": [
       "  Candidate_model    Recall\n",
       "0         als_rec  0.024120\n",
       "1       sim_items  0.022766\n",
       "2         own_rec  0.012843"
      ]
     },
     "execution_count": 101,
     "metadata": {},
     "output_type": "execute_result"
    }
   ],
   "source": [
    "recall_results = pd.DataFrame(sorted(calculate_recall_k(result_lvl_1, 50), key=lambda x: x[1],reverse=True), columns = ['Candidate_model','Recall'])\n",
    "recall_results"
   ]
  },
  {
   "cell_type": "markdown",
   "metadata": {
    "id": "KCmVSQ-flt3W"
   },
   "source": [
    "# Бейзлайн - модели первого уровня, расчет метрики precision@5"
   ]
  },
  {
   "cell_type": "code",
   "execution_count": 102,
   "metadata": {
    "id": "sexmFKrlD6MW"
   },
   "outputs": [],
   "source": [
    "def calculate_precision_k(data, K): #data - pandas df\n",
    "    for column in data.columns[2:]:\n",
    "        yield column, data.apply(lambda row: precision_at_k(row[column], row['actual'], k=K), axis=1).mean()"
   ]
  },
  {
   "cell_type": "code",
   "execution_count": 103,
   "metadata": {
    "colab": {
     "base_uri": "https://localhost:8080/",
     "height": 144
    },
    "id": "QsP6RcwmD6Pf",
    "outputId": "070c8b2f-ab30-4eac-e288-288a31ecff4a"
   },
   "outputs": [
    {
     "data": {
      "text/html": [
       "<div>\n",
       "<style scoped>\n",
       "    .dataframe tbody tr th:only-of-type {\n",
       "        vertical-align: middle;\n",
       "    }\n",
       "\n",
       "    .dataframe tbody tr th {\n",
       "        vertical-align: top;\n",
       "    }\n",
       "\n",
       "    .dataframe thead th {\n",
       "        text-align: right;\n",
       "    }\n",
       "</style>\n",
       "<table border=\"1\" class=\"dataframe\">\n",
       "  <thead>\n",
       "    <tr style=\"text-align: right;\">\n",
       "      <th></th>\n",
       "      <th>Model</th>\n",
       "      <th>Precision</th>\n",
       "    </tr>\n",
       "  </thead>\n",
       "  <tbody>\n",
       "    <tr>\n",
       "      <th>0</th>\n",
       "      <td>als_rec</td>\n",
       "      <td>0.047075</td>\n",
       "    </tr>\n",
       "    <tr>\n",
       "      <th>1</th>\n",
       "      <td>sim_items</td>\n",
       "      <td>0.035840</td>\n",
       "    </tr>\n",
       "    <tr>\n",
       "      <th>2</th>\n",
       "      <td>own_rec</td>\n",
       "      <td>0.008078</td>\n",
       "    </tr>\n",
       "  </tbody>\n",
       "</table>\n",
       "</div>"
      ],
      "text/plain": [
       "       Model  Precision\n",
       "0    als_rec   0.047075\n",
       "1  sim_items   0.035840\n",
       "2    own_rec   0.008078"
      ]
     },
     "execution_count": 103,
     "metadata": {},
     "output_type": "execute_result"
    }
   ],
   "source": [
    "precision_results = pd.DataFrame(sorted(calculate_precision_k(result_lvl_1, 5), key=lambda x: x[1],reverse=True), columns = ['Model','Precision'])\n",
    "precision_results"
   ]
  },
  {
   "cell_type": "markdown",
   "metadata": {
    "id": "KWHCiwz5lx88"
   },
   "source": [
    "### Лучшая метрика по Baseline - MainRecommender ALS (als рекомендации с дефолтным взвешиванием bm25, доподненные ТОП популярными товарами) составляет 0.026277. Наилучший recall выдает метод similar_items; его возьмем для отбора кандидатов второй модели. "
   ]
  },
  {
   "cell_type": "code",
   "execution_count": 104,
   "metadata": {
    "id": "amuQlJtIFc0X"
   },
   "outputs": [],
   "source": [
    "## Добавить ТОП популярных, стекнуть несколько кандидатских списков"
   ]
  },
  {
   "cell_type": "markdown",
   "metadata": {
    "id": "Lfkm0Oi09SuQ"
   },
   "source": [
    "### Обучаем модель 2-ого уровня на выбранных кандидатах\n",
    "\n",
    "- Обучаем на data_train_lvl_2\n",
    "- Обучаем *только* на выбранных кандидатах -  сгенерирую топ-50 кадидиатов через get_als_recommendations. Если юзер купил < 50 товаров, то get_als_recommendations дополнит рекоммендации топ-популярными"
   ]
  },
  {
   "cell_type": "code",
   "execution_count": 105,
   "metadata": {
    "id": "ZwjRceyO9SuR"
   },
   "outputs": [],
   "source": [
    "users_lvl_2 = pd.DataFrame(data_train_lvl_2['user_id'].unique())\n",
    "users_lvl_2.columns = ['user_id']\n",
    "\n",
    "# Пока только warm start\n",
    "train_users = data_train_lvl_1['user_id'].unique()\n",
    "users_lvl_2 = users_lvl_2[users_lvl_2['user_id'].isin(train_users)]\n",
    "\n",
    "users_lvl_2['candidates'] = users_lvl_2['user_id'].apply(lambda x: recommender.get_als_recommendations(x, N=50))\n",
    "s = users_lvl_2.apply(lambda x: pd.Series(x['candidates']), axis=1).stack().reset_index(level=1, drop=True)\n",
    "s.name = 'item_id'\n",
    "\n",
    "users_lvl_2 = users_lvl_2.drop('candidates', axis=1).join(s)\n",
    "users_lvl_2['flag'] = 1\n",
    "targets_lvl_2 = data_train_lvl_2[['user_id', 'item_id']].copy()\n",
    "targets_lvl_2['target'] = 1  # тут только покупки \n",
    "\n",
    "targets_lvl_2 = users_lvl_2.merge(targets_lvl_2, on=['user_id', 'item_id'], how='left')\n",
    "\n",
    "targets_lvl_2['target'].fillna(0, inplace= True)\n",
    "targets_lvl_2.drop('flag', axis=1, inplace=True)"
   ]
  },
  {
   "cell_type": "code",
   "execution_count": 106,
   "metadata": {
    "colab": {
     "base_uri": "https://localhost:8080/"
    },
    "id": "xgWty9Qz9SuS",
    "outputId": "8e0391d7-e919-4636-8d8c-ce5fa60c93a5"
   },
   "outputs": [
    {
     "data": {
      "text/plain": [
       "107600"
      ]
     },
     "execution_count": 106,
     "metadata": {},
     "output_type": "execute_result"
    }
   ],
   "source": [
    "users_lvl_2.shape[0]"
   ]
  },
  {
   "cell_type": "code",
   "execution_count": 107,
   "metadata": {
    "colab": {
     "base_uri": "https://localhost:8080/"
    },
    "id": "KljPfGAn9SuS",
    "outputId": "9148a1d3-6a9e-4039-ce44-ea00db7167da"
   },
   "outputs": [
    {
     "data": {
      "text/plain": [
       "2152"
      ]
     },
     "execution_count": 107,
     "metadata": {},
     "output_type": "execute_result"
    }
   ],
   "source": [
    "users_lvl_2['user_id'].nunique()"
   ]
  },
  {
   "cell_type": "code",
   "execution_count": 108,
   "metadata": {
    "colab": {
     "base_uri": "https://localhost:8080/"
    },
    "id": "1NgEN4Tj9SuT",
    "outputId": "950ed66b-6465-4448-86fb-3f24ebab9ccf"
   },
   "outputs": [
    {
     "data": {
      "text/plain": [
       "(112884, 3)"
      ]
     },
     "execution_count": 108,
     "metadata": {},
     "output_type": "execute_result"
    }
   ],
   "source": [
    "targets_lvl_2.shape"
   ]
  },
  {
   "cell_type": "code",
   "execution_count": 109,
   "metadata": {
    "colab": {
     "base_uri": "https://localhost:8080/"
    },
    "id": "Pdq0zFi69SuU",
    "outputId": "18bdacf8-1f91-4ea2-c486-7f05c1f26051"
   },
   "outputs": [
    {
     "data": {
      "text/plain": [
       "0.12832642358527338"
      ]
     },
     "execution_count": 109,
     "metadata": {},
     "output_type": "execute_result"
    }
   ],
   "source": [
    "targets_lvl_2['target'].mean()"
   ]
  },
  {
   "cell_type": "markdown",
   "metadata": {
    "id": "hX-nPzvH9SuV"
   },
   "source": [
    "## Feature generation. Добавим фичи users, items, а также их ембеддинги (ALS) из встроенного метода класса MainRecommender (добавил сам)"
   ]
  },
  {
   "cell_type": "markdown",
   "metadata": {
    "id": "_wrnMJoz9SuW"
   },
   "source": [
    "**Фичи user_id:**\n",
    "    - Средний чек\n",
    "    - Средняя сумма покупки 1 товара в каждой категории\n",
    "    - Кол-во покупок в каждой категории\n",
    "    - Частотность покупок раз/месяц\n",
    "    - Долю покупок в выходные\n",
    "    - Долю покупок утром/днем/вечером\n",
    "\n",
    "**Фичи item_id**:\n",
    "    - Кол-во покупок в неделю\n",
    "    - Среднее ол-во покупок 1 товара в категории в неделю\n",
    "    - (Кол-во покупок в неделю) / (Среднее кол-во покупок 1 товара в категории в неделю)\n",
    "    - Цена (Можно посчитать из retil_train.csv)\n",
    "    - Цена / Средняя цена товара в категории\n",
    "    \n",
    "**Фичи пары user_id - item_id**\n",
    "    - (Средняя сумма покупки 1 товара в каждой категории (берем категорию item_id)) - (Цена item_id)\n",
    "    - (Кол-во покупок юзером конкретной категории в неделю) - (Среднее кол-во покупок всеми юзерами конкретной категории в неделю)\n",
    "    - (Кол-во покупок юзером конкретной категории в неделю) / (Среднее кол-во покупок всеми юзерами конкретной категории в неделю)"
   ]
  },
  {
   "cell_type": "markdown",
   "metadata": {
    "id": "8uoHH3PqK3Rg"
   },
   "source": [
    "## Feature generation"
   ]
  },
  {
   "cell_type": "code",
   "execution_count": 110,
   "metadata": {
    "id": "X21ztu7GR0CC"
   },
   "outputs": [],
   "source": [
    "#Max week\n",
    "MAX_WEEK = data['week_no'].max()"
   ]
  },
  {
   "cell_type": "code",
   "execution_count": 111,
   "metadata": {
    "id": "_EafgVLeAJj_"
   },
   "outputs": [],
   "source": [
    "# Данные транзакций\n",
    "t_data = data_train_lvl_2.copy()\n",
    "df_augm = targets_lvl_2\n",
    "t_data = t_data.merge(item_features[['item_id','department']], on='item_id',how='left')"
   ]
  },
  {
   "cell_type": "code",
   "execution_count": 112,
   "metadata": {
    "id": "Zmb4qGthBY4U"
   },
   "outputs": [],
   "source": [
    "# средний чек на юзера\n",
    "avg_basket = (t_data.groupby(['user_id', 'basket_id'])['sales_value'].sum().reset_index()).groupby('user_id')['sales_value'].mean().reset_index()\n",
    "avg_basket.columns = ['user_id', 'avg_basket']"
   ]
  },
  {
   "cell_type": "code",
   "execution_count": 113,
   "metadata": {
    "id": "UegYPVDQEAW8"
   },
   "outputs": [],
   "source": [
    "#Среднее кол-во покупок юзера в каждой категории\n",
    "avg_user_qty_per_department = (t_data.groupby(['user_id', 'department'])['quantity'].sum().reset_index()).groupby('user_id')['quantity'].mean().reset_index()\n",
    "avg_user_qty_per_department.columns = ['user_id', 'avg_user_qty_per_department']"
   ]
  },
  {
   "cell_type": "code",
   "execution_count": 114,
   "metadata": {
    "id": "4Dpff-jMEAZJ"
   },
   "outputs": [],
   "source": [
    "# Количество недель после последней покупки юзера\n",
    "last_activity = t_data.groupby(['user_id'])['week_no'].max().reset_index()\n",
    "last_activity.columns = ['user_id', 'inactivity']\n",
    "last_activity['inactivity'] = MAX_WEEK - last_activity['inactivity']"
   ]
  },
  {
   "cell_type": "code",
   "execution_count": 115,
   "metadata": {
    "id": "ophphuuFN54e"
   },
   "outputs": [
    {
     "name": "stderr",
     "output_type": "stream",
     "text": [
      "<ipython-input-115-129824c5fbd6>:2: FutureWarning: Indexing with multiple keys (implicitly converted to a tuple of keys) will be deprecated, use a list instead.\n",
      "  price = t_data.groupby(['item_id'])['sales_value','quantity'].sum().reset_index()\n"
     ]
    }
   ],
   "source": [
    "#цена товара\n",
    "price = t_data.groupby(['item_id'])['sales_value','quantity'].sum().reset_index()\n",
    "price['price'] = price['sales_value']/price['quantity']\n",
    "price.drop(['sales_value','quantity'], axis=1,inplace=True)\n"
   ]
  },
  {
   "cell_type": "code",
   "execution_count": 116,
   "metadata": {
    "id": "65KSo9BgU7EH"
   },
   "outputs": [],
   "source": [
    "# Среднее кол-во покупок 1 товара в категории\n",
    "qty_purch_in_department = (t_data.groupby(['item_id', 'department'])['quantity'].sum().reset_index()).groupby('item_id')['quantity'].mean().reset_index()\n",
    "qty_purch_in_department.columns = ['item_id', 'avg_count_item_dep']"
   ]
  },
  {
   "cell_type": "code",
   "execution_count": 117,
   "metadata": {
    "id": "FJ1ICdWKToEY"
   },
   "outputs": [],
   "source": [
    "items_emb = recommender.items_embedings()\n",
    "users_emb = recommender.user_embedings()"
   ]
  },
  {
   "cell_type": "code",
   "execution_count": 118,
   "metadata": {
    "id": "E_0rYb7QUEYh"
   },
   "outputs": [],
   "source": [
    "df_augm = df_augm.merge(avg_basket, on='user_id',how='left')\n",
    "df_augm = df_augm.merge(avg_user_qty_per_department, on='user_id',how='left')\n",
    "df_augm = df_augm.merge(last_activity, on='user_id',how='left')\n",
    "df_augm = df_augm.merge(user_features, on='user_id', how='left')\n",
    "df_augm = df_augm.merge(users_emb, on='user_id', how='left')"
   ]
  },
  {
   "cell_type": "code",
   "execution_count": 119,
   "metadata": {
    "id": "FzOIBsvoTzvi"
   },
   "outputs": [],
   "source": [
    "df_augm = df_augm.merge(price[['item_id','price']], on='item_id',how='left')\n",
    "df_augm = df_augm.merge(qty_purch_in_department, on='item_id',how='left')\n",
    "df_augm = df_augm.merge(item_features, on='item_id', how='left')\n",
    "df_augm = df_augm.merge(items_emb, on='item_id', how='left')"
   ]
  },
  {
   "cell_type": "code",
   "execution_count": 120,
   "metadata": {
    "colab": {
     "base_uri": "https://localhost:8080/"
    },
    "id": "Hlop6j40Tzx5",
    "outputId": "ce1bea41-49fe-4d34-8342-e0fac9b08e91"
   },
   "outputs": [
    {
     "data": {
      "text/plain": [
       "(112884, 61)"
      ]
     },
     "execution_count": 120,
     "metadata": {},
     "output_type": "execute_result"
    }
   ],
   "source": [
    "df_augm.shape"
   ]
  },
  {
   "cell_type": "code",
   "execution_count": 121,
   "metadata": {
    "colab": {
     "base_uri": "https://localhost:8080/",
     "height": 369
    },
    "id": "ORAzmSWYTz1T",
    "outputId": "75054581-ab97-4e69-dc51-f7b1a98cbb3a"
   },
   "outputs": [
    {
     "data": {
      "text/html": [
       "<div>\n",
       "<style scoped>\n",
       "    .dataframe tbody tr th:only-of-type {\n",
       "        vertical-align: middle;\n",
       "    }\n",
       "\n",
       "    .dataframe tbody tr th {\n",
       "        vertical-align: top;\n",
       "    }\n",
       "\n",
       "    .dataframe thead th {\n",
       "        text-align: right;\n",
       "    }\n",
       "</style>\n",
       "<table border=\"1\" class=\"dataframe\">\n",
       "  <thead>\n",
       "    <tr style=\"text-align: right;\">\n",
       "      <th></th>\n",
       "      <th>user_id</th>\n",
       "      <th>item_id</th>\n",
       "      <th>target</th>\n",
       "      <th>avg_basket</th>\n",
       "      <th>avg_user_qty_per_department</th>\n",
       "      <th>inactivity</th>\n",
       "      <th>age_desc</th>\n",
       "      <th>marital_status_code</th>\n",
       "      <th>income_desc</th>\n",
       "      <th>homeowner_desc</th>\n",
       "      <th>...</th>\n",
       "      <th>item10</th>\n",
       "      <th>item11</th>\n",
       "      <th>item12</th>\n",
       "      <th>item13</th>\n",
       "      <th>item14</th>\n",
       "      <th>item15</th>\n",
       "      <th>item16</th>\n",
       "      <th>item17</th>\n",
       "      <th>item18</th>\n",
       "      <th>item19</th>\n",
       "    </tr>\n",
       "  </thead>\n",
       "  <tbody>\n",
       "    <tr>\n",
       "      <th>0</th>\n",
       "      <td>2070</td>\n",
       "      <td>1082185</td>\n",
       "      <td>1.0</td>\n",
       "      <td>14.355581</td>\n",
       "      <td>1755.0</td>\n",
       "      <td>4</td>\n",
       "      <td>45-54</td>\n",
       "      <td>U</td>\n",
       "      <td>50-74K</td>\n",
       "      <td>Unknown</td>\n",
       "      <td>...</td>\n",
       "      <td>0.016263</td>\n",
       "      <td>0.004875</td>\n",
       "      <td>0.018303</td>\n",
       "      <td>0.018178</td>\n",
       "      <td>0.017284</td>\n",
       "      <td>0.012828</td>\n",
       "      <td>0.010776</td>\n",
       "      <td>0.013405</td>\n",
       "      <td>0.008766</td>\n",
       "      <td>0.026451</td>\n",
       "    </tr>\n",
       "    <tr>\n",
       "      <th>1</th>\n",
       "      <td>2070</td>\n",
       "      <td>1107553</td>\n",
       "      <td>0.0</td>\n",
       "      <td>14.355581</td>\n",
       "      <td>1755.0</td>\n",
       "      <td>4</td>\n",
       "      <td>45-54</td>\n",
       "      <td>U</td>\n",
       "      <td>50-74K</td>\n",
       "      <td>Unknown</td>\n",
       "      <td>...</td>\n",
       "      <td>0.007785</td>\n",
       "      <td>0.006604</td>\n",
       "      <td>-0.007430</td>\n",
       "      <td>0.019037</td>\n",
       "      <td>0.022661</td>\n",
       "      <td>0.000413</td>\n",
       "      <td>0.004594</td>\n",
       "      <td>0.002029</td>\n",
       "      <td>0.012358</td>\n",
       "      <td>-0.003668</td>\n",
       "    </tr>\n",
       "    <tr>\n",
       "      <th>2</th>\n",
       "      <td>2070</td>\n",
       "      <td>1085604</td>\n",
       "      <td>1.0</td>\n",
       "      <td>14.355581</td>\n",
       "      <td>1755.0</td>\n",
       "      <td>4</td>\n",
       "      <td>45-54</td>\n",
       "      <td>U</td>\n",
       "      <td>50-74K</td>\n",
       "      <td>Unknown</td>\n",
       "      <td>...</td>\n",
       "      <td>-0.005059</td>\n",
       "      <td>0.012500</td>\n",
       "      <td>-0.000715</td>\n",
       "      <td>-0.002108</td>\n",
       "      <td>0.014751</td>\n",
       "      <td>-0.002767</td>\n",
       "      <td>0.006061</td>\n",
       "      <td>0.007394</td>\n",
       "      <td>0.010498</td>\n",
       "      <td>-0.002009</td>\n",
       "    </tr>\n",
       "    <tr>\n",
       "      <th>3</th>\n",
       "      <td>2070</td>\n",
       "      <td>879755</td>\n",
       "      <td>0.0</td>\n",
       "      <td>14.355581</td>\n",
       "      <td>1755.0</td>\n",
       "      <td>4</td>\n",
       "      <td>45-54</td>\n",
       "      <td>U</td>\n",
       "      <td>50-74K</td>\n",
       "      <td>Unknown</td>\n",
       "      <td>...</td>\n",
       "      <td>-0.004387</td>\n",
       "      <td>0.007124</td>\n",
       "      <td>0.005094</td>\n",
       "      <td>-0.000011</td>\n",
       "      <td>0.023788</td>\n",
       "      <td>0.003137</td>\n",
       "      <td>0.011089</td>\n",
       "      <td>0.009344</td>\n",
       "      <td>0.003565</td>\n",
       "      <td>-0.002660</td>\n",
       "    </tr>\n",
       "    <tr>\n",
       "      <th>4</th>\n",
       "      <td>2070</td>\n",
       "      <td>844165</td>\n",
       "      <td>0.0</td>\n",
       "      <td>14.355581</td>\n",
       "      <td>1755.0</td>\n",
       "      <td>4</td>\n",
       "      <td>45-54</td>\n",
       "      <td>U</td>\n",
       "      <td>50-74K</td>\n",
       "      <td>Unknown</td>\n",
       "      <td>...</td>\n",
       "      <td>-0.002054</td>\n",
       "      <td>0.010486</td>\n",
       "      <td>0.010291</td>\n",
       "      <td>0.012439</td>\n",
       "      <td>0.019254</td>\n",
       "      <td>-0.005544</td>\n",
       "      <td>0.015886</td>\n",
       "      <td>0.012900</td>\n",
       "      <td>0.002635</td>\n",
       "      <td>-0.000749</td>\n",
       "    </tr>\n",
       "  </tbody>\n",
       "</table>\n",
       "<p>5 rows × 61 columns</p>\n",
       "</div>"
      ],
      "text/plain": [
       "   user_id  item_id  target  avg_basket  avg_user_qty_per_department  \\\n",
       "0     2070  1082185     1.0   14.355581                       1755.0   \n",
       "1     2070  1107553     0.0   14.355581                       1755.0   \n",
       "2     2070  1085604     1.0   14.355581                       1755.0   \n",
       "3     2070   879755     0.0   14.355581                       1755.0   \n",
       "4     2070   844165     0.0   14.355581                       1755.0   \n",
       "\n",
       "   inactivity age_desc marital_status_code income_desc homeowner_desc  ...  \\\n",
       "0           4    45-54                   U      50-74K        Unknown  ...   \n",
       "1           4    45-54                   U      50-74K        Unknown  ...   \n",
       "2           4    45-54                   U      50-74K        Unknown  ...   \n",
       "3           4    45-54                   U      50-74K        Unknown  ...   \n",
       "4           4    45-54                   U      50-74K        Unknown  ...   \n",
       "\n",
       "     item10    item11    item12    item13    item14    item15    item16  \\\n",
       "0  0.016263  0.004875  0.018303  0.018178  0.017284  0.012828  0.010776   \n",
       "1  0.007785  0.006604 -0.007430  0.019037  0.022661  0.000413  0.004594   \n",
       "2 -0.005059  0.012500 -0.000715 -0.002108  0.014751 -0.002767  0.006061   \n",
       "3 -0.004387  0.007124  0.005094 -0.000011  0.023788  0.003137  0.011089   \n",
       "4 -0.002054  0.010486  0.010291  0.012439  0.019254 -0.005544  0.015886   \n",
       "\n",
       "     item17    item18    item19  \n",
       "0  0.013405  0.008766  0.026451  \n",
       "1  0.002029  0.012358 -0.003668  \n",
       "2  0.007394  0.010498 -0.002009  \n",
       "3  0.009344  0.003565 -0.002660  \n",
       "4  0.012900  0.002635 -0.000749  \n",
       "\n",
       "[5 rows x 61 columns]"
      ]
     },
     "execution_count": 121,
     "metadata": {},
     "output_type": "execute_result"
    }
   ],
   "source": [
    "df_augm.head()"
   ]
  },
  {
   "cell_type": "code",
   "execution_count": 122,
   "metadata": {
    "id": "maRDJB3z67uF"
   },
   "outputs": [],
   "source": [
    "targets_lvl_2 = df_augm"
   ]
  },
  {
   "cell_type": "code",
   "execution_count": 123,
   "metadata": {
    "id": "5DNbDvLK7beP"
   },
   "outputs": [],
   "source": [
    "def preprocessing(data):\n",
    "    #Max week\n",
    "    MAX_WEEK = data['week_no'].max()\n",
    "    users_lvl_2 = pd.DataFrame(data['user_id'].unique())\n",
    "    users_lvl_2.columns = ['user_id']\n",
    "\n",
    "    train_users = data_train_lvl_1['user_id'].unique()\n",
    "    users_lvl_2 = users_lvl_2[users_lvl_2['user_id'].isin(train_users)]\n",
    "\n",
    "    users_lvl_2['candidates'] = users_lvl_2['user_id'].apply(lambda x: recommender.get_similar_items_recommendation(x, N=50))\n",
    "    s = users_lvl_2.apply(lambda x: pd.Series(x['candidates']), axis=1).stack().reset_index(level=1, drop=True)\n",
    "    s.name = 'item_id'\n",
    "\n",
    "    users_lvl_2 = users_lvl_2.drop('candidates', axis=1).join(s)\n",
    "    users_lvl_2['flag'] = 1\n",
    "    targets_lvl_2 = data_train_lvl_2[['user_id', 'item_id']].copy()\n",
    "    targets_lvl_2['target'] = 1  # тут только покупки \n",
    "\n",
    "    targets_lvl_2 = users_lvl_2.merge(targets_lvl_2, on=['user_id', 'item_id'], how='left')\n",
    "\n",
    "    targets_lvl_2['target'].fillna(0, inplace= True)\n",
    "    targets_lvl_2.drop('flag', axis=1, inplace=True)\n",
    "\n",
    "    # feature augmenting and combining\n",
    "    t_data = data.copy()\n",
    "    df_augm = targets_lvl_2\n",
    "    t_data = t_data.merge(item_features[['item_id','department']], on='item_id',how='left')\n",
    "    # средний чек на юзера\n",
    "    avg_basket = (t_data.groupby(['user_id', 'basket_id'])['sales_value'].sum().reset_index()).groupby('user_id')['sales_value'].mean().reset_index()\n",
    "    avg_basket.columns = ['user_id', 'avg_basket']\n",
    "    #Среднее кол-во покупок юзера в каждой категории\n",
    "    avg_user_qty_per_department = (t_data.groupby(['user_id', 'department'])['quantity'].sum().reset_index()).groupby('user_id')['quantity'].mean().reset_index()\n",
    "    avg_user_qty_per_department.columns = ['user_id', 'avg_user_qty_per_department']\n",
    "    # Количество недель после последней покупки юзера\n",
    "    last_activity = t_data.groupby(['user_id'])['week_no'].max().reset_index()\n",
    "    last_activity.columns = ['user_id', 'inactivity']\n",
    "    last_activity['inactivity'] = MAX_WEEK - last_activity['inactivity']\n",
    "    #цена товара\n",
    "    price = t_data.groupby(['item_id'])['sales_value','quantity'].sum().reset_index()\n",
    "    price['price'] = price['sales_value']/price['quantity']\n",
    "    price.drop(['sales_value','quantity'], axis=1,inplace=True)\n",
    "    # Среднее кол-во покупок 1 товара в категории\n",
    "    qty_purch_in_department = (t_data.groupby(['item_id', 'department'])['quantity'].sum().reset_index()).groupby('item_id')['quantity'].mean().reset_index()\n",
    "    qty_purch_in_department.columns = ['item_id', 'avg_count_item_dep']\n",
    "\n",
    "    items_emb = recommender.items_embedings()\n",
    "    users_emb = recommender.user_embedings()\n",
    "\n",
    "    df_augm = df_augm.merge(avg_basket, on='user_id',how='left')\n",
    "    df_augm = df_augm.merge(avg_user_qty_per_department, on='user_id',how='left')\n",
    "    df_augm = df_augm.merge(last_activity, on='user_id',how='left')\n",
    "    df_augm = df_augm.merge(user_features, on='user_id', how='left')\n",
    "    df_augm = df_augm.merge(users_emb, on='user_id', how='left')\n",
    "\n",
    "    df_augm = df_augm.merge(price[['item_id','price']], on='item_id',how='left')\n",
    "    df_augm = df_augm.merge(qty_purch_in_department, on='item_id',how='left')\n",
    "    df_augm = df_augm.merge(item_features, on='item_id', how='left')\n",
    "    df_augm = df_augm.merge(items_emb, on='item_id', how='left')\n",
    "\n",
    "    return df_augm"
   ]
  },
  {
   "cell_type": "code",
   "execution_count": 124,
   "metadata": {
    "id": "Bbm1dm4bE2re"
   },
   "outputs": [],
   "source": [
    "cat_feats= ['age_desc', 'marital_status_code', 'income_desc', 'homeowner_desc', 'hh_comp_desc',\n",
    "       'household_size_desc', 'kid_category_desc','manufacturer',\n",
    "       'department', 'brand', 'commodity_desc', 'sub_commodity_desc',\n",
    "       'curr_size_of_product']"
   ]
  },
  {
   "cell_type": "code",
   "execution_count": 125,
   "metadata": {
    "colab": {
     "base_uri": "https://localhost:8080/"
    },
    "id": "nhZcE3UQBr8D",
    "outputId": "63bd68b0-30b6-429a-d0cb-78c8cfcd5b08"
   },
   "outputs": [
    {
     "name": "stderr",
     "output_type": "stream",
     "text": [
      "<ipython-input-123-4b302bc67039>:39: FutureWarning: Indexing with multiple keys (implicitly converted to a tuple of keys) will be deprecated, use a list instead.\n",
      "  price = t_data.groupby(['item_id'])['sales_value','quantity'].sum().reset_index()\n"
     ]
    },
    {
     "data": {
      "text/plain": [
       "(110790, 61)"
      ]
     },
     "execution_count": 125,
     "metadata": {},
     "output_type": "execute_result"
    }
   ],
   "source": [
    "data_lvl_2 = preprocessing(data_train_lvl_2)\n",
    "data_lvl_2.shape"
   ]
  },
  {
   "cell_type": "code",
   "execution_count": 126,
   "metadata": {
    "id": "UX2zC7-ZCaF0"
   },
   "outputs": [],
   "source": [
    "data_lvl_2[cat_feats] = data_lvl_2[cat_feats].astype('category')\n"
   ]
  },
  {
   "cell_type": "code",
   "execution_count": 127,
   "metadata": {
    "colab": {
     "base_uri": "https://localhost:8080/"
    },
    "id": "96o_03aoChb3",
    "outputId": "975c0953-30d7-4a9a-e0fb-3b9f725ed3a9"
   },
   "outputs": [
    {
     "name": "stderr",
     "output_type": "stream",
     "text": [
      "<ipython-input-123-4b302bc67039>:39: FutureWarning: Indexing with multiple keys (implicitly converted to a tuple of keys) will be deprecated, use a list instead.\n",
      "  price = t_data.groupby(['item_id'])['sales_value','quantity'].sum().reset_index()\n"
     ]
    },
    {
     "name": "stdout",
     "output_type": "stream",
     "text": [
      "Wall time: 20.8 s\n"
     ]
    },
    {
     "data": {
      "text/plain": [
       "(105175, 61)"
      ]
     },
     "execution_count": 127,
     "metadata": {},
     "output_type": "execute_result"
    }
   ],
   "source": [
    "%%time\n",
    "data_test_2 = preprocessing(data_val_lvl_2)\n",
    "data_test_2.shape"
   ]
  },
  {
   "cell_type": "code",
   "execution_count": 128,
   "metadata": {
    "id": "pUEniSrTFZib"
   },
   "outputs": [],
   "source": [
    "data_test_2[cat_feats] = data_test_2[cat_feats].astype('category')"
   ]
  },
  {
   "cell_type": "code",
   "execution_count": 129,
   "metadata": {
    "colab": {
     "base_uri": "https://localhost:8080/",
     "height": 211
    },
    "id": "uPKWQDGzChf4",
    "outputId": "b5e70f8a-4296-40be-8a46-ef19ccd01c97"
   },
   "outputs": [
    {
     "data": {
      "text/html": [
       "<div>\n",
       "<style scoped>\n",
       "    .dataframe tbody tr th:only-of-type {\n",
       "        vertical-align: middle;\n",
       "    }\n",
       "\n",
       "    .dataframe tbody tr th {\n",
       "        vertical-align: top;\n",
       "    }\n",
       "\n",
       "    .dataframe thead th {\n",
       "        text-align: right;\n",
       "    }\n",
       "</style>\n",
       "<table border=\"1\" class=\"dataframe\">\n",
       "  <thead>\n",
       "    <tr style=\"text-align: right;\">\n",
       "      <th></th>\n",
       "      <th>user_id</th>\n",
       "      <th>item_id</th>\n",
       "      <th>target</th>\n",
       "      <th>avg_basket</th>\n",
       "      <th>avg_user_qty_per_department</th>\n",
       "      <th>inactivity</th>\n",
       "      <th>age_desc</th>\n",
       "      <th>marital_status_code</th>\n",
       "      <th>income_desc</th>\n",
       "      <th>homeowner_desc</th>\n",
       "      <th>...</th>\n",
       "      <th>item10</th>\n",
       "      <th>item11</th>\n",
       "      <th>item12</th>\n",
       "      <th>item13</th>\n",
       "      <th>item14</th>\n",
       "      <th>item15</th>\n",
       "      <th>item16</th>\n",
       "      <th>item17</th>\n",
       "      <th>item18</th>\n",
       "      <th>item19</th>\n",
       "    </tr>\n",
       "  </thead>\n",
       "  <tbody>\n",
       "    <tr>\n",
       "      <th>0</th>\n",
       "      <td>338</td>\n",
       "      <td>825541</td>\n",
       "      <td>0.0</td>\n",
       "      <td>31.249333</td>\n",
       "      <td>17.777778</td>\n",
       "      <td>0</td>\n",
       "      <td>NaN</td>\n",
       "      <td>NaN</td>\n",
       "      <td>NaN</td>\n",
       "      <td>NaN</td>\n",
       "      <td>...</td>\n",
       "      <td>0.020790</td>\n",
       "      <td>0.000753</td>\n",
       "      <td>0.003201</td>\n",
       "      <td>0.006491</td>\n",
       "      <td>0.001149</td>\n",
       "      <td>0.009943</td>\n",
       "      <td>0.003100</td>\n",
       "      <td>0.003446</td>\n",
       "      <td>0.000391</td>\n",
       "      <td>0.010165</td>\n",
       "    </tr>\n",
       "    <tr>\n",
       "      <th>1</th>\n",
       "      <td>338</td>\n",
       "      <td>1041259</td>\n",
       "      <td>0.0</td>\n",
       "      <td>31.249333</td>\n",
       "      <td>17.777778</td>\n",
       "      <td>0</td>\n",
       "      <td>NaN</td>\n",
       "      <td>NaN</td>\n",
       "      <td>NaN</td>\n",
       "      <td>NaN</td>\n",
       "      <td>...</td>\n",
       "      <td>0.013776</td>\n",
       "      <td>-0.000068</td>\n",
       "      <td>0.002941</td>\n",
       "      <td>0.002281</td>\n",
       "      <td>0.009453</td>\n",
       "      <td>0.006515</td>\n",
       "      <td>0.006137</td>\n",
       "      <td>0.004990</td>\n",
       "      <td>-0.011734</td>\n",
       "      <td>0.002524</td>\n",
       "    </tr>\n",
       "  </tbody>\n",
       "</table>\n",
       "<p>2 rows × 61 columns</p>\n",
       "</div>"
      ],
      "text/plain": [
       "   user_id  item_id  target  avg_basket  avg_user_qty_per_department  \\\n",
       "0      338   825541     0.0   31.249333                    17.777778   \n",
       "1      338  1041259     0.0   31.249333                    17.777778   \n",
       "\n",
       "   inactivity age_desc marital_status_code income_desc homeowner_desc  ...  \\\n",
       "0           0      NaN                 NaN         NaN            NaN  ...   \n",
       "1           0      NaN                 NaN         NaN            NaN  ...   \n",
       "\n",
       "     item10    item11    item12    item13    item14    item15    item16  \\\n",
       "0  0.020790  0.000753  0.003201  0.006491  0.001149  0.009943  0.003100   \n",
       "1  0.013776 -0.000068  0.002941  0.002281  0.009453  0.006515  0.006137   \n",
       "\n",
       "     item17    item18    item19  \n",
       "0  0.003446  0.000391  0.010165  \n",
       "1  0.004990 -0.011734  0.002524  \n",
       "\n",
       "[2 rows x 61 columns]"
      ]
     },
     "execution_count": 129,
     "metadata": {},
     "output_type": "execute_result"
    }
   ],
   "source": [
    "data_test_2.head(2)"
   ]
  },
  {
   "cell_type": "code",
   "execution_count": 130,
   "metadata": {
    "colab": {
     "base_uri": "https://localhost:8080/",
     "height": 575
    },
    "id": "OCynPYlAKv5u",
    "outputId": "8ebd6268-2f01-40de-82d4-d81171cd8140"
   },
   "outputs": [
    {
     "data": {
      "text/html": [
       "<div>\n",
       "<style scoped>\n",
       "    .dataframe tbody tr th:only-of-type {\n",
       "        vertical-align: middle;\n",
       "    }\n",
       "\n",
       "    .dataframe tbody tr th {\n",
       "        vertical-align: top;\n",
       "    }\n",
       "\n",
       "    .dataframe thead th {\n",
       "        text-align: right;\n",
       "    }\n",
       "</style>\n",
       "<table border=\"1\" class=\"dataframe\">\n",
       "  <thead>\n",
       "    <tr style=\"text-align: right;\">\n",
       "      <th></th>\n",
       "      <th>user_id</th>\n",
       "      <th>item_id</th>\n",
       "      <th>target</th>\n",
       "      <th>avg_basket</th>\n",
       "      <th>avg_user_qty_per_department</th>\n",
       "      <th>inactivity</th>\n",
       "      <th>age_desc</th>\n",
       "      <th>marital_status_code</th>\n",
       "      <th>income_desc</th>\n",
       "      <th>homeowner_desc</th>\n",
       "      <th>...</th>\n",
       "      <th>item10</th>\n",
       "      <th>item11</th>\n",
       "      <th>item12</th>\n",
       "      <th>item13</th>\n",
       "      <th>item14</th>\n",
       "      <th>item15</th>\n",
       "      <th>item16</th>\n",
       "      <th>item17</th>\n",
       "      <th>item18</th>\n",
       "      <th>item19</th>\n",
       "    </tr>\n",
       "  </thead>\n",
       "  <tbody>\n",
       "    <tr>\n",
       "      <th>0</th>\n",
       "      <td>338</td>\n",
       "      <td>825541</td>\n",
       "      <td>0.0</td>\n",
       "      <td>31.249333</td>\n",
       "      <td>17.777778</td>\n",
       "      <td>0</td>\n",
       "      <td>NaN</td>\n",
       "      <td>NaN</td>\n",
       "      <td>NaN</td>\n",
       "      <td>NaN</td>\n",
       "      <td>...</td>\n",
       "      <td>0.020790</td>\n",
       "      <td>0.000753</td>\n",
       "      <td>0.003201</td>\n",
       "      <td>0.006491</td>\n",
       "      <td>0.001149</td>\n",
       "      <td>0.009943</td>\n",
       "      <td>0.003100</td>\n",
       "      <td>0.003446</td>\n",
       "      <td>0.000391</td>\n",
       "      <td>0.010165</td>\n",
       "    </tr>\n",
       "    <tr>\n",
       "      <th>1</th>\n",
       "      <td>338</td>\n",
       "      <td>1041259</td>\n",
       "      <td>0.0</td>\n",
       "      <td>31.249333</td>\n",
       "      <td>17.777778</td>\n",
       "      <td>0</td>\n",
       "      <td>NaN</td>\n",
       "      <td>NaN</td>\n",
       "      <td>NaN</td>\n",
       "      <td>NaN</td>\n",
       "      <td>...</td>\n",
       "      <td>0.013776</td>\n",
       "      <td>-0.000068</td>\n",
       "      <td>0.002941</td>\n",
       "      <td>0.002281</td>\n",
       "      <td>0.009453</td>\n",
       "      <td>0.006515</td>\n",
       "      <td>0.006137</td>\n",
       "      <td>0.004990</td>\n",
       "      <td>-0.011734</td>\n",
       "      <td>0.002524</td>\n",
       "    </tr>\n",
       "    <tr>\n",
       "      <th>2</th>\n",
       "      <td>338</td>\n",
       "      <td>999999</td>\n",
       "      <td>0.0</td>\n",
       "      <td>31.249333</td>\n",
       "      <td>17.777778</td>\n",
       "      <td>0</td>\n",
       "      <td>NaN</td>\n",
       "      <td>NaN</td>\n",
       "      <td>NaN</td>\n",
       "      <td>NaN</td>\n",
       "      <td>...</td>\n",
       "      <td>0.012894</td>\n",
       "      <td>0.012746</td>\n",
       "      <td>0.019134</td>\n",
       "      <td>0.026457</td>\n",
       "      <td>0.019328</td>\n",
       "      <td>0.012612</td>\n",
       "      <td>0.015685</td>\n",
       "      <td>0.020780</td>\n",
       "      <td>0.012358</td>\n",
       "      <td>0.021689</td>\n",
       "    </tr>\n",
       "    <tr>\n",
       "      <th>3</th>\n",
       "      <td>338</td>\n",
       "      <td>930603</td>\n",
       "      <td>0.0</td>\n",
       "      <td>31.249333</td>\n",
       "      <td>17.777778</td>\n",
       "      <td>0</td>\n",
       "      <td>NaN</td>\n",
       "      <td>NaN</td>\n",
       "      <td>NaN</td>\n",
       "      <td>NaN</td>\n",
       "      <td>...</td>\n",
       "      <td>0.018984</td>\n",
       "      <td>0.002257</td>\n",
       "      <td>0.000400</td>\n",
       "      <td>0.005708</td>\n",
       "      <td>0.003646</td>\n",
       "      <td>0.008600</td>\n",
       "      <td>0.009417</td>\n",
       "      <td>0.000598</td>\n",
       "      <td>0.001112</td>\n",
       "      <td>0.010342</td>\n",
       "    </tr>\n",
       "    <tr>\n",
       "      <th>4</th>\n",
       "      <td>338</td>\n",
       "      <td>995785</td>\n",
       "      <td>0.0</td>\n",
       "      <td>31.249333</td>\n",
       "      <td>17.777778</td>\n",
       "      <td>0</td>\n",
       "      <td>NaN</td>\n",
       "      <td>NaN</td>\n",
       "      <td>NaN</td>\n",
       "      <td>NaN</td>\n",
       "      <td>...</td>\n",
       "      <td>0.018001</td>\n",
       "      <td>0.007041</td>\n",
       "      <td>0.013621</td>\n",
       "      <td>0.009948</td>\n",
       "      <td>0.003298</td>\n",
       "      <td>0.012808</td>\n",
       "      <td>0.019093</td>\n",
       "      <td>0.007730</td>\n",
       "      <td>0.007261</td>\n",
       "      <td>0.018080</td>\n",
       "    </tr>\n",
       "    <tr>\n",
       "      <th>...</th>\n",
       "      <td>...</td>\n",
       "      <td>...</td>\n",
       "      <td>...</td>\n",
       "      <td>...</td>\n",
       "      <td>...</td>\n",
       "      <td>...</td>\n",
       "      <td>...</td>\n",
       "      <td>...</td>\n",
       "      <td>...</td>\n",
       "      <td>...</td>\n",
       "      <td>...</td>\n",
       "      <td>...</td>\n",
       "      <td>...</td>\n",
       "      <td>...</td>\n",
       "      <td>...</td>\n",
       "      <td>...</td>\n",
       "      <td>...</td>\n",
       "      <td>...</td>\n",
       "      <td>...</td>\n",
       "      <td>...</td>\n",
       "      <td>...</td>\n",
       "    </tr>\n",
       "    <tr>\n",
       "      <th>105170</th>\n",
       "      <td>832</td>\n",
       "      <td>950894</td>\n",
       "      <td>0.0</td>\n",
       "      <td>30.740000</td>\n",
       "      <td>5.333333</td>\n",
       "      <td>0</td>\n",
       "      <td>NaN</td>\n",
       "      <td>NaN</td>\n",
       "      <td>NaN</td>\n",
       "      <td>NaN</td>\n",
       "      <td>...</td>\n",
       "      <td>0.005473</td>\n",
       "      <td>0.002213</td>\n",
       "      <td>0.013172</td>\n",
       "      <td>0.008284</td>\n",
       "      <td>0.010178</td>\n",
       "      <td>-0.000677</td>\n",
       "      <td>0.009946</td>\n",
       "      <td>0.006324</td>\n",
       "      <td>0.008090</td>\n",
       "      <td>0.000063</td>\n",
       "    </tr>\n",
       "    <tr>\n",
       "      <th>105171</th>\n",
       "      <td>832</td>\n",
       "      <td>831628</td>\n",
       "      <td>0.0</td>\n",
       "      <td>30.740000</td>\n",
       "      <td>5.333333</td>\n",
       "      <td>0</td>\n",
       "      <td>NaN</td>\n",
       "      <td>NaN</td>\n",
       "      <td>NaN</td>\n",
       "      <td>NaN</td>\n",
       "      <td>...</td>\n",
       "      <td>0.017119</td>\n",
       "      <td>0.007072</td>\n",
       "      <td>0.003028</td>\n",
       "      <td>-0.006057</td>\n",
       "      <td>0.011859</td>\n",
       "      <td>0.007613</td>\n",
       "      <td>0.013201</td>\n",
       "      <td>0.008140</td>\n",
       "      <td>-0.001519</td>\n",
       "      <td>0.012809</td>\n",
       "    </tr>\n",
       "    <tr>\n",
       "      <th>105172</th>\n",
       "      <td>832</td>\n",
       "      <td>9526757</td>\n",
       "      <td>0.0</td>\n",
       "      <td>30.740000</td>\n",
       "      <td>5.333333</td>\n",
       "      <td>0</td>\n",
       "      <td>NaN</td>\n",
       "      <td>NaN</td>\n",
       "      <td>NaN</td>\n",
       "      <td>NaN</td>\n",
       "      <td>...</td>\n",
       "      <td>0.007468</td>\n",
       "      <td>0.004817</td>\n",
       "      <td>0.011809</td>\n",
       "      <td>0.002766</td>\n",
       "      <td>0.014223</td>\n",
       "      <td>0.001093</td>\n",
       "      <td>-0.000729</td>\n",
       "      <td>0.006975</td>\n",
       "      <td>0.001153</td>\n",
       "      <td>0.001175</td>\n",
       "    </tr>\n",
       "    <tr>\n",
       "      <th>105173</th>\n",
       "      <td>832</td>\n",
       "      <td>1070820</td>\n",
       "      <td>0.0</td>\n",
       "      <td>30.740000</td>\n",
       "      <td>5.333333</td>\n",
       "      <td>0</td>\n",
       "      <td>NaN</td>\n",
       "      <td>NaN</td>\n",
       "      <td>NaN</td>\n",
       "      <td>NaN</td>\n",
       "      <td>...</td>\n",
       "      <td>0.015168</td>\n",
       "      <td>0.001780</td>\n",
       "      <td>0.006407</td>\n",
       "      <td>0.013054</td>\n",
       "      <td>0.003679</td>\n",
       "      <td>0.006869</td>\n",
       "      <td>-0.003436</td>\n",
       "      <td>0.000867</td>\n",
       "      <td>0.008752</td>\n",
       "      <td>0.009875</td>\n",
       "    </tr>\n",
       "    <tr>\n",
       "      <th>105174</th>\n",
       "      <td>832</td>\n",
       "      <td>6039859</td>\n",
       "      <td>0.0</td>\n",
       "      <td>30.740000</td>\n",
       "      <td>5.333333</td>\n",
       "      <td>0</td>\n",
       "      <td>NaN</td>\n",
       "      <td>NaN</td>\n",
       "      <td>NaN</td>\n",
       "      <td>NaN</td>\n",
       "      <td>...</td>\n",
       "      <td>0.001325</td>\n",
       "      <td>0.001967</td>\n",
       "      <td>0.001750</td>\n",
       "      <td>-0.001611</td>\n",
       "      <td>0.005494</td>\n",
       "      <td>0.001403</td>\n",
       "      <td>0.001000</td>\n",
       "      <td>-0.000351</td>\n",
       "      <td>0.006212</td>\n",
       "      <td>0.013065</td>\n",
       "    </tr>\n",
       "  </tbody>\n",
       "</table>\n",
       "<p>105175 rows × 61 columns</p>\n",
       "</div>"
      ],
      "text/plain": [
       "        user_id  item_id  target  avg_basket  avg_user_qty_per_department  \\\n",
       "0           338   825541     0.0   31.249333                    17.777778   \n",
       "1           338  1041259     0.0   31.249333                    17.777778   \n",
       "2           338   999999     0.0   31.249333                    17.777778   \n",
       "3           338   930603     0.0   31.249333                    17.777778   \n",
       "4           338   995785     0.0   31.249333                    17.777778   \n",
       "...         ...      ...     ...         ...                          ...   \n",
       "105170      832   950894     0.0   30.740000                     5.333333   \n",
       "105171      832   831628     0.0   30.740000                     5.333333   \n",
       "105172      832  9526757     0.0   30.740000                     5.333333   \n",
       "105173      832  1070820     0.0   30.740000                     5.333333   \n",
       "105174      832  6039859     0.0   30.740000                     5.333333   \n",
       "\n",
       "        inactivity age_desc marital_status_code income_desc homeowner_desc  \\\n",
       "0                0      NaN                 NaN         NaN            NaN   \n",
       "1                0      NaN                 NaN         NaN            NaN   \n",
       "2                0      NaN                 NaN         NaN            NaN   \n",
       "3                0      NaN                 NaN         NaN            NaN   \n",
       "4                0      NaN                 NaN         NaN            NaN   \n",
       "...            ...      ...                 ...         ...            ...   \n",
       "105170           0      NaN                 NaN         NaN            NaN   \n",
       "105171           0      NaN                 NaN         NaN            NaN   \n",
       "105172           0      NaN                 NaN         NaN            NaN   \n",
       "105173           0      NaN                 NaN         NaN            NaN   \n",
       "105174           0      NaN                 NaN         NaN            NaN   \n",
       "\n",
       "        ...    item10    item11    item12    item13    item14    item15  \\\n",
       "0       ...  0.020790  0.000753  0.003201  0.006491  0.001149  0.009943   \n",
       "1       ...  0.013776 -0.000068  0.002941  0.002281  0.009453  0.006515   \n",
       "2       ...  0.012894  0.012746  0.019134  0.026457  0.019328  0.012612   \n",
       "3       ...  0.018984  0.002257  0.000400  0.005708  0.003646  0.008600   \n",
       "4       ...  0.018001  0.007041  0.013621  0.009948  0.003298  0.012808   \n",
       "...     ...       ...       ...       ...       ...       ...       ...   \n",
       "105170  ...  0.005473  0.002213  0.013172  0.008284  0.010178 -0.000677   \n",
       "105171  ...  0.017119  0.007072  0.003028 -0.006057  0.011859  0.007613   \n",
       "105172  ...  0.007468  0.004817  0.011809  0.002766  0.014223  0.001093   \n",
       "105173  ...  0.015168  0.001780  0.006407  0.013054  0.003679  0.006869   \n",
       "105174  ...  0.001325  0.001967  0.001750 -0.001611  0.005494  0.001403   \n",
       "\n",
       "          item16    item17    item18    item19  \n",
       "0       0.003100  0.003446  0.000391  0.010165  \n",
       "1       0.006137  0.004990 -0.011734  0.002524  \n",
       "2       0.015685  0.020780  0.012358  0.021689  \n",
       "3       0.009417  0.000598  0.001112  0.010342  \n",
       "4       0.019093  0.007730  0.007261  0.018080  \n",
       "...          ...       ...       ...       ...  \n",
       "105170  0.009946  0.006324  0.008090  0.000063  \n",
       "105171  0.013201  0.008140 -0.001519  0.012809  \n",
       "105172 -0.000729  0.006975  0.001153  0.001175  \n",
       "105173 -0.003436  0.000867  0.008752  0.009875  \n",
       "105174  0.001000 -0.000351  0.006212  0.013065  \n",
       "\n",
       "[105175 rows x 61 columns]"
      ]
     },
     "execution_count": 130,
     "metadata": {},
     "output_type": "execute_result"
    }
   ],
   "source": [
    "data_test_2"
   ]
  },
  {
   "cell_type": "code",
   "execution_count": 131,
   "metadata": {
    "id": "FwpwCPTaIP6R"
   },
   "outputs": [],
   "source": [
    "def get_recomendations(test_data, test_preds, data_val_lvl_2):\n",
    "    test_data['predict'] = test_preds\n",
    "\n",
    "    test_data.sort_values(['user_id', 'predict'], ascending=False, inplace=True)\n",
    "\n",
    "    result = test_data.groupby('user_id').head(5)\n",
    "\n",
    "    recs = result.groupby('user_id')['item_id']\n",
    "    recomendations = []\n",
    "    for user, preds in recs:\n",
    "        recomendations.append({'user_id': user, 'recomendations': preds.tolist()})\n",
    "\n",
    "    recomendations = pd.DataFrame(recomendations)\n",
    "\n",
    "    result_lvl_2 = data_val_lvl_2.groupby('user_id')['item_id'].unique().reset_index()\n",
    "    result_lvl_2.columns=['user_id', 'actual']\n",
    "\n",
    "    result_lvl_2 = result_lvl_2.merge(recomendations)\n",
    "    \n",
    "    return result_lvl_2"
   ]
  },
  {
   "cell_type": "code",
   "execution_count": 132,
   "metadata": {
    "colab": {
     "base_uri": "https://localhost:8080/"
    },
    "id": "47Mv4-DdbFjc",
    "outputId": "16d718a7-2cad-46fe-ecee-5f6eb136dfd6"
   },
   "outputs": [
    {
     "data": {
      "text/plain": [
       "Index(['user_id', 'item_id', 'target', 'avg_basket',\n",
       "       'avg_user_qty_per_department', 'inactivity', 'age_desc',\n",
       "       'marital_status_code', 'income_desc', 'homeowner_desc', 'hh_comp_desc',\n",
       "       'household_size_desc', 'kid_category_desc', 'user0', 'user1', 'user2',\n",
       "       'user3', 'user4', 'user5', 'user6', 'user7', 'user8', 'user9', 'user10',\n",
       "       'user11', 'user12', 'user13', 'user14', 'user15', 'user16', 'user17',\n",
       "       'user18', 'user19', 'price', 'avg_count_item_dep', 'manufacturer',\n",
       "       'department', 'brand', 'commodity_desc', 'sub_commodity_desc',\n",
       "       'curr_size_of_product', 'item0', 'item1', 'item2', 'item3', 'item4',\n",
       "       'item5', 'item6', 'item7', 'item8', 'item9', 'item10', 'item11',\n",
       "       'item12', 'item13', 'item14', 'item15', 'item16', 'item17', 'item18',\n",
       "       'item19'],\n",
       "      dtype='object')"
      ]
     },
     "execution_count": 132,
     "metadata": {},
     "output_type": "execute_result"
    }
   ],
   "source": [
    "data_lvl_2.columns"
   ]
  },
  {
   "cell_type": "code",
   "execution_count": 133,
   "metadata": {
    "id": "iAiq9PmL9SuW"
   },
   "outputs": [],
   "source": [
    "X_train = data_lvl_2.drop(['user_id', 'item_id','target'], axis=1)\n",
    "y_train = data_lvl_2[['target']]"
   ]
  },
  {
   "cell_type": "code",
   "execution_count": 134,
   "metadata": {
    "colab": {
     "base_uri": "https://localhost:8080/"
    },
    "id": "5dKC0skS9SuX",
    "outputId": "aebaf849-b03e-4b21-9828-f729ba7ca31d"
   },
   "outputs": [
    {
     "name": "stderr",
     "output_type": "stream",
     "text": [
      "C:\\Anaconda\\lib\\site-packages\\sklearn\\utils\\validation.py:63: DataConversionWarning: A column-vector y was passed when a 1d array was expected. Please change the shape of y to (n_samples, ), for example using ravel().\n",
      "  return f(*args, **kwargs)\n",
      "C:\\Anaconda\\lib\\site-packages\\lightgbm\\basic.py:863: UserWarning: categorical_column in param dict is overridden.\n",
      "  warnings.warn('{} in param dict is overridden.'.format(cat_alias))\n"
     ]
    },
    {
     "name": "stdout",
     "output_type": "stream",
     "text": [
      "Wall time: 4.02 s\n"
     ]
    }
   ],
   "source": [
    "%%time\n",
    "lgb = LGBMClassifier(objective='binary', max_depth=7, categorical_column=cat_feats)\n",
    "lgb.fit(X_train, y_train)\n",
    "\n",
    "train_preds = lgb.predict(X_train)"
   ]
  },
  {
   "cell_type": "code",
   "execution_count": 135,
   "metadata": {
    "colab": {
     "base_uri": "https://localhost:8080/"
    },
    "id": "rd3w6CynMeH6",
    "outputId": "28d9d27d-3270-4140-d10f-8f8fa07944f5"
   },
   "outputs": [
    {
     "data": {
      "text/plain": [
       "array([0., 1., 0., ..., 0., 0., 0.])"
      ]
     },
     "execution_count": 135,
     "metadata": {},
     "output_type": "execute_result"
    }
   ],
   "source": [
    "train_preds"
   ]
  },
  {
   "cell_type": "markdown",
   "metadata": {
    "id": "67fixzk59SuX"
   },
   "source": [
    "Берем топ-k предсказаний, ранжированных по вероятности, для каждого юзера"
   ]
  },
  {
   "cell_type": "code",
   "execution_count": 136,
   "metadata": {
    "colab": {
     "base_uri": "https://localhost:8080/"
    },
    "id": "klueOvX33j44",
    "outputId": "98b3a46e-c638-4234-9d19-1d435122dc1a"
   },
   "outputs": [
    {
     "data": {
      "text/plain": [
       "0.03924541926166621"
      ]
     },
     "execution_count": 136,
     "metadata": {},
     "output_type": "execute_result"
    }
   ],
   "source": [
    "train_preds.mean()"
   ]
  },
  {
   "cell_type": "code",
   "execution_count": 137,
   "metadata": {
    "colab": {
     "base_uri": "https://localhost:8080/"
    },
    "id": "TcXQ6hm63m2G",
    "outputId": "d9d13297-8859-4521-855d-1de33a474d44"
   },
   "outputs": [
    {
     "data": {
      "text/plain": [
       "110790"
      ]
     },
     "execution_count": 137,
     "metadata": {},
     "output_type": "execute_result"
    }
   ],
   "source": [
    "len(train_preds)"
   ]
  },
  {
   "cell_type": "code",
   "execution_count": 138,
   "metadata": {
    "id": "2cO8wv5z3uZh"
   },
   "outputs": [],
   "source": [
    "X_train['preds'] = train_preds"
   ]
  },
  {
   "cell_type": "code",
   "execution_count": 139,
   "metadata": {
    "id": "JgctkPVoj5AH"
   },
   "outputs": [],
   "source": [
    "X_train[['user_id', 'item_id','target']] = targets_lvl_2[['user_id', 'item_id','target']]\n"
   ]
  },
  {
   "cell_type": "code",
   "execution_count": 140,
   "metadata": {
    "colab": {
     "base_uri": "https://localhost:8080/"
    },
    "id": "LdT0UBLN31o1",
    "outputId": "da01931b-0cb7-4a7a-cff2-0be8cd953d54"
   },
   "outputs": [
    {
     "data": {
      "text/plain": [
       "864"
      ]
     },
     "execution_count": 140,
     "metadata": {},
     "output_type": "execute_result"
    }
   ],
   "source": [
    "X_train[X_train.preds == 1]['user_id'].nunique()"
   ]
  },
  {
   "cell_type": "code",
   "execution_count": 141,
   "metadata": {
    "colab": {
     "base_uri": "https://localhost:8080/"
    },
    "id": "7nsJtKSZ35bD",
    "outputId": "8029d01d-2ae0-4491-e49f-e14b0aa1b1fa"
   },
   "outputs": [
    {
     "data": {
      "text/plain": [
       "2111"
      ]
     },
     "execution_count": 141,
     "metadata": {},
     "output_type": "execute_result"
    }
   ],
   "source": [
    "X_train['user_id'].nunique()"
   ]
  },
  {
   "cell_type": "code",
   "execution_count": 142,
   "metadata": {
    "id": "N3ZakEyJqZeI"
   },
   "outputs": [],
   "source": [
    "X_test = data_lvl_2.drop(['target'], axis=1)"
   ]
  },
  {
   "cell_type": "code",
   "execution_count": 143,
   "metadata": {
    "id": "th7bhOW6qZgU"
   },
   "outputs": [],
   "source": [
    "lgb_test_pred = lgb.predict_proba(X_test.drop(['user_id','item_id'],axis=1))[:,1]"
   ]
  },
  {
   "cell_type": "code",
   "execution_count": 144,
   "metadata": {
    "colab": {
     "base_uri": "https://localhost:8080/"
    },
    "id": "EvSUunVQqZjj",
    "outputId": "7fec032f-4e26-409d-ba6e-f60edc393bb0"
   },
   "outputs": [
    {
     "data": {
      "text/plain": [
       "0         0.157140\n",
       "1         0.631722\n",
       "2         0.053971\n",
       "3         0.166427\n",
       "4         0.078078\n",
       "            ...   \n",
       "110785    0.016575\n",
       "110786    0.007284\n",
       "110787    0.011959\n",
       "110788    0.000814\n",
       "110789    0.002817\n",
       "Name: predict, Length: 110790, dtype: float64"
      ]
     },
     "execution_count": 144,
     "metadata": {},
     "output_type": "execute_result"
    }
   ],
   "source": [
    "X_test['predict'] = lgb.predict_proba(X_test.drop(['user_id','item_id'],axis=1))[:,1]\n",
    "X_test['predict']"
   ]
  },
  {
   "cell_type": "code",
   "execution_count": 145,
   "metadata": {
    "colab": {
     "base_uri": "https://localhost:8080/",
     "height": 424
    },
    "id": "njcKkgKHrf92",
    "outputId": "60f856a2-ba20-4eb7-fdd8-90eeebc655d8"
   },
   "outputs": [
    {
     "data": {
      "text/html": [
       "<div>\n",
       "<style scoped>\n",
       "    .dataframe tbody tr th:only-of-type {\n",
       "        vertical-align: middle;\n",
       "    }\n",
       "\n",
       "    .dataframe tbody tr th {\n",
       "        vertical-align: top;\n",
       "    }\n",
       "\n",
       "    .dataframe thead th {\n",
       "        text-align: right;\n",
       "    }\n",
       "</style>\n",
       "<table border=\"1\" class=\"dataframe\">\n",
       "  <thead>\n",
       "    <tr style=\"text-align: right;\">\n",
       "      <th></th>\n",
       "      <th>user_id</th>\n",
       "      <th>actual</th>\n",
       "      <th>recomendations</th>\n",
       "    </tr>\n",
       "  </thead>\n",
       "  <tbody>\n",
       "    <tr>\n",
       "      <th>0</th>\n",
       "      <td>1</td>\n",
       "      <td>[821867, 834484, 856942, 865456, 889248, 90795...</td>\n",
       "      <td>[979707, 9297615, 9297615, 5577022, 981760]</td>\n",
       "    </tr>\n",
       "    <tr>\n",
       "      <th>1</th>\n",
       "      <td>6</td>\n",
       "      <td>[920308, 926804, 946489, 1006718, 1017061, 107...</td>\n",
       "      <td>[1070820, 1037863, 1037863, 1037863, 970030]</td>\n",
       "    </tr>\n",
       "    <tr>\n",
       "      <th>2</th>\n",
       "      <td>7</td>\n",
       "      <td>[840386, 889774, 898068, 909714, 929067, 95347...</td>\n",
       "      <td>[1106523, 1133018, 1058997, 1096036, 1019247]</td>\n",
       "    </tr>\n",
       "    <tr>\n",
       "      <th>3</th>\n",
       "      <td>8</td>\n",
       "      <td>[835098, 872137, 910439, 924610, 992977, 10412...</td>\n",
       "      <td>[1106523, 1133018, 981760, 1044078, 1092026]</td>\n",
       "    </tr>\n",
       "    <tr>\n",
       "      <th>4</th>\n",
       "      <td>9</td>\n",
       "      <td>[864335, 990865, 1029743, 9297474, 10457112, 8...</td>\n",
       "      <td>[1126899, 862349, 994928, 849843, 826249]</td>\n",
       "    </tr>\n",
       "    <tr>\n",
       "      <th>...</th>\n",
       "      <td>...</td>\n",
       "      <td>...</td>\n",
       "      <td>...</td>\n",
       "    </tr>\n",
       "    <tr>\n",
       "      <th>1910</th>\n",
       "      <td>2496</td>\n",
       "      <td>[6534178]</td>\n",
       "      <td>[1106523, 1106523, 995785, 1133018, 826249]</td>\n",
       "    </tr>\n",
       "    <tr>\n",
       "      <th>1911</th>\n",
       "      <td>2497</td>\n",
       "      <td>[1016709, 9835695, 1132298, 16809501, 845294, ...</td>\n",
       "      <td>[1055646, 995785, 995785, 981760, 899624]</td>\n",
       "    </tr>\n",
       "    <tr>\n",
       "      <th>1912</th>\n",
       "      <td>2498</td>\n",
       "      <td>[15716530, 834484, 901776, 914190, 958382, 972...</td>\n",
       "      <td>[1126899, 979707, 1133018, 1058997, 879755]</td>\n",
       "    </tr>\n",
       "    <tr>\n",
       "      <th>1913</th>\n",
       "      <td>2499</td>\n",
       "      <td>[867188, 877580, 902396, 914190, 951590, 95813...</td>\n",
       "      <td>[1126899, 899624, 5568378, 5568378, 5568378]</td>\n",
       "    </tr>\n",
       "    <tr>\n",
       "      <th>1914</th>\n",
       "      <td>2500</td>\n",
       "      <td>[852182, 856345, 923746, 948670, 1018007, 1044...</td>\n",
       "      <td>[979707, 1126899, 1058997, 1058997, 826249]</td>\n",
       "    </tr>\n",
       "  </tbody>\n",
       "</table>\n",
       "<p>1915 rows × 3 columns</p>\n",
       "</div>"
      ],
      "text/plain": [
       "      user_id                                             actual  \\\n",
       "0           1  [821867, 834484, 856942, 865456, 889248, 90795...   \n",
       "1           6  [920308, 926804, 946489, 1006718, 1017061, 107...   \n",
       "2           7  [840386, 889774, 898068, 909714, 929067, 95347...   \n",
       "3           8  [835098, 872137, 910439, 924610, 992977, 10412...   \n",
       "4           9  [864335, 990865, 1029743, 9297474, 10457112, 8...   \n",
       "...       ...                                                ...   \n",
       "1910     2496                                          [6534178]   \n",
       "1911     2497  [1016709, 9835695, 1132298, 16809501, 845294, ...   \n",
       "1912     2498  [15716530, 834484, 901776, 914190, 958382, 972...   \n",
       "1913     2499  [867188, 877580, 902396, 914190, 951590, 95813...   \n",
       "1914     2500  [852182, 856345, 923746, 948670, 1018007, 1044...   \n",
       "\n",
       "                                     recomendations  \n",
       "0       [979707, 9297615, 9297615, 5577022, 981760]  \n",
       "1      [1070820, 1037863, 1037863, 1037863, 970030]  \n",
       "2     [1106523, 1133018, 1058997, 1096036, 1019247]  \n",
       "3      [1106523, 1133018, 981760, 1044078, 1092026]  \n",
       "4         [1126899, 862349, 994928, 849843, 826249]  \n",
       "...                                             ...  \n",
       "1910    [1106523, 1106523, 995785, 1133018, 826249]  \n",
       "1911      [1055646, 995785, 995785, 981760, 899624]  \n",
       "1912    [1126899, 979707, 1133018, 1058997, 879755]  \n",
       "1913   [1126899, 899624, 5568378, 5568378, 5568378]  \n",
       "1914    [979707, 1126899, 1058997, 1058997, 826249]  \n",
       "\n",
       "[1915 rows x 3 columns]"
      ]
     },
     "execution_count": 145,
     "metadata": {},
     "output_type": "execute_result"
    }
   ],
   "source": [
    "result_test_1 = get_recomendations(X_test, lgb_test_pred, data_val_lvl_2)\n",
    "result_test_1"
   ]
  },
  {
   "cell_type": "code",
   "execution_count": 146,
   "metadata": {
    "colab": {
     "base_uri": "https://localhost:8080/"
    },
    "id": "yB5oeVBErgqP",
    "outputId": "90126cd7-bf69-4029-9859-d10a450cbfbf"
   },
   "outputs": [
    {
     "data": {
      "text/plain": [
       "0.1470496083550898"
      ]
     },
     "execution_count": 146,
     "metadata": {},
     "output_type": "execute_result"
    }
   ],
   "source": [
    "result_test_1.apply(lambda row: precision_at_k(row['recomendations'], row['actual'], k=5), axis=1).mean()"
   ]
  },
  {
   "cell_type": "markdown",
   "metadata": {
    "id": "hzAq5jn9TkcM"
   },
   "source": [
    "LAMA как вторая модель"
   ]
  },
  {
   "cell_type": "code",
   "execution_count": 158,
   "metadata": {
    "id": "CucAhYqRlPwh"
   },
   "outputs": [],
   "source": [
    "TASK = Task('reg', loss='mse', metric=mean_quantile_error, greater_is_better=False)\n",
    "TIMEOUT = 100\n",
    "N_THREADS = 4\n",
    "MEMORY_LIMIT = 7\n",
    "N_FOLDS = 5\n",
    "RANDOM_STATE = 21\n",
    "TARGET_NAME = 'target'\n",
    "TEST_SIZE=0.2"
   ]
  },
  {
   "cell_type": "code",
   "execution_count": 159,
   "metadata": {
    "id": "EpQimM5hUeo-"
   },
   "outputs": [],
   "source": [
    "roles = {'target': TARGET_NAME, 'drop': ['user_id', 'item_id']}"
   ]
  },
  {
   "cell_type": "code",
   "execution_count": 160,
   "metadata": {
    "id": "McCx64vDUerE"
   },
   "outputs": [],
   "source": [
    "lama_model = TabularAutoML(task=TASK,\n",
    "                            timeout=TIMEOUT,\n",
    "                            cpu_limit = N_THREADS,\n",
    "                            memory_limit = MEMORY_LIMIT,\n",
    "                            gpu_ids='all',\n",
    "                            reader_params = {'n_jobs': N_THREADS, 'cv': N_FOLDS, 'random_state': RANDOM_STATE},\n",
    "                             \n",
    "                            general_params={'use_algos': [ ['lgb_tuned', 'cb_tuned','xgb'], ['lgb_tuned'] ]},\n",
    "                             \n",
    "                            tuning_params={'max_tuning_iter': 15},\n",
    ")"
   ]
  },
  {
   "cell_type": "code",
   "execution_count": 161,
   "metadata": {
    "colab": {
     "base_uri": "https://localhost:8080/",
     "height": 342
    },
    "id": "Y7YHys44Ueu_",
    "outputId": "6157effa-6453-464b-e2d6-6bc2c8ff253f"
   },
   "outputs": [
    {
     "name": "stderr",
     "output_type": "stream",
     "text": [
      "INFO:optuna.storages._in_memory:A new study created in memory with name: no-name-6bc4d226-8764-4b40-89a7-968b99d3eb54\n",
      "INFO:optuna.study.study:Trial 0 finished with value: -0.051862075600984346 and parameters: {'feature_fraction': 0.6872700594236812, 'num_leaves': 244}. Best is trial 0 with value: -0.051862075600984346.\n"
     ]
    },
    {
     "name": "stdout",
     "output_type": "stream",
     "text": [
      "Wall time: 3min 40s\n"
     ]
    }
   ],
   "source": [
    "%%time\n",
    "train_pred = lama_model.fit_predict(data_lvl_2, roles = roles)"
   ]
  },
  {
   "cell_type": "code",
   "execution_count": 162,
   "metadata": {
    "id": "pBN9MbAHpWeA"
   },
   "outputs": [],
   "source": [
    "train_preds = lama_model.predict(targets_lvl_2.drop('target',axis=1))"
   ]
  },
  {
   "cell_type": "code",
   "execution_count": 163,
   "metadata": {
    "id": "0Iyr0BHSpjM8"
   },
   "outputs": [
    {
     "data": {
      "text/plain": [
       "array([[ 0.35238102],\n",
       "       [ 0.16125195],\n",
       "       [ 0.4985717 ],\n",
       "       ...,\n",
       "       [ 0.00186583],\n",
       "       [-0.02600814],\n",
       "       [-0.01780427]], dtype=float32)"
      ]
     },
     "execution_count": 163,
     "metadata": {},
     "output_type": "execute_result"
    }
   ],
   "source": [
    "train_preds"
   ]
  },
  {
   "cell_type": "code",
   "execution_count": 164,
   "metadata": {
    "id": "dP6om0LhrUXV"
   },
   "outputs": [],
   "source": [
    "test_preds = lama_model.predict(data_test_2.drop('target',axis=1))\n"
   ]
  },
  {
   "cell_type": "code",
   "execution_count": 165,
   "metadata": {
    "id": "unlAlP3OPxwe"
   },
   "outputs": [],
   "source": [
    "test_preds = test_preds.data"
   ]
  },
  {
   "cell_type": "code",
   "execution_count": 166,
   "metadata": {
    "id": "xPdNx6PHKDG6"
   },
   "outputs": [
    {
     "data": {
      "text/html": [
       "<div>\n",
       "<style scoped>\n",
       "    .dataframe tbody tr th:only-of-type {\n",
       "        vertical-align: middle;\n",
       "    }\n",
       "\n",
       "    .dataframe tbody tr th {\n",
       "        vertical-align: top;\n",
       "    }\n",
       "\n",
       "    .dataframe thead th {\n",
       "        text-align: right;\n",
       "    }\n",
       "</style>\n",
       "<table border=\"1\" class=\"dataframe\">\n",
       "  <thead>\n",
       "    <tr style=\"text-align: right;\">\n",
       "      <th></th>\n",
       "      <th>user_id</th>\n",
       "      <th>actual</th>\n",
       "      <th>recomendations</th>\n",
       "    </tr>\n",
       "  </thead>\n",
       "  <tbody>\n",
       "    <tr>\n",
       "      <th>0</th>\n",
       "      <td>1</td>\n",
       "      <td>[821867, 834484, 856942, 865456, 889248, 90795...</td>\n",
       "      <td>[5577022, 979707, 9297615, 9297615, 7409918]</td>\n",
       "    </tr>\n",
       "    <tr>\n",
       "      <th>1</th>\n",
       "      <td>3</td>\n",
       "      <td>[835476, 851057, 872021, 878302, 879948, 90963...</td>\n",
       "      <td>[1106523, 13842214, 1055646, 962229, 1092026]</td>\n",
       "    </tr>\n",
       "    <tr>\n",
       "      <th>2</th>\n",
       "      <td>6</td>\n",
       "      <td>[920308, 926804, 946489, 1006718, 1017061, 107...</td>\n",
       "      <td>[1037863, 1037863, 1037863, 845208, 970030]</td>\n",
       "    </tr>\n",
       "    <tr>\n",
       "      <th>3</th>\n",
       "      <td>7</td>\n",
       "      <td>[840386, 889774, 898068, 909714, 929067, 95347...</td>\n",
       "      <td>[1106523, 1133018, 1058997, 12301100, 995965]</td>\n",
       "    </tr>\n",
       "    <tr>\n",
       "      <th>4</th>\n",
       "      <td>8</td>\n",
       "      <td>[835098, 872137, 910439, 924610, 992977, 10412...</td>\n",
       "      <td>[1044078, 1092026, 1106523, 1133018, 1105301]</td>\n",
       "    </tr>\n",
       "    <tr>\n",
       "      <th>...</th>\n",
       "      <td>...</td>\n",
       "      <td>...</td>\n",
       "      <td>...</td>\n",
       "    </tr>\n",
       "    <tr>\n",
       "      <th>2036</th>\n",
       "      <td>2496</td>\n",
       "      <td>[6534178]</td>\n",
       "      <td>[1106523, 1106523, 826249, 995785, 1133018]</td>\n",
       "    </tr>\n",
       "    <tr>\n",
       "      <th>2037</th>\n",
       "      <td>2497</td>\n",
       "      <td>[1016709, 9835695, 1132298, 16809501, 845294, ...</td>\n",
       "      <td>[1055646, 970202, 995785, 995785, 1040807]</td>\n",
       "    </tr>\n",
       "    <tr>\n",
       "      <th>2038</th>\n",
       "      <td>2498</td>\n",
       "      <td>[15716530, 834484, 901776, 914190, 958382, 972...</td>\n",
       "      <td>[1092026, 5568378, 879635, 1065593, 9297615]</td>\n",
       "    </tr>\n",
       "    <tr>\n",
       "      <th>2039</th>\n",
       "      <td>2499</td>\n",
       "      <td>[867188, 877580, 902396, 914190, 951590, 95813...</td>\n",
       "      <td>[5568378, 5568378, 5568378, 5568378, 899624]</td>\n",
       "    </tr>\n",
       "    <tr>\n",
       "      <th>2040</th>\n",
       "      <td>2500</td>\n",
       "      <td>[852182, 856345, 923746, 948670, 1018007, 1044...</td>\n",
       "      <td>[1058997, 1058997, 979707, 1126899, 826249]</td>\n",
       "    </tr>\n",
       "  </tbody>\n",
       "</table>\n",
       "<p>2041 rows × 3 columns</p>\n",
       "</div>"
      ],
      "text/plain": [
       "      user_id                                             actual  \\\n",
       "0           1  [821867, 834484, 856942, 865456, 889248, 90795...   \n",
       "1           3  [835476, 851057, 872021, 878302, 879948, 90963...   \n",
       "2           6  [920308, 926804, 946489, 1006718, 1017061, 107...   \n",
       "3           7  [840386, 889774, 898068, 909714, 929067, 95347...   \n",
       "4           8  [835098, 872137, 910439, 924610, 992977, 10412...   \n",
       "...       ...                                                ...   \n",
       "2036     2496                                          [6534178]   \n",
       "2037     2497  [1016709, 9835695, 1132298, 16809501, 845294, ...   \n",
       "2038     2498  [15716530, 834484, 901776, 914190, 958382, 972...   \n",
       "2039     2499  [867188, 877580, 902396, 914190, 951590, 95813...   \n",
       "2040     2500  [852182, 856345, 923746, 948670, 1018007, 1044...   \n",
       "\n",
       "                                     recomendations  \n",
       "0      [5577022, 979707, 9297615, 9297615, 7409918]  \n",
       "1     [1106523, 13842214, 1055646, 962229, 1092026]  \n",
       "2       [1037863, 1037863, 1037863, 845208, 970030]  \n",
       "3     [1106523, 1133018, 1058997, 12301100, 995965]  \n",
       "4     [1044078, 1092026, 1106523, 1133018, 1105301]  \n",
       "...                                             ...  \n",
       "2036    [1106523, 1106523, 826249, 995785, 1133018]  \n",
       "2037     [1055646, 970202, 995785, 995785, 1040807]  \n",
       "2038   [1092026, 5568378, 879635, 1065593, 9297615]  \n",
       "2039   [5568378, 5568378, 5568378, 5568378, 899624]  \n",
       "2040    [1058997, 1058997, 979707, 1126899, 826249]  \n",
       "\n",
       "[2041 rows x 3 columns]"
      ]
     },
     "execution_count": 166,
     "metadata": {},
     "output_type": "execute_result"
    }
   ],
   "source": [
    "result_test_2 = get_recomendations(data_test_2, test_preds, data_val_lvl_2)\n",
    "result_test_2"
   ]
  },
  {
   "cell_type": "code",
   "execution_count": 167,
   "metadata": {
    "id": "7JgdKvdmYY2I"
   },
   "outputs": [
    {
     "data": {
      "text/plain": [
       "0.1521803037726585"
      ]
     },
     "execution_count": 167,
     "metadata": {},
     "output_type": "execute_result"
    }
   ],
   "source": [
    "result_test_2.apply(lambda row: precision_at_k(row['recomendations'], row['actual'], k=5), axis=1).mean()"
   ]
  },
  {
   "cell_type": "code",
   "execution_count": 157,
   "metadata": {
    "id": "tt13Ym-kZLCb"
   },
   "outputs": [],
   "source": [
    "result_test_2.to_csv('recomendations_als.csv')"
   ]
  },
  {
   "cell_type": "code",
   "execution_count": null,
   "metadata": {
    "id": "OMEEb9kgvyqL"
   },
   "outputs": [],
   "source": []
  }
 ],
 "metadata": {
  "accelerator": "GPU",
  "colab": {
   "collapsed_sections": [],
   "name": "Course_project.ipynb",
   "provenance": []
  },
  "kernelspec": {
   "display_name": "Python 3",
   "language": "python",
   "name": "python3"
  },
  "language_info": {
   "codemirror_mode": {
    "name": "ipython",
    "version": 3
   },
   "file_extension": ".py",
   "mimetype": "text/x-python",
   "name": "python",
   "nbconvert_exporter": "python",
   "pygments_lexer": "ipython3",
   "version": "3.8.8"
  },
  "widgets": {
   "application/vnd.jupyter.widget-state+json": {
    "044dcf20bb9241ebb8599a9a707cc7c8": {
     "model_module": "@jupyter-widgets/controls",
     "model_module_version": "1.5.0",
     "model_name": "FloatProgressModel",
     "state": {
      "_dom_classes": [],
      "_model_module": "@jupyter-widgets/controls",
      "_model_module_version": "1.5.0",
      "_model_name": "FloatProgressModel",
      "_view_count": null,
      "_view_module": "@jupyter-widgets/controls",
      "_view_module_version": "1.5.0",
      "_view_name": "ProgressView",
      "bar_style": "success",
      "description": "",
      "description_tooltip": null,
      "layout": "IPY_MODEL_b5d34cfe179b4105896938751223f35b",
      "max": 15,
      "min": 0,
      "orientation": "horizontal",
      "style": "IPY_MODEL_3bc12aa5088a46cba8f7715d28fa0417",
      "value": 15
     }
    },
    "058d6367b6b54c9687594e87cd613ca9": {
     "model_module": "@jupyter-widgets/base",
     "model_module_version": "1.2.0",
     "model_name": "LayoutModel",
     "state": {
      "_model_module": "@jupyter-widgets/base",
      "_model_module_version": "1.2.0",
      "_model_name": "LayoutModel",
      "_view_count": null,
      "_view_module": "@jupyter-widgets/base",
      "_view_module_version": "1.2.0",
      "_view_name": "LayoutView",
      "align_content": null,
      "align_items": null,
      "align_self": null,
      "border": null,
      "bottom": null,
      "display": null,
      "flex": null,
      "flex_flow": null,
      "grid_area": null,
      "grid_auto_columns": null,
      "grid_auto_flow": null,
      "grid_auto_rows": null,
      "grid_column": null,
      "grid_gap": null,
      "grid_row": null,
      "grid_template_areas": null,
      "grid_template_columns": null,
      "grid_template_rows": null,
      "height": null,
      "justify_content": null,
      "justify_items": null,
      "left": null,
      "margin": null,
      "max_height": null,
      "max_width": null,
      "min_height": null,
      "min_width": null,
      "object_fit": null,
      "object_position": null,
      "order": null,
      "overflow": null,
      "overflow_x": null,
      "overflow_y": null,
      "padding": null,
      "right": null,
      "top": null,
      "visibility": null,
      "width": null
     }
    },
    "0733af7e377b4465a6b241caef9fc366": {
     "model_module": "@jupyter-widgets/base",
     "model_module_version": "1.2.0",
     "model_name": "LayoutModel",
     "state": {
      "_model_module": "@jupyter-widgets/base",
      "_model_module_version": "1.2.0",
      "_model_name": "LayoutModel",
      "_view_count": null,
      "_view_module": "@jupyter-widgets/base",
      "_view_module_version": "1.2.0",
      "_view_name": "LayoutView",
      "align_content": null,
      "align_items": null,
      "align_self": null,
      "border": null,
      "bottom": null,
      "display": null,
      "flex": null,
      "flex_flow": null,
      "grid_area": null,
      "grid_auto_columns": null,
      "grid_auto_flow": null,
      "grid_auto_rows": null,
      "grid_column": null,
      "grid_gap": null,
      "grid_row": null,
      "grid_template_areas": null,
      "grid_template_columns": null,
      "grid_template_rows": null,
      "height": null,
      "justify_content": null,
      "justify_items": null,
      "left": null,
      "margin": null,
      "max_height": null,
      "max_width": null,
      "min_height": null,
      "min_width": null,
      "object_fit": null,
      "object_position": null,
      "order": null,
      "overflow": null,
      "overflow_x": null,
      "overflow_y": null,
      "padding": null,
      "right": null,
      "top": null,
      "visibility": null,
      "width": null
     }
    },
    "20f32d141ce74eaaa967cfcf91b8684b": {
     "model_module": "@jupyter-widgets/controls",
     "model_module_version": "1.5.0",
     "model_name": "ProgressStyleModel",
     "state": {
      "_model_module": "@jupyter-widgets/controls",
      "_model_module_version": "1.5.0",
      "_model_name": "ProgressStyleModel",
      "_view_count": null,
      "_view_module": "@jupyter-widgets/base",
      "_view_module_version": "1.2.0",
      "_view_name": "StyleView",
      "bar_color": null,
      "description_width": ""
     }
    },
    "24a3f6f97f73400598397bc0e371f16f": {
     "model_module": "@jupyter-widgets/controls",
     "model_module_version": "1.5.0",
     "model_name": "HBoxModel",
     "state": {
      "_dom_classes": [],
      "_model_module": "@jupyter-widgets/controls",
      "_model_module_version": "1.5.0",
      "_model_name": "HBoxModel",
      "_view_count": null,
      "_view_module": "@jupyter-widgets/controls",
      "_view_module_version": "1.5.0",
      "_view_name": "HBoxView",
      "box_style": "",
      "children": [
       "IPY_MODEL_6d336e863a69439aa254bf3a02e14165",
       "IPY_MODEL_044dcf20bb9241ebb8599a9a707cc7c8",
       "IPY_MODEL_fbb9fbe5e54f4b278fcdd0d1b564c1b8"
      ],
      "layout": "IPY_MODEL_dff84a48818242a0aa16f60fe7c9ed65"
     }
    },
    "2b22eebdce104daea911b938c0210b53": {
     "model_module": "@jupyter-widgets/controls",
     "model_module_version": "1.5.0",
     "model_name": "HTMLModel",
     "state": {
      "_dom_classes": [],
      "_model_module": "@jupyter-widgets/controls",
      "_model_module_version": "1.5.0",
      "_model_name": "HTMLModel",
      "_view_count": null,
      "_view_module": "@jupyter-widgets/controls",
      "_view_module_version": "1.5.0",
      "_view_name": "HTMLView",
      "description": "",
      "description_tooltip": null,
      "layout": "IPY_MODEL_7d0ec67f79444522ab5faf43cf4a0203",
      "placeholder": "​",
      "style": "IPY_MODEL_d634639ed03e44778e5946277a01bc47",
      "value": "100%"
     }
    },
    "36d64ba692654882bc821389a32b48f8": {
     "model_module": "@jupyter-widgets/controls",
     "model_module_version": "1.5.0",
     "model_name": "HTMLModel",
     "state": {
      "_dom_classes": [],
      "_model_module": "@jupyter-widgets/controls",
      "_model_module_version": "1.5.0",
      "_model_name": "HTMLModel",
      "_view_count": null,
      "_view_module": "@jupyter-widgets/controls",
      "_view_module_version": "1.5.0",
      "_view_name": "HTMLView",
      "description": "",
      "description_tooltip": null,
      "layout": "IPY_MODEL_5e3a4911486e4d9da76b5ab263a5e150",
      "placeholder": "​",
      "style": "IPY_MODEL_def09d5f25c94f4e8f50e9f3e66012d8",
      "value": " 5001/5001 [00:01&lt;00:00, 5020.15it/s]"
     }
    },
    "3bc12aa5088a46cba8f7715d28fa0417": {
     "model_module": "@jupyter-widgets/controls",
     "model_module_version": "1.5.0",
     "model_name": "ProgressStyleModel",
     "state": {
      "_model_module": "@jupyter-widgets/controls",
      "_model_module_version": "1.5.0",
      "_model_name": "ProgressStyleModel",
      "_view_count": null,
      "_view_module": "@jupyter-widgets/base",
      "_view_module_version": "1.2.0",
      "_view_name": "StyleView",
      "bar_color": null,
      "description_width": ""
     }
    },
    "4aa9c5d051494428ab39980d4d6d9e99": {
     "model_module": "@jupyter-widgets/controls",
     "model_module_version": "1.5.0",
     "model_name": "HBoxModel",
     "state": {
      "_dom_classes": [],
      "_model_module": "@jupyter-widgets/controls",
      "_model_module_version": "1.5.0",
      "_model_name": "HBoxModel",
      "_view_count": null,
      "_view_module": "@jupyter-widgets/controls",
      "_view_module_version": "1.5.0",
      "_view_name": "HBoxView",
      "box_style": "",
      "children": [
       "IPY_MODEL_2b22eebdce104daea911b938c0210b53",
       "IPY_MODEL_b2202a58a92f48e284d565c31b366ead",
       "IPY_MODEL_36d64ba692654882bc821389a32b48f8"
      ],
      "layout": "IPY_MODEL_0733af7e377b4465a6b241caef9fc366"
     }
    },
    "5e3a4911486e4d9da76b5ab263a5e150": {
     "model_module": "@jupyter-widgets/base",
     "model_module_version": "1.2.0",
     "model_name": "LayoutModel",
     "state": {
      "_model_module": "@jupyter-widgets/base",
      "_model_module_version": "1.2.0",
      "_model_name": "LayoutModel",
      "_view_count": null,
      "_view_module": "@jupyter-widgets/base",
      "_view_module_version": "1.2.0",
      "_view_name": "LayoutView",
      "align_content": null,
      "align_items": null,
      "align_self": null,
      "border": null,
      "bottom": null,
      "display": null,
      "flex": null,
      "flex_flow": null,
      "grid_area": null,
      "grid_auto_columns": null,
      "grid_auto_flow": null,
      "grid_auto_rows": null,
      "grid_column": null,
      "grid_gap": null,
      "grid_row": null,
      "grid_template_areas": null,
      "grid_template_columns": null,
      "grid_template_rows": null,
      "height": null,
      "justify_content": null,
      "justify_items": null,
      "left": null,
      "margin": null,
      "max_height": null,
      "max_width": null,
      "min_height": null,
      "min_width": null,
      "object_fit": null,
      "object_position": null,
      "order": null,
      "overflow": null,
      "overflow_x": null,
      "overflow_y": null,
      "padding": null,
      "right": null,
      "top": null,
      "visibility": null,
      "width": null
     }
    },
    "6d336e863a69439aa254bf3a02e14165": {
     "model_module": "@jupyter-widgets/controls",
     "model_module_version": "1.5.0",
     "model_name": "HTMLModel",
     "state": {
      "_dom_classes": [],
      "_model_module": "@jupyter-widgets/controls",
      "_model_module_version": "1.5.0",
      "_model_name": "HTMLModel",
      "_view_count": null,
      "_view_module": "@jupyter-widgets/controls",
      "_view_module_version": "1.5.0",
      "_view_name": "HTMLView",
      "description": "",
      "description_tooltip": null,
      "layout": "IPY_MODEL_058d6367b6b54c9687594e87cd613ca9",
      "placeholder": "​",
      "style": "IPY_MODEL_6e49065ed2ac411e9002eeb3bd083cb6",
      "value": "100%"
     }
    },
    "6e49065ed2ac411e9002eeb3bd083cb6": {
     "model_module": "@jupyter-widgets/controls",
     "model_module_version": "1.5.0",
     "model_name": "DescriptionStyleModel",
     "state": {
      "_model_module": "@jupyter-widgets/controls",
      "_model_module_version": "1.5.0",
      "_model_name": "DescriptionStyleModel",
      "_view_count": null,
      "_view_module": "@jupyter-widgets/base",
      "_view_module_version": "1.2.0",
      "_view_name": "StyleView",
      "description_width": ""
     }
    },
    "7d0ec67f79444522ab5faf43cf4a0203": {
     "model_module": "@jupyter-widgets/base",
     "model_module_version": "1.2.0",
     "model_name": "LayoutModel",
     "state": {
      "_model_module": "@jupyter-widgets/base",
      "_model_module_version": "1.2.0",
      "_model_name": "LayoutModel",
      "_view_count": null,
      "_view_module": "@jupyter-widgets/base",
      "_view_module_version": "1.2.0",
      "_view_name": "LayoutView",
      "align_content": null,
      "align_items": null,
      "align_self": null,
      "border": null,
      "bottom": null,
      "display": null,
      "flex": null,
      "flex_flow": null,
      "grid_area": null,
      "grid_auto_columns": null,
      "grid_auto_flow": null,
      "grid_auto_rows": null,
      "grid_column": null,
      "grid_gap": null,
      "grid_row": null,
      "grid_template_areas": null,
      "grid_template_columns": null,
      "grid_template_rows": null,
      "height": null,
      "justify_content": null,
      "justify_items": null,
      "left": null,
      "margin": null,
      "max_height": null,
      "max_width": null,
      "min_height": null,
      "min_width": null,
      "object_fit": null,
      "object_position": null,
      "order": null,
      "overflow": null,
      "overflow_x": null,
      "overflow_y": null,
      "padding": null,
      "right": null,
      "top": null,
      "visibility": null,
      "width": null
     }
    },
    "b2202a58a92f48e284d565c31b366ead": {
     "model_module": "@jupyter-widgets/controls",
     "model_module_version": "1.5.0",
     "model_name": "FloatProgressModel",
     "state": {
      "_dom_classes": [],
      "_model_module": "@jupyter-widgets/controls",
      "_model_module_version": "1.5.0",
      "_model_name": "FloatProgressModel",
      "_view_count": null,
      "_view_module": "@jupyter-widgets/controls",
      "_view_module_version": "1.5.0",
      "_view_name": "ProgressView",
      "bar_style": "success",
      "description": "",
      "description_tooltip": null,
      "layout": "IPY_MODEL_e71dfa4d9e2c4bfb8a020de6967f5f14",
      "max": 5001,
      "min": 0,
      "orientation": "horizontal",
      "style": "IPY_MODEL_20f32d141ce74eaaa967cfcf91b8684b",
      "value": 5001
     }
    },
    "b5d34cfe179b4105896938751223f35b": {
     "model_module": "@jupyter-widgets/base",
     "model_module_version": "1.2.0",
     "model_name": "LayoutModel",
     "state": {
      "_model_module": "@jupyter-widgets/base",
      "_model_module_version": "1.2.0",
      "_model_name": "LayoutModel",
      "_view_count": null,
      "_view_module": "@jupyter-widgets/base",
      "_view_module_version": "1.2.0",
      "_view_name": "LayoutView",
      "align_content": null,
      "align_items": null,
      "align_self": null,
      "border": null,
      "bottom": null,
      "display": null,
      "flex": null,
      "flex_flow": null,
      "grid_area": null,
      "grid_auto_columns": null,
      "grid_auto_flow": null,
      "grid_auto_rows": null,
      "grid_column": null,
      "grid_gap": null,
      "grid_row": null,
      "grid_template_areas": null,
      "grid_template_columns": null,
      "grid_template_rows": null,
      "height": null,
      "justify_content": null,
      "justify_items": null,
      "left": null,
      "margin": null,
      "max_height": null,
      "max_width": null,
      "min_height": null,
      "min_width": null,
      "object_fit": null,
      "object_position": null,
      "order": null,
      "overflow": null,
      "overflow_x": null,
      "overflow_y": null,
      "padding": null,
      "right": null,
      "top": null,
      "visibility": null,
      "width": null
     }
    },
    "d634639ed03e44778e5946277a01bc47": {
     "model_module": "@jupyter-widgets/controls",
     "model_module_version": "1.5.0",
     "model_name": "DescriptionStyleModel",
     "state": {
      "_model_module": "@jupyter-widgets/controls",
      "_model_module_version": "1.5.0",
      "_model_name": "DescriptionStyleModel",
      "_view_count": null,
      "_view_module": "@jupyter-widgets/base",
      "_view_module_version": "1.2.0",
      "_view_name": "StyleView",
      "description_width": ""
     }
    },
    "def09d5f25c94f4e8f50e9f3e66012d8": {
     "model_module": "@jupyter-widgets/controls",
     "model_module_version": "1.5.0",
     "model_name": "DescriptionStyleModel",
     "state": {
      "_model_module": "@jupyter-widgets/controls",
      "_model_module_version": "1.5.0",
      "_model_name": "DescriptionStyleModel",
      "_view_count": null,
      "_view_module": "@jupyter-widgets/base",
      "_view_module_version": "1.2.0",
      "_view_name": "StyleView",
      "description_width": ""
     }
    },
    "dff84a48818242a0aa16f60fe7c9ed65": {
     "model_module": "@jupyter-widgets/base",
     "model_module_version": "1.2.0",
     "model_name": "LayoutModel",
     "state": {
      "_model_module": "@jupyter-widgets/base",
      "_model_module_version": "1.2.0",
      "_model_name": "LayoutModel",
      "_view_count": null,
      "_view_module": "@jupyter-widgets/base",
      "_view_module_version": "1.2.0",
      "_view_name": "LayoutView",
      "align_content": null,
      "align_items": null,
      "align_self": null,
      "border": null,
      "bottom": null,
      "display": null,
      "flex": null,
      "flex_flow": null,
      "grid_area": null,
      "grid_auto_columns": null,
      "grid_auto_flow": null,
      "grid_auto_rows": null,
      "grid_column": null,
      "grid_gap": null,
      "grid_row": null,
      "grid_template_areas": null,
      "grid_template_columns": null,
      "grid_template_rows": null,
      "height": null,
      "justify_content": null,
      "justify_items": null,
      "left": null,
      "margin": null,
      "max_height": null,
      "max_width": null,
      "min_height": null,
      "min_width": null,
      "object_fit": null,
      "object_position": null,
      "order": null,
      "overflow": null,
      "overflow_x": null,
      "overflow_y": null,
      "padding": null,
      "right": null,
      "top": null,
      "visibility": null,
      "width": null
     }
    },
    "e350977433f0406693bcddec8ca12eb8": {
     "model_module": "@jupyter-widgets/controls",
     "model_module_version": "1.5.0",
     "model_name": "DescriptionStyleModel",
     "state": {
      "_model_module": "@jupyter-widgets/controls",
      "_model_module_version": "1.5.0",
      "_model_name": "DescriptionStyleModel",
      "_view_count": null,
      "_view_module": "@jupyter-widgets/base",
      "_view_module_version": "1.2.0",
      "_view_name": "StyleView",
      "description_width": ""
     }
    },
    "e71dfa4d9e2c4bfb8a020de6967f5f14": {
     "model_module": "@jupyter-widgets/base",
     "model_module_version": "1.2.0",
     "model_name": "LayoutModel",
     "state": {
      "_model_module": "@jupyter-widgets/base",
      "_model_module_version": "1.2.0",
      "_model_name": "LayoutModel",
      "_view_count": null,
      "_view_module": "@jupyter-widgets/base",
      "_view_module_version": "1.2.0",
      "_view_name": "LayoutView",
      "align_content": null,
      "align_items": null,
      "align_self": null,
      "border": null,
      "bottom": null,
      "display": null,
      "flex": null,
      "flex_flow": null,
      "grid_area": null,
      "grid_auto_columns": null,
      "grid_auto_flow": null,
      "grid_auto_rows": null,
      "grid_column": null,
      "grid_gap": null,
      "grid_row": null,
      "grid_template_areas": null,
      "grid_template_columns": null,
      "grid_template_rows": null,
      "height": null,
      "justify_content": null,
      "justify_items": null,
      "left": null,
      "margin": null,
      "max_height": null,
      "max_width": null,
      "min_height": null,
      "min_width": null,
      "object_fit": null,
      "object_position": null,
      "order": null,
      "overflow": null,
      "overflow_x": null,
      "overflow_y": null,
      "padding": null,
      "right": null,
      "top": null,
      "visibility": null,
      "width": null
     }
    },
    "ef5e39a27e0f4309bd17e3b552ae0e2d": {
     "model_module": "@jupyter-widgets/base",
     "model_module_version": "1.2.0",
     "model_name": "LayoutModel",
     "state": {
      "_model_module": "@jupyter-widgets/base",
      "_model_module_version": "1.2.0",
      "_model_name": "LayoutModel",
      "_view_count": null,
      "_view_module": "@jupyter-widgets/base",
      "_view_module_version": "1.2.0",
      "_view_name": "LayoutView",
      "align_content": null,
      "align_items": null,
      "align_self": null,
      "border": null,
      "bottom": null,
      "display": null,
      "flex": null,
      "flex_flow": null,
      "grid_area": null,
      "grid_auto_columns": null,
      "grid_auto_flow": null,
      "grid_auto_rows": null,
      "grid_column": null,
      "grid_gap": null,
      "grid_row": null,
      "grid_template_areas": null,
      "grid_template_columns": null,
      "grid_template_rows": null,
      "height": null,
      "justify_content": null,
      "justify_items": null,
      "left": null,
      "margin": null,
      "max_height": null,
      "max_width": null,
      "min_height": null,
      "min_width": null,
      "object_fit": null,
      "object_position": null,
      "order": null,
      "overflow": null,
      "overflow_x": null,
      "overflow_y": null,
      "padding": null,
      "right": null,
      "top": null,
      "visibility": null,
      "width": null
     }
    },
    "fbb9fbe5e54f4b278fcdd0d1b564c1b8": {
     "model_module": "@jupyter-widgets/controls",
     "model_module_version": "1.5.0",
     "model_name": "HTMLModel",
     "state": {
      "_dom_classes": [],
      "_model_module": "@jupyter-widgets/controls",
      "_model_module_version": "1.5.0",
      "_model_name": "HTMLModel",
      "_view_count": null,
      "_view_module": "@jupyter-widgets/controls",
      "_view_module_version": "1.5.0",
      "_view_name": "HTMLView",
      "description": "",
      "description_tooltip": null,
      "layout": "IPY_MODEL_ef5e39a27e0f4309bd17e3b552ae0e2d",
      "placeholder": "​",
      "style": "IPY_MODEL_e350977433f0406693bcddec8ca12eb8",
      "value": " 15/15 [07:05&lt;00:00, 31.18s/it]"
     }
    }
   }
  }
 },
 "nbformat": 4,
 "nbformat_minor": 1
}
